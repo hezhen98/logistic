{
 "cells": [
  {
   "cell_type": "code",
   "execution_count": 37,
   "id": "854044e0",
   "metadata": {},
   "outputs": [],
   "source": [
    "from sklearn.linear_model import LogisticRegression as LR\n",
    "from sklearn.datasets import load_breast_cancer\n",
    "import numpy as np\n",
    "import matplotlib.pyplot as plt\n",
    "from sklearn.model_selection import train_test_split\n",
    "from sklearn.metrics import accuracy_score"
   ]
  },
  {
   "cell_type": "code",
   "execution_count": 38,
   "id": "c47c7084",
   "metadata": {},
   "outputs": [],
   "source": [
    "data = load_breast_cancer()"
   ]
  },
  {
   "cell_type": "code",
   "execution_count": 39,
   "id": "79183567",
   "metadata": {},
   "outputs": [],
   "source": [
    "x = data.data\n",
    "y = data.target"
   ]
  },
  {
   "cell_type": "code",
   "execution_count": 40,
   "id": "8e59748f",
   "metadata": {},
   "outputs": [
    {
     "data": {
      "text/plain": [
       "(569, 30)"
      ]
     },
     "execution_count": 40,
     "metadata": {},
     "output_type": "execute_result"
    }
   ],
   "source": [
    "x.shape"
   ]
  },
  {
   "cell_type": "code",
   "execution_count": 41,
   "id": "ee23685e",
   "metadata": {},
   "outputs": [],
   "source": [
    "lrl1 = LR(penalty = 'l1',C=0.5,solver='liblinear',max_iter=1000)"
   ]
  },
  {
   "cell_type": "code",
   "execution_count": 42,
   "id": "b6ea6634",
   "metadata": {},
   "outputs": [],
   "source": [
    "lrl2 = LR(penalty = 'l2',C=0.5,solver='liblinear',max_iter=1000)"
   ]
  },
  {
   "cell_type": "code",
   "execution_count": 43,
   "id": "4fd247e1",
   "metadata": {},
   "outputs": [],
   "source": [
    "lrl1 = lrl1.fit(x,y)"
   ]
  },
  {
   "cell_type": "code",
   "execution_count": 44,
   "id": "587d3663",
   "metadata": {},
   "outputs": [
    {
     "data": {
      "text/plain": [
       "array([[ 3.98904499,  0.03161525, -0.13549734, -0.01621455,  0.        ,\n",
       "         0.        ,  0.        ,  0.        ,  0.        ,  0.        ,\n",
       "         0.        ,  0.50365648,  0.        , -0.07124813,  0.        ,\n",
       "         0.        ,  0.        ,  0.        ,  0.        ,  0.        ,\n",
       "         0.        , -0.24540206, -0.1284485 , -0.01441558,  0.        ,\n",
       "         0.        , -2.05275922,  0.        ,  0.        ,  0.        ]])"
      ]
     },
     "execution_count": 44,
     "metadata": {},
     "output_type": "execute_result"
    }
   ],
   "source": [
    "lrl1.coef_"
   ]
  },
  {
   "cell_type": "code",
   "execution_count": 45,
   "id": "edcc98db",
   "metadata": {},
   "outputs": [
    {
     "data": {
      "text/plain": [
       "array([10])"
      ]
     },
     "execution_count": 45,
     "metadata": {},
     "output_type": "execute_result"
    }
   ],
   "source": [
    "(lrl1.coef_!=0).sum(axis=1)"
   ]
  },
  {
   "cell_type": "code",
   "execution_count": 46,
   "id": "aee8646c",
   "metadata": {},
   "outputs": [
    {
     "data": {
      "text/plain": [
       "LogisticRegression(C=0.5, max_iter=1000, solver='liblinear')"
      ]
     },
     "execution_count": 46,
     "metadata": {},
     "output_type": "execute_result"
    }
   ],
   "source": [
    "lrl2.fit(x,y)"
   ]
  },
  {
   "cell_type": "code",
   "execution_count": 47,
   "id": "f78d5b4d",
   "metadata": {},
   "outputs": [
    {
     "data": {
      "text/plain": [
       "array([[ 1.61543234e+00,  1.02284415e-01,  4.78483684e-02,\n",
       "        -4.43927107e-03, -9.42247882e-02, -3.01420673e-01,\n",
       "        -4.56065677e-01, -2.22346063e-01, -1.35660484e-01,\n",
       "        -1.93917198e-02,  1.61646580e-02,  8.84531037e-01,\n",
       "         1.20301273e-01, -9.47422278e-02, -9.81687769e-03,\n",
       "        -2.37399092e-02, -5.71846204e-02, -2.70190106e-02,\n",
       "        -2.77563737e-02,  1.98122260e-04,  1.26394730e+00,\n",
       "        -3.01762592e-01, -1.72784162e-01, -2.21786411e-02,\n",
       "        -1.73339657e-01, -8.79070550e-01, -1.16325561e+00,\n",
       "        -4.27661014e-01, -4.20612369e-01, -8.69820058e-02]])"
      ]
     },
     "execution_count": 47,
     "metadata": {},
     "output_type": "execute_result"
    }
   ],
   "source": [
    "lrl2.coef_"
   ]
  },
  {
   "cell_type": "code",
   "execution_count": 48,
   "id": "e79bbd03",
   "metadata": {},
   "outputs": [
    {
     "data": {
      "text/plain": [
       "array([30])"
      ]
     },
     "execution_count": 48,
     "metadata": {},
     "output_type": "execute_result"
    }
   ],
   "source": [
    "(lrl2.coef_!=0).sum(axis=1)"
   ]
  },
  {
   "cell_type": "code",
   "execution_count": 49,
   "id": "b17972ab",
   "metadata": {},
   "outputs": [],
   "source": [
    "l1 = []\n",
    "l2 = []\n",
    "l1test = []\n",
    "l2test = []\n",
    "x_train,x_test,y_train,y_test = train_test_split(x,y,test_size=0.3,random_state=420)"
   ]
  },
  {
   "cell_type": "code",
   "execution_count": 50,
   "id": "20ca52c4",
   "metadata": {},
   "outputs": [],
   "source": [
    "for i in np.linspace(0.05,1,19):\n",
    "    lrl1 = LR(penalty='l1',C=i,solver='liblinear',max_iter=1000)\n",
    "    lrl2 = LR(penalty='l2',C=i,solver='liblinear',max_iter=1000)\n",
    "    lrl1.fit(x_train,y_train)\n",
    "    l1.append(accuracy_score(lrl1.predict(x_train),y_train))\n",
    "    l1test.append(accuracy_score(lrl1.predict(x_test),y_test))\n",
    "    lrl2.fit(x_train,y_train)\n",
    "    l2.append(accuracy_score(lrl2.predict(x_train),y_train))\n",
    "    l2test.append(accuracy_score(lrl2.predict(x_test),y_test))    \n"
   ]
  },
  {
   "cell_type": "code",
   "execution_count": 51,
   "id": "a640542e",
   "metadata": {},
   "outputs": [
    {
     "data": {
      "text/plain": [
       "[0.9422110552763819,\n",
       " 0.9447236180904522,\n",
       " 0.9597989949748744,\n",
       " 0.9597989949748744,\n",
       " 0.9597989949748744,\n",
       " 0.964824120603015,\n",
       " 0.9623115577889447,\n",
       " 0.9623115577889447,\n",
       " 0.9597989949748744,\n",
       " 0.9597989949748744,\n",
       " 0.9623115577889447,\n",
       " 0.964824120603015,\n",
       " 0.9673366834170855,\n",
       " 0.9673366834170855,\n",
       " 0.9698492462311558,\n",
       " 0.9698492462311558,\n",
       " 0.9698492462311558,\n",
       " 0.9698492462311558,\n",
       " 0.9698492462311558]"
      ]
     },
     "execution_count": 51,
     "metadata": {},
     "output_type": "execute_result"
    }
   ],
   "source": [
    "l1"
   ]
  },
  {
   "cell_type": "code",
   "execution_count": 52,
   "id": "cfba5f27",
   "metadata": {},
   "outputs": [],
   "source": [
    "graph = [l1,l2,l1test,l2test]\n",
    "color = [\"green\",\"black\",\"lightgreen\",'gray']\n",
    "label = [\"l1\",\"l2\",\"l1test\",\"l2test\"]\n"
   ]
  },
  {
   "cell_type": "code",
   "execution_count": 54,
   "id": "b1d20a35",
   "metadata": {},
   "outputs": [
    {
     "name": "stdout",
     "output_type": "stream",
     "text": [
      "0 [0.9422110552763819, 0.9447236180904522, 0.9597989949748744, 0.9597989949748744, 0.9597989949748744, 0.964824120603015, 0.9623115577889447, 0.9623115577889447, 0.9597989949748744, 0.9597989949748744, 0.9623115577889447, 0.964824120603015, 0.9673366834170855, 0.9673366834170855, 0.9698492462311558, 0.9698492462311558, 0.9698492462311558, 0.9698492462311558, 0.9698492462311558]\n",
      "1 [0.9597989949748744, 0.9547738693467337, 0.957286432160804, 0.957286432160804, 0.957286432160804, 0.957286432160804, 0.9547738693467337, 0.9623115577889447, 0.9673366834170855, 0.964824120603015, 0.964824120603015, 0.964824120603015, 0.9673366834170855, 0.9698492462311558, 0.9698492462311558, 0.9698492462311558, 0.9723618090452262, 0.9723618090452262, 0.9723618090452262]\n",
      "2 [0.9122807017543859, 0.9239766081871345, 0.9298245614035088, 0.9239766081871345, 0.9239766081871345, 0.9239766081871345, 0.9181286549707602, 0.9239766081871345, 0.9239766081871345, 0.9298245614035088, 0.9298245614035088, 0.9298245614035088, 0.9298245614035088, 0.9298245614035088, 0.9298245614035088, 0.9298245614035088, 0.9298245614035088, 0.9298245614035088, 0.9298245614035088]\n",
      "3 [0.9298245614035088, 0.9298245614035088, 0.9181286549707602, 0.9239766081871345, 0.9239766081871345, 0.9239766081871345, 0.9239766081871345, 0.9298245614035088, 0.9298245614035088, 0.9298245614035088, 0.9298245614035088, 0.935672514619883, 0.935672514619883, 0.935672514619883, 0.935672514619883, 0.935672514619883, 0.9298245614035088, 0.9298245614035088, 0.9298245614035088]\n"
     ]
    },
    {
     "data": {
      "image/png": "[encoded data removed]",
      "text/plain": [
       "<Figure size 432x432 with 1 Axes>"
      ]
     },
     "metadata": {
      "needs_background": "light"
     },
     "output_type": "display_data"
    }
   ],
   "source": [
    "plt.figure(figsize=(6,6))\n",
    "for i in range(len(graph)):\n",
    "    plt.plot(np.linspace(0.05,1,19),graph[i],color[i],label = label[i])\n",
    "    print(i,graph[i])\n",
    "plt.legend(loc = 4)\n",
    "plt.show()"
   ]
  },
  {
   "cell_type": "code",
   "execution_count": 55,
   "id": "e2f9469a",
   "metadata": {},
   "outputs": [
    {
     "data": {
      "image/png": "[encoded data removed]",
      "text/plain": [
       "<Figure size 432x432 with 1 Axes>"
      ]
     },
     "metadata": {
      "needs_background": "light"
     },
     "output_type": "display_data"
    }
   ],
   "source": [
    "graph = [l1,l2,l1test,l2test]\n",
    "color = [\"green\",\"black\",\"lightgreen\",'gray']\n",
    "label = [\"l1\",\"l2\",\"l1test\",\"l2test\"]\n",
    "plt.figure(figsize=(6,6))\n",
    "for i in range(len(graph)):\n",
    "    plt.plot(np.linspace(0.5,1,19),graph[i],color[i],label = label[i])\n",
    "plt.show()"
   ]
  },
  {
   "cell_type": "code",
   "execution_count": 56,
   "id": "2c50050c",
   "metadata": {},
   "outputs": [],
   "source": [
    "from sklearn.model_selection import cross_val_score\n",
    "from sklearn.feature_selection import SelectFromModel"
   ]
  },
  {
   "cell_type": "code",
   "execution_count": 57,
   "id": "02c36e81",
   "metadata": {},
   "outputs": [],
   "source": [
    "LR_ = LR(solver='liblinear',C = 0.9,random_state=420)"
   ]
  },
  {
   "cell_type": "code",
   "execution_count": 58,
   "id": "be6ee3d0",
   "metadata": {},
   "outputs": [
    {
     "data": {
      "text/plain": [
       "0.9490601503759398"
      ]
     },
     "execution_count": 58,
     "metadata": {},
     "output_type": "execute_result"
    }
   ],
   "source": [
    "cross_val_score(LR_,data.data,data.target,cv=10).mean()"
   ]
  },
  {
   "cell_type": "code",
   "execution_count": 59,
   "id": "823401ea",
   "metadata": {},
   "outputs": [],
   "source": [
    "x_embedded = SelectFromModel(LR_,norm_order=1).fit_transform(data.data,data.target)"
   ]
  },
  {
   "cell_type": "code",
   "execution_count": 60,
   "id": "a83e78d7",
   "metadata": {},
   "outputs": [
    {
     "data": {
      "text/plain": [
       "(569, 9)"
      ]
     },
     "execution_count": 60,
     "metadata": {},
     "output_type": "execute_result"
    }
   ],
   "source": [
    "x_embedded.shape"
   ]
  },
  {
   "cell_type": "code",
   "execution_count": 64,
   "id": "98bbf497",
   "metadata": {},
   "outputs": [],
   "source": [
    "threshold = np.linspace(0,abs(LR_.fit(data.data,data.target).coef_).max(),20)"
   ]
  },
  {
   "cell_type": "code",
   "execution_count": 74,
   "id": "c7eb2a12",
   "metadata": {},
   "outputs": [
    {
     "data": {
      "image/png": "[encoded data removed]",
      "text/plain": [
       "<Figure size 432x432 with 1 Axes>"
      ]
     },
     "metadata": {
      "needs_background": "light"
     },
     "output_type": "display_data"
    }
   ],
   "source": [
    "l1 = []\n",
    "l2 = []\n",
    "lfull = []\n",
    "lembed = []\n",
    "\n",
    "for i in threshold:\n",
    "    x_embedded = SelectFromModel(LR_,threshold = i,norm_order=1).fit_transform(data.data,data.target)\n",
    "    lfull.append(cross_val_score(LR_,data.data,data.target,cv=10).mean())\n",
    "    lembed.append(cross_val_score(LR_,x_embedded,data.target,cv=10).mean())\n",
    "    LR_.fit(x_embedded,data.target)\n",
    "    l1.append(accuracy_score(LR_.predict(x_embedded),data.target))\n",
    "    LR_.fit(data.data,data.target)\n",
    "    l2.append(accuracy_score(LR_.predict(data.data),data.target))\n",
    "graph = [lfull,lembed,l1,l2]\n",
    "plt.figure(figsize=(6,6))\n",
    "color = [\"red\",\"blue\",\"green\",\"yellow\"]\n",
    "label = [\"full_cross_val_score\",\"embed_cross_val_score\",\"embed_accuracy\",\"full_accuracy\"]\n",
    "for i in range(len(graph)):\n",
    "    plt.plot(threshold,graph[i],label=label[i])\n",
    "plt.legend(loc = 4)\n",
    "plt.show()\n"
   ]
  },
  {
   "cell_type": "code",
   "execution_count": null,
   "id": "ce7a23b0",
   "metadata": {},
   "outputs": [],
   "source": [
    "fullx = []\n",
    "fsx = []\n"
   ]
  },
  {
   "cell_type": "code",
   "execution_count": null,
   "id": "beeafbe6",
   "metadata": {},
   "outputs": [],
   "source": []
  }
 ],
 "metadata": {
  "kernelspec": {
   "display_name": "Python 3 (ipykernel)",
   "language": "python",
   "name": "python3"
  },
  "language_info": {
   "codemirror_mode": {
    "name": "ipython",
    "version": 3
   },
   "file_extension": ".py",
   "mimetype": "text/x-python",
   "name": "python",
   "nbconvert_exporter": "python",
   "pygments_lexer": "ipython3",
   "version": "3.9.7"
  }
 },
 "nbformat": 4,
 "nbformat_minor": 5
}
