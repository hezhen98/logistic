{
 "cells": [
  {
   "cell_type": "markdown",
   "source": [
    "# 1.导库，获取数据"
   ],
   "metadata": {
    "collapsed": false
   }
  },
  {
   "cell_type": "code",
   "execution_count": 13,
   "outputs": [],
   "source": [
    "import scorecardpy as sc\n",
    "%matplotlib inline\n",
    "import numpy as np\n",
    "import pandas as pd\n",
    "from sklearn.linear_model import LogisticRegression as LR"
   ],
   "metadata": {
    "collapsed": false
   }
  },
  {
   "cell_type": "code",
   "execution_count": 14,
   "outputs": [],
   "source": [
    "data = pd.read_csv('./data/rankingcard.csv',index_col = 0)"
   ],
   "metadata": {
    "collapsed": false
   }
  },
  {
   "cell_type": "code",
   "execution_count": 15,
   "outputs": [
    {
     "data": {
      "text/plain": "(150000, 11)"
     },
     "execution_count": 15,
     "metadata": {},
     "output_type": "execute_result"
    }
   ],
   "source": [
    "data.shape"
   ],
   "metadata": {
    "collapsed": false
   }
  },
  {
   "cell_type": "code",
   "execution_count": 16,
   "outputs": [
    {
     "data": {
      "text/plain": "   SeriousDlqin2yrs  RevolvingUtilizationOfUnsecuredLines  age  \\\n1                 1                              0.766127   45   \n2                 0                              0.957151   40   \n3                 0                              0.658180   38   \n4                 0                              0.233810   30   \n5                 0                              0.907239   49   \n\n   NumberOfTime30-59DaysPastDueNotWorse  DebtRatio  MonthlyIncome  \\\n1                                     2   0.802982         9120.0   \n2                                     0   0.121876         2600.0   \n3                                     1   0.085113         3042.0   \n4                                     0   0.036050         3300.0   \n5                                     1   0.024926        63588.0   \n\n   NumberOfOpenCreditLinesAndLoans  NumberOfTimes90DaysLate  \\\n1                               13                        0   \n2                                4                        0   \n3                                2                        1   \n4                                5                        0   \n5                                7                        0   \n\n   NumberRealEstateLoansOrLines  NumberOfTime60-89DaysPastDueNotWorse  \\\n1                             6                                     0   \n2                             0                                     0   \n3                             0                                     0   \n4                             0                                     0   \n5                             1                                     0   \n\n   NumberOfDependents  \n1                 2.0  \n2                 1.0  \n3                 0.0  \n4                 0.0  \n5                 0.0  ",
      "text/html": "<div>\n<style scoped>\n    .dataframe tbody tr th:only-of-type {\n        vertical-align: middle;\n    }\n\n    .dataframe tbody tr th {\n        vertical-align: top;\n    }\n\n    .dataframe thead th {\n        text-align: right;\n    }\n</style>\n<table border=\"1\" class=\"dataframe\">\n  <thead>\n    <tr style=\"text-align: right;\">\n      <th></th>\n      <th>SeriousDlqin2yrs</th>\n      <th>RevolvingUtilizationOfUnsecuredLines</th>\n      <th>age</th>\n      <th>NumberOfTime30-59DaysPastDueNotWorse</th>\n      <th>DebtRatio</th>\n      <th>MonthlyIncome</th>\n      <th>NumberOfOpenCreditLinesAndLoans</th>\n      <th>NumberOfTimes90DaysLate</th>\n      <th>NumberRealEstateLoansOrLines</th>\n      <th>NumberOfTime60-89DaysPastDueNotWorse</th>\n      <th>NumberOfDependents</th>\n    </tr>\n  </thead>\n  <tbody>\n    <tr>\n      <th>1</th>\n      <td>1</td>\n      <td>0.766127</td>\n      <td>45</td>\n      <td>2</td>\n      <td>0.802982</td>\n      <td>9120.0</td>\n      <td>13</td>\n      <td>0</td>\n      <td>6</td>\n      <td>0</td>\n      <td>2.0</td>\n    </tr>\n    <tr>\n      <th>2</th>\n      <td>0</td>\n      <td>0.957151</td>\n      <td>40</td>\n      <td>0</td>\n      <td>0.121876</td>\n      <td>2600.0</td>\n      <td>4</td>\n      <td>0</td>\n      <td>0</td>\n      <td>0</td>\n      <td>1.0</td>\n    </tr>\n    <tr>\n      <th>3</th>\n      <td>0</td>\n      <td>0.658180</td>\n      <td>38</td>\n      <td>1</td>\n      <td>0.085113</td>\n      <td>3042.0</td>\n      <td>2</td>\n      <td>1</td>\n      <td>0</td>\n      <td>0</td>\n      <td>0.0</td>\n    </tr>\n    <tr>\n      <th>4</th>\n      <td>0</td>\n      <td>0.233810</td>\n      <td>30</td>\n      <td>0</td>\n      <td>0.036050</td>\n      <td>3300.0</td>\n      <td>5</td>\n      <td>0</td>\n      <td>0</td>\n      <td>0</td>\n      <td>0.0</td>\n    </tr>\n    <tr>\n      <th>5</th>\n      <td>0</td>\n      <td>0.907239</td>\n      <td>49</td>\n      <td>1</td>\n      <td>0.024926</td>\n      <td>63588.0</td>\n      <td>7</td>\n      <td>0</td>\n      <td>1</td>\n      <td>0</td>\n      <td>0.0</td>\n    </tr>\n  </tbody>\n</table>\n</div>"
     },
     "execution_count": 16,
     "metadata": {},
     "output_type": "execute_result"
    }
   ],
   "source": [
    "data.head()"
   ],
   "metadata": {
    "collapsed": false
   }
  },
  {
   "cell_type": "markdown",
   "source": [
    "# 2.探索数据与数据预处理"
   ],
   "metadata": {
    "collapsed": false
   }
  },
  {
   "cell_type": "markdown",
   "source": [
    "## 2.1去除重复值"
   ],
   "metadata": {
    "collapsed": false
   }
  },
  {
   "cell_type": "code",
   "execution_count": 17,
   "outputs": [
    {
     "name": "stdout",
     "output_type": "stream",
     "text": [
      "<class 'pandas.core.frame.DataFrame'>\n",
      "Index: 149391 entries, 1 to 150000\n",
      "Data columns (total 11 columns):\n",
      " #   Column                                Non-Null Count   Dtype  \n",
      "---  ------                                --------------   -----  \n",
      " 0   SeriousDlqin2yrs                      149391 non-null  int64  \n",
      " 1   RevolvingUtilizationOfUnsecuredLines  149391 non-null  float64\n",
      " 2   age                                   149391 non-null  int64  \n",
      " 3   NumberOfTime30-59DaysPastDueNotWorse  149391 non-null  int64  \n",
      " 4   DebtRatio                             149391 non-null  float64\n",
      " 5   MonthlyIncome                         120170 non-null  float64\n",
      " 6   NumberOfOpenCreditLinesAndLoans       149391 non-null  int64  \n",
      " 7   NumberOfTimes90DaysLate               149391 non-null  int64  \n",
      " 8   NumberRealEstateLoansOrLines          149391 non-null  int64  \n",
      " 9   NumberOfTime60-89DaysPastDueNotWorse  149391 non-null  int64  \n",
      " 10  NumberOfDependents                    145563 non-null  float64\n",
      "dtypes: float64(4), int64(7)\n",
      "memory usage: 13.7 MB\n"
     ]
    }
   ],
   "source": [
    "#去除重复值\n",
    "data.drop_duplicates(inplace=True)\n",
    "data.info()"
   ],
   "metadata": {
    "collapsed": false
   }
  },
  {
   "cell_type": "code",
   "execution_count": 18,
   "outputs": [
    {
     "name": "stdout",
     "output_type": "stream",
     "text": [
      "<class 'pandas.core.frame.DataFrame'>\n",
      "RangeIndex: 149391 entries, 0 to 149390\n",
      "Data columns (total 11 columns):\n",
      " #   Column                                Non-Null Count   Dtype  \n",
      "---  ------                                --------------   -----  \n",
      " 0   SeriousDlqin2yrs                      149391 non-null  int64  \n",
      " 1   RevolvingUtilizationOfUnsecuredLines  149391 non-null  float64\n",
      " 2   age                                   149391 non-null  int64  \n",
      " 3   NumberOfTime30-59DaysPastDueNotWorse  149391 non-null  int64  \n",
      " 4   DebtRatio                             149391 non-null  float64\n",
      " 5   MonthlyIncome                         120170 non-null  float64\n",
      " 6   NumberOfOpenCreditLinesAndLoans       149391 non-null  int64  \n",
      " 7   NumberOfTimes90DaysLate               149391 non-null  int64  \n",
      " 8   NumberRealEstateLoansOrLines          149391 non-null  int64  \n",
      " 9   NumberOfTime60-89DaysPastDueNotWorse  149391 non-null  int64  \n",
      " 10  NumberOfDependents                    145563 non-null  float64\n",
      "dtypes: float64(4), int64(7)\n",
      "memory usage: 12.5 MB\n"
     ]
    }
   ],
   "source": [
    "#删除之后一定是要恢复索引\n",
    "data.reset_index(drop=True,inplace=True)\n",
    "#data.index = range(data.shape[0])\n",
    "data.info()"
   ],
   "metadata": {
    "collapsed": false
   }
  },
  {
   "cell_type": "code",
   "execution_count": 19,
   "outputs": [
    {
     "data": {
      "text/plain": "   SeriousDlqin2yrs  RevolvingUtilizationOfUnsecuredLines  age  \\\n0                 1                              0.766127   45   \n1                 0                              0.957151   40   \n2                 0                              0.658180   38   \n3                 0                              0.233810   30   \n4                 0                              0.907239   49   \n\n   NumberOfTime30-59DaysPastDueNotWorse  DebtRatio  MonthlyIncome  \\\n0                                     2   0.802982         9120.0   \n1                                     0   0.121876         2600.0   \n2                                     1   0.085113         3042.0   \n3                                     0   0.036050         3300.0   \n4                                     1   0.024926        63588.0   \n\n   NumberOfOpenCreditLinesAndLoans  NumberOfTimes90DaysLate  \\\n0                               13                        0   \n1                                4                        0   \n2                                2                        1   \n3                                5                        0   \n4                                7                        0   \n\n   NumberRealEstateLoansOrLines  NumberOfTime60-89DaysPastDueNotWorse  \\\n0                             6                                     0   \n1                             0                                     0   \n2                             0                                     0   \n3                             0                                     0   \n4                             1                                     0   \n\n   NumberOfDependents  \n0                 2.0  \n1                 1.0  \n2                 0.0  \n3                 0.0  \n4                 0.0  ",
      "text/html": "<div>\n<style scoped>\n    .dataframe tbody tr th:only-of-type {\n        vertical-align: middle;\n    }\n\n    .dataframe tbody tr th {\n        vertical-align: top;\n    }\n\n    .dataframe thead th {\n        text-align: right;\n    }\n</style>\n<table border=\"1\" class=\"dataframe\">\n  <thead>\n    <tr style=\"text-align: right;\">\n      <th></th>\n      <th>SeriousDlqin2yrs</th>\n      <th>RevolvingUtilizationOfUnsecuredLines</th>\n      <th>age</th>\n      <th>NumberOfTime30-59DaysPastDueNotWorse</th>\n      <th>DebtRatio</th>\n      <th>MonthlyIncome</th>\n      <th>NumberOfOpenCreditLinesAndLoans</th>\n      <th>NumberOfTimes90DaysLate</th>\n      <th>NumberRealEstateLoansOrLines</th>\n      <th>NumberOfTime60-89DaysPastDueNotWorse</th>\n      <th>NumberOfDependents</th>\n    </tr>\n  </thead>\n  <tbody>\n    <tr>\n      <th>0</th>\n      <td>1</td>\n      <td>0.766127</td>\n      <td>45</td>\n      <td>2</td>\n      <td>0.802982</td>\n      <td>9120.0</td>\n      <td>13</td>\n      <td>0</td>\n      <td>6</td>\n      <td>0</td>\n      <td>2.0</td>\n    </tr>\n    <tr>\n      <th>1</th>\n      <td>0</td>\n      <td>0.957151</td>\n      <td>40</td>\n      <td>0</td>\n      <td>0.121876</td>\n      <td>2600.0</td>\n      <td>4</td>\n      <td>0</td>\n      <td>0</td>\n      <td>0</td>\n      <td>1.0</td>\n    </tr>\n    <tr>\n      <th>2</th>\n      <td>0</td>\n      <td>0.658180</td>\n      <td>38</td>\n      <td>1</td>\n      <td>0.085113</td>\n      <td>3042.0</td>\n      <td>2</td>\n      <td>1</td>\n      <td>0</td>\n      <td>0</td>\n      <td>0.0</td>\n    </tr>\n    <tr>\n      <th>3</th>\n      <td>0</td>\n      <td>0.233810</td>\n      <td>30</td>\n      <td>0</td>\n      <td>0.036050</td>\n      <td>3300.0</td>\n      <td>5</td>\n      <td>0</td>\n      <td>0</td>\n      <td>0</td>\n      <td>0.0</td>\n    </tr>\n    <tr>\n      <th>4</th>\n      <td>0</td>\n      <td>0.907239</td>\n      <td>49</td>\n      <td>1</td>\n      <td>0.024926</td>\n      <td>63588.0</td>\n      <td>7</td>\n      <td>0</td>\n      <td>1</td>\n      <td>0</td>\n      <td>0.0</td>\n    </tr>\n  </tbody>\n</table>\n</div>"
     },
     "execution_count": 19,
     "metadata": {},
     "output_type": "execute_result"
    }
   ],
   "source": [
    "data.head()"
   ],
   "metadata": {
    "collapsed": false
   }
  },
  {
   "cell_type": "markdown",
   "source": [
    "## 2.2 填补缺失值"
   ],
   "metadata": {
    "collapsed": false
   }
  },
  {
   "cell_type": "code",
   "execution_count": 20,
   "outputs": [
    {
     "data": {
      "text/plain": "SeriousDlqin2yrs                        0.000000\nRevolvingUtilizationOfUnsecuredLines    0.000000\nage                                     0.000000\nNumberOfTime30-59DaysPastDueNotWorse    0.000000\nDebtRatio                               0.000000\nMonthlyIncome                           0.195601\nNumberOfOpenCreditLinesAndLoans         0.000000\nNumberOfTimes90DaysLate                 0.000000\nNumberRealEstateLoansOrLines            0.000000\nNumberOfTime60-89DaysPastDueNotWorse    0.000000\nNumberOfDependents                      0.025624\ndtype: float64"
     },
     "execution_count": 20,
     "metadata": {},
     "output_type": "execute_result"
    }
   ],
   "source": [
    "#均值填补\n",
    "#data.isna().sum()/data.shape[0]\n",
    "data.isna().mean()"
   ],
   "metadata": {
    "collapsed": false
   }
  },
  {
   "cell_type": "code",
   "execution_count": 21,
   "outputs": [],
   "source": [
    "data['NumberOfDependents'].fillna(int(data['NumberOfDependents'].mean()),inplace=True)"
   ],
   "metadata": {
    "collapsed": false
   }
  },
  {
   "cell_type": "code",
   "execution_count": 22,
   "outputs": [
    {
     "data": {
      "text/plain": "SeriousDlqin2yrs                        0.000000\nRevolvingUtilizationOfUnsecuredLines    0.000000\nage                                     0.000000\nNumberOfTime30-59DaysPastDueNotWorse    0.000000\nDebtRatio                               0.000000\nMonthlyIncome                           0.195601\nNumberOfOpenCreditLinesAndLoans         0.000000\nNumberOfTimes90DaysLate                 0.000000\nNumberRealEstateLoansOrLines            0.000000\nNumberOfTime60-89DaysPastDueNotWorse    0.000000\nNumberOfDependents                      0.000000\ndtype: float64"
     },
     "execution_count": 22,
     "metadata": {},
     "output_type": "execute_result"
    }
   ],
   "source": [
    "data.isna().mean()"
   ],
   "metadata": {
    "collapsed": false
   }
  },
  {
   "cell_type": "code",
   "execution_count": 23,
   "outputs": [],
   "source": [
    "#随机森林\n",
    "#填补函数\n",
    "def fill_missing_rf(x,y,to_fill):\n",
    "    \"\"\"\n",
    "    使用随机森林填补一个特征的缺失值的函数\n",
    "    :param x: 要填补的特征矩阵\n",
    "    :param y: 完整的，没有缺失值的标签（原有标签）\n",
    "    :param to_fill: 要填补的特征\n",
    "    :return: 缺失填补后的特征\n",
    "    \"\"\"\n",
    "    #构建新特征矩阵和标签\n",
    "    df = x.copy()\n",
    "    fill = df.loc[:,to_fill]\n",
    "    df = pd.concat([df.loc[:,df.columns!=to_fill],pd.DataFrame(y)],axis=1)\n",
    "\n",
    "    #找出训练集和测试集\n",
    "    y_train = fill[fill.notnull()]\n",
    "    y_test  = fill[fill.isnull()]\n",
    "    x_train = df.iloc[y_train.index,:]\n",
    "    x_test = df.iloc[y_test.index,:]\n",
    "\n",
    "    #使用随机森林填补缺失值\n",
    "    from sklearn.ensemble import RandomForestRegressor as rfr\n",
    "    rfr = rfr(n_estimators=100)\n",
    "    rfr.fit(x_train,y_train)\n",
    "    yprdict = rfr.predict(x_test)\n",
    "\n",
    "    return yprdict"
   ],
   "metadata": {
    "collapsed": false
   }
  },
  {
   "cell_type": "code",
   "execution_count": 24,
   "outputs": [],
   "source": [
    "x = data.iloc[:,1:]\n",
    "y = data['SeriousDlqin2yrs']\n",
    "ypredict = fill_missing_rf(x,y,'MonthlyIncome')"
   ],
   "metadata": {
    "collapsed": false
   }
  },
  {
   "cell_type": "code",
   "execution_count": 25,
   "outputs": [],
   "source": [
    "#确认结果合理，就将数据覆盖\n",
    "data.loc[data.loc[:,\"MonthlyIncome\"].isnull(),\"MonthlyIncome\"] = ypredict"
   ],
   "metadata": {
    "collapsed": false
   }
  },
  {
   "cell_type": "code",
   "execution_count": 26,
   "outputs": [
    {
     "data": {
      "text/plain": "SeriousDlqin2yrs                        0.0\nRevolvingUtilizationOfUnsecuredLines    0.0\nage                                     0.0\nNumberOfTime30-59DaysPastDueNotWorse    0.0\nDebtRatio                               0.0\nMonthlyIncome                           0.0\nNumberOfOpenCreditLinesAndLoans         0.0\nNumberOfTimes90DaysLate                 0.0\nNumberRealEstateLoansOrLines            0.0\nNumberOfTime60-89DaysPastDueNotWorse    0.0\nNumberOfDependents                      0.0\ndtype: float64"
     },
     "execution_count": 26,
     "metadata": {},
     "output_type": "execute_result"
    }
   ],
   "source": [
    "data.isnull().mean()"
   ],
   "metadata": {
    "collapsed": false
   }
  },
  {
   "cell_type": "markdown",
   "source": [
    "## 2.3描述性统计处理异常值"
   ],
   "metadata": {
    "collapsed": false
   }
  },
  {
   "cell_type": "code",
   "execution_count": 27,
   "outputs": [],
   "source": [
    "df_describe = data.describe([0.01,0.1,0.25,.5,.75,.9]).T"
   ],
   "metadata": {
    "collapsed": false
   }
  },
  {
   "cell_type": "code",
   "execution_count": 28,
   "outputs": [],
   "source": [
    "(data['age']==0).sum()\n",
    "data = data[data['age']!=0]\n",
    "data = data[data.loc[:,\"NumberOfTimes90DaysLate\"]<90]"
   ],
   "metadata": {
    "collapsed": false
   }
  },
  {
   "cell_type": "code",
   "execution_count": 29,
   "outputs": [
    {
     "name": "stdout",
     "output_type": "stream",
     "text": [
      "<class 'pandas.core.frame.DataFrame'>\n",
      "RangeIndex: 149165 entries, 0 to 149164\n",
      "Data columns (total 11 columns):\n",
      " #   Column                                Non-Null Count   Dtype  \n",
      "---  ------                                --------------   -----  \n",
      " 0   SeriousDlqin2yrs                      149165 non-null  int64  \n",
      " 1   RevolvingUtilizationOfUnsecuredLines  149165 non-null  float64\n",
      " 2   age                                   149165 non-null  int64  \n",
      " 3   NumberOfTime30-59DaysPastDueNotWorse  149165 non-null  int64  \n",
      " 4   DebtRatio                             149165 non-null  float64\n",
      " 5   MonthlyIncome                         149165 non-null  float64\n",
      " 6   NumberOfOpenCreditLinesAndLoans       149165 non-null  int64  \n",
      " 7   NumberOfTimes90DaysLate               149165 non-null  int64  \n",
      " 8   NumberRealEstateLoansOrLines          149165 non-null  int64  \n",
      " 9   NumberOfTime60-89DaysPastDueNotWorse  149165 non-null  int64  \n",
      " 10  NumberOfDependents                    149165 non-null  float64\n",
      "dtypes: float64(4), int64(7)\n",
      "memory usage: 12.5 MB\n"
     ]
    }
   ],
   "source": [
    "data.index = range(data.shape[0])\n",
    "data.info()"
   ],
   "metadata": {
    "collapsed": false
   }
  },
  {
   "cell_type": "markdown",
   "source": [
    "## 2.5样本不均衡问题"
   ],
   "metadata": {
    "collapsed": false
   }
  },
  {
   "cell_type": "code",
   "execution_count": 30,
   "outputs": [
    {
     "name": "stdout",
     "output_type": "stream",
     "text": [
      "样本个数:149165;\n",
      "1占6.62%;\n",
      "0占93.38%\n"
     ]
    }
   ],
   "source": [
    "#标签分布\n",
    "x = data.iloc[:,1:]\n",
    "y = data.iloc[:,0]\n",
    "y.value_counts()\n",
    "n_sample = x.shape[0]\n",
    "n1_sample = y.value_counts()[1]\n",
    "n0_sample = y.value_counts()[0]\n",
    "print(f'样本个数:%d;\\n1占%.2f%%;\\n0占%.2f%%'%(n_sample,n1_sample*100/n_sample,n0_sample*100/n_sample))\n",
    "#print('样本个数:{:d};\\n1占{:.2%};\\n0占{:.2%}'.format(n_sample,n1_sample/n_sample,n0_sample/n_sample))"
   ],
   "metadata": {
    "collapsed": false
   }
  },
  {
   "cell_type": "code",
   "execution_count": 31,
   "outputs": [
    {
     "name": "stdout",
     "output_type": "stream",
     "text": [
      "样本总数为278584;\n",
      "1占50.00%;\n",
      "2占50.00%\n",
      "\n"
     ]
    }
   ],
   "source": [
    "#上采样 方法平衡样本【不断向上采样平衡样本】\n",
    "#重复采样样本量少的部分，以数据量多的一方的样本数量为标准，把样本数量较少的类的样本数量生成和样本数量多的一方相同\n",
    "\n",
    "from imblearn.over_sampling import SMOTE\n",
    "\n",
    "sm = SMOTE(random_state=42)#实例化\n",
    "x,y = sm.fit_resample(x,y) #返回已经上采样完毕后的特征矩阵和标签\n",
    "n_sample = x.shape[0]\n",
    "pd.Series(y).value_counts()\n",
    "n1_sample = pd.Series(y).value_counts()[1]\n",
    "n0_sample = pd.Series(y).value_counts()[0]\n",
    "print('样本总数为{:d};\\n1占{:.2%};\\n2占{:.2%}\\n'.format(n_sample,n1_sample/n_sample,n0_sample/n_sample))"
   ],
   "metadata": {
    "collapsed": false
   }
  },
  {
   "cell_type": "markdown",
   "source": [
    "# 3 特征筛选"
   ],
   "metadata": {
    "collapsed": false
   }
  },
  {
   "cell_type": "markdown",
   "source": [
    "## 3.1 方差为0的特征删除"
   ],
   "metadata": {
    "collapsed": false
   }
  },
  {
   "cell_type": "code",
   "execution_count": 32,
   "outputs": [
    {
     "data": {
      "text/plain": "                                         count         mean           std  \\\nSeriousDlqin2yrs                      149391.0     0.066999      0.250021   \nRevolvingUtilizationOfUnsecuredLines  149391.0     6.071087    250.263672   \nage                                   149391.0    52.306237     14.725962   \nNumberOfTime30-59DaysPastDueNotWorse  149391.0     0.393886      3.852953   \nDebtRatio                             149391.0   354.436740   2041.843455   \nMonthlyIncome                         149391.0  5425.379292  13243.382572   \nNumberOfOpenCreditLinesAndLoans       149391.0     8.480892      5.136515   \nNumberOfTimes90DaysLate               149391.0     0.238120      3.826165   \nNumberRealEstateLoansOrLines          149391.0     1.022391      1.130196   \nNumberOfTime60-89DaysPastDueNotWorse  149391.0     0.212503      3.810523   \nNumberOfDependents                    149391.0     0.740393      1.108272   \n\n                                      min    1%        10%          25%  \\\nSeriousDlqin2yrs                      0.0   0.0   0.000000     0.000000   \nRevolvingUtilizationOfUnsecuredLines  0.0   0.0   0.003199     0.030132   \nage                                   0.0  24.0  33.000000    41.000000   \nNumberOfTime30-59DaysPastDueNotWorse  0.0   0.0   0.000000     0.000000   \nDebtRatio                             0.0   0.0   0.034991     0.177441   \nMonthlyIncome                         0.0   0.0   0.170000  1800.000000   \nNumberOfOpenCreditLinesAndLoans       0.0   0.0   3.000000     5.000000   \nNumberOfTimes90DaysLate               0.0   0.0   0.000000     0.000000   \nNumberRealEstateLoansOrLines          0.0   0.0   0.000000     0.000000   \nNumberOfTime60-89DaysPastDueNotWorse  0.0   0.0   0.000000     0.000000   \nNumberOfDependents                    0.0   0.0   0.000000     0.000000   \n\n                                              50%          75%           90%  \\\nSeriousDlqin2yrs                         0.000000     0.000000      0.000000   \nRevolvingUtilizationOfUnsecuredLines     0.154235     0.556494      0.978007   \nage                                     52.000000    63.000000     72.000000   \nNumberOfTime30-59DaysPastDueNotWorse     0.000000     0.000000      1.000000   \nDebtRatio                                0.368234     0.875279   1275.000000   \nMonthlyIncome                         4420.000000  7416.000000  10800.000000   \nNumberOfOpenCreditLinesAndLoans          8.000000    11.000000     15.000000   \nNumberOfTimes90DaysLate                  0.000000     0.000000      0.000000   \nNumberRealEstateLoansOrLines             1.000000     2.000000      2.000000   \nNumberOfTime60-89DaysPastDueNotWorse     0.000000     0.000000      0.000000   \nNumberOfDependents                       0.000000     1.000000      2.000000   \n\n                                            max  \nSeriousDlqin2yrs                            1.0  \nRevolvingUtilizationOfUnsecuredLines    50708.0  \nage                                       109.0  \nNumberOfTime30-59DaysPastDueNotWorse       98.0  \nDebtRatio                              329664.0  \nMonthlyIncome                         3008750.0  \nNumberOfOpenCreditLinesAndLoans            58.0  \nNumberOfTimes90DaysLate                    98.0  \nNumberRealEstateLoansOrLines               54.0  \nNumberOfTime60-89DaysPastDueNotWorse       98.0  \nNumberOfDependents                         20.0  ",
      "text/html": "<div>\n<style scoped>\n    .dataframe tbody tr th:only-of-type {\n        vertical-align: middle;\n    }\n\n    .dataframe tbody tr th {\n        vertical-align: top;\n    }\n\n    .dataframe thead th {\n        text-align: right;\n    }\n</style>\n<table border=\"1\" class=\"dataframe\">\n  <thead>\n    <tr style=\"text-align: right;\">\n      <th></th>\n      <th>count</th>\n      <th>mean</th>\n      <th>std</th>\n      <th>min</th>\n      <th>1%</th>\n      <th>10%</th>\n      <th>25%</th>\n      <th>50%</th>\n      <th>75%</th>\n      <th>90%</th>\n      <th>max</th>\n    </tr>\n  </thead>\n  <tbody>\n    <tr>\n      <th>SeriousDlqin2yrs</th>\n      <td>149391.0</td>\n      <td>0.066999</td>\n      <td>0.250021</td>\n      <td>0.0</td>\n      <td>0.0</td>\n      <td>0.000000</td>\n      <td>0.000000</td>\n      <td>0.000000</td>\n      <td>0.000000</td>\n      <td>0.000000</td>\n      <td>1.0</td>\n    </tr>\n    <tr>\n      <th>RevolvingUtilizationOfUnsecuredLines</th>\n      <td>149391.0</td>\n      <td>6.071087</td>\n      <td>250.263672</td>\n      <td>0.0</td>\n      <td>0.0</td>\n      <td>0.003199</td>\n      <td>0.030132</td>\n      <td>0.154235</td>\n      <td>0.556494</td>\n      <td>0.978007</td>\n      <td>50708.0</td>\n    </tr>\n    <tr>\n      <th>age</th>\n      <td>149391.0</td>\n      <td>52.306237</td>\n      <td>14.725962</td>\n      <td>0.0</td>\n      <td>24.0</td>\n      <td>33.000000</td>\n      <td>41.000000</td>\n      <td>52.000000</td>\n      <td>63.000000</td>\n      <td>72.000000</td>\n      <td>109.0</td>\n    </tr>\n    <tr>\n      <th>NumberOfTime30-59DaysPastDueNotWorse</th>\n      <td>149391.0</td>\n      <td>0.393886</td>\n      <td>3.852953</td>\n      <td>0.0</td>\n      <td>0.0</td>\n      <td>0.000000</td>\n      <td>0.000000</td>\n      <td>0.000000</td>\n      <td>0.000000</td>\n      <td>1.000000</td>\n      <td>98.0</td>\n    </tr>\n    <tr>\n      <th>DebtRatio</th>\n      <td>149391.0</td>\n      <td>354.436740</td>\n      <td>2041.843455</td>\n      <td>0.0</td>\n      <td>0.0</td>\n      <td>0.034991</td>\n      <td>0.177441</td>\n      <td>0.368234</td>\n      <td>0.875279</td>\n      <td>1275.000000</td>\n      <td>329664.0</td>\n    </tr>\n    <tr>\n      <th>MonthlyIncome</th>\n      <td>149391.0</td>\n      <td>5425.379292</td>\n      <td>13243.382572</td>\n      <td>0.0</td>\n      <td>0.0</td>\n      <td>0.170000</td>\n      <td>1800.000000</td>\n      <td>4420.000000</td>\n      <td>7416.000000</td>\n      <td>10800.000000</td>\n      <td>3008750.0</td>\n    </tr>\n    <tr>\n      <th>NumberOfOpenCreditLinesAndLoans</th>\n      <td>149391.0</td>\n      <td>8.480892</td>\n      <td>5.136515</td>\n      <td>0.0</td>\n      <td>0.0</td>\n      <td>3.000000</td>\n      <td>5.000000</td>\n      <td>8.000000</td>\n      <td>11.000000</td>\n      <td>15.000000</td>\n      <td>58.0</td>\n    </tr>\n    <tr>\n      <th>NumberOfTimes90DaysLate</th>\n      <td>149391.0</td>\n      <td>0.238120</td>\n      <td>3.826165</td>\n      <td>0.0</td>\n      <td>0.0</td>\n      <td>0.000000</td>\n      <td>0.000000</td>\n      <td>0.000000</td>\n      <td>0.000000</td>\n      <td>0.000000</td>\n      <td>98.0</td>\n    </tr>\n    <tr>\n      <th>NumberRealEstateLoansOrLines</th>\n      <td>149391.0</td>\n      <td>1.022391</td>\n      <td>1.130196</td>\n      <td>0.0</td>\n      <td>0.0</td>\n      <td>0.000000</td>\n      <td>0.000000</td>\n      <td>1.000000</td>\n      <td>2.000000</td>\n      <td>2.000000</td>\n      <td>54.0</td>\n    </tr>\n    <tr>\n      <th>NumberOfTime60-89DaysPastDueNotWorse</th>\n      <td>149391.0</td>\n      <td>0.212503</td>\n      <td>3.810523</td>\n      <td>0.0</td>\n      <td>0.0</td>\n      <td>0.000000</td>\n      <td>0.000000</td>\n      <td>0.000000</td>\n      <td>0.000000</td>\n      <td>0.000000</td>\n      <td>98.0</td>\n    </tr>\n    <tr>\n      <th>NumberOfDependents</th>\n      <td>149391.0</td>\n      <td>0.740393</td>\n      <td>1.108272</td>\n      <td>0.0</td>\n      <td>0.0</td>\n      <td>0.000000</td>\n      <td>0.000000</td>\n      <td>0.000000</td>\n      <td>1.000000</td>\n      <td>2.000000</td>\n      <td>20.0</td>\n    </tr>\n  </tbody>\n</table>\n</div>"
     },
     "execution_count": 32,
     "metadata": {},
     "output_type": "execute_result"
    }
   ],
   "source": [
    "df_describe"
   ],
   "metadata": {
    "collapsed": false
   }
  },
  {
   "cell_type": "code",
   "execution_count": 33,
   "outputs": [],
   "source": [
    "varnum = [x for x in df_describe[df_describe[\"std\"] !=0].index]"
   ],
   "metadata": {
    "collapsed": false
   }
  },
  {
   "cell_type": "code",
   "execution_count": 34,
   "outputs": [
    {
     "data": {
      "text/plain": "Index(['SeriousDlqin2yrs', 'RevolvingUtilizationOfUnsecuredLines', 'age',\n       'NumberOfTime30-59DaysPastDueNotWorse', 'DebtRatio', 'MonthlyIncome',\n       'NumberOfOpenCreditLinesAndLoans', 'NumberOfTimes90DaysLate',\n       'NumberRealEstateLoansOrLines', 'NumberOfTime60-89DaysPastDueNotWorse',\n       'NumberOfDependents'],\n      dtype='object')"
     },
     "execution_count": 34,
     "metadata": {},
     "output_type": "execute_result"
    }
   ],
   "source": [
    "data.columns"
   ],
   "metadata": {
    "collapsed": false
   }
  },
  {
   "cell_type": "markdown",
   "source": [
    "## 3.2 相关性剔除；剔除规则iv较小"
   ],
   "metadata": {
    "collapsed": false
   }
  },
  {
   "cell_type": "code",
   "execution_count": 35,
   "outputs": [
    {
     "data": {
      "text/plain": "<Axes: >"
     },
     "execution_count": 35,
     "metadata": {},
     "output_type": "execute_result"
    },
    {
     "data": {
      "text/plain": "<Figure size 640x480 with 2 Axes>",
      "image/png": "[encoded data removed]"
     },
     "metadata": {},
     "output_type": "display_data"
    }
   ],
   "source": [
    "import seaborn as sns\n",
    "import scorecardpy as sc\n",
    "sns.heatmap(data.corr())"
   ],
   "metadata": {
    "collapsed": false
   }
  },
  {
   "cell_type": "code",
   "execution_count": 45,
   "outputs": [],
   "source": [
    "#剔除两两相关变量中iv较低者\n",
    "def get_sc_iv(df_num,features,label='SeriousDlqin2yrs',bin_num_limit =10):\n",
    "    \"\"\"\n",
    "    输入：\n",
    "    df_num:特征矩阵\n",
    "    features:特征名称\n",
    "    label：标签名称\n",
    "    bin_num_limit :分箱箱数限制\n",
    "    method:方法\n",
    "    输出：\n",
    "    return woe_bins\n",
    "    \"\"\"\n",
    "    exclude_cols = ['SeriousDlqin2yrs']\n",
    "    iv_dict = {}\n",
    "    i = 0\n",
    "    for col in features:\n",
    "        try:\n",
    "            i += 1\n",
    "            print(i,col)\n",
    "            bins = sc.woebin(df_num[[col,label]],y = label,bin_num_limit=bin_num_limit)\n",
    "            iv_dict[col] = bins\n",
    "        except:\n",
    "            print(col)\n",
    "    #print(iv_dict)\n",
    "    woe_bins = pd.DataFrame()\n",
    "    for key in iv_dict:\n",
    "         woe_bins = pd.concat([woe_bins, iv_dict[key][key]])\n",
    "        #woe_bins = woe_bins.append(iv_dict[key][key],ignore_index=True)\n",
    "    woe_bins = woe_bins[~woe_bins['variable'].isin(exclude_cols)].rename(columns = {'variable':'cols'})\n",
    "    return iv_dict,woe_bins"
   ],
   "metadata": {
    "collapsed": false
   }
  },
  {
   "cell_type": "code",
   "execution_count": 46,
   "outputs": [
    {
     "name": "stdout",
     "output_type": "stream",
     "text": [
      "1 RevolvingUtilizationOfUnsecuredLines\n",
      "[INFO] creating woe binning ...\n",
      "{'RevolvingUtilizationOfUnsecuredLines':                                variable                         bin  count  \\\n",
      "0  RevolvingUtilizationOfUnsecuredLines  [-inf,0.15000000000000002)  74013   \n",
      "1  RevolvingUtilizationOfUnsecuredLines   [0.15000000000000002,0.5)  34390   \n",
      "2  RevolvingUtilizationOfUnsecuredLines    [0.5,0.8500000000000001)  18592   \n",
      "3  RevolvingUtilizationOfUnsecuredLines    [0.8500000000000001,inf)  22170   \n",
      "\n",
      "   count_distr   good   bad   badprob       woe    bin_iv  total_iv  \\\n",
      "0     0.496182  72591  1422  0.019213 -1.286008  0.484971  1.058589   \n",
      "1     0.230550  32825  1565  0.045507 -0.396536  0.030590  1.058589   \n",
      "2     0.124640  16487  2105  0.113221  0.588512  0.055817  1.058589   \n",
      "3     0.148627  17389  4781  0.215652  1.355581  0.487211  1.058589   \n",
      "\n",
      "                breaks  is_special_values  \n",
      "0  0.15000000000000002              False  \n",
      "1                  0.5              False  \n",
      "2   0.8500000000000001              False  \n",
      "3                  inf              False  }\n",
      "2 age\n",
      "[INFO] creating woe binning ...\n",
      "{'age':   variable          bin  count  count_distr   good   bad   badprob       woe  \\\n",
      "0      age  [-inf,44.0)  44076     0.295485  39689  4387  0.099533  0.444340   \n",
      "1      age  [44.0,58.0)  50332     0.337425  46661  3671  0.072936  0.104324   \n",
      "2      age  [58.0,68.0)  31328     0.210022  30042  1286  0.041050 -0.504291   \n",
      "3      age   [68.0,inf)  23429     0.157068  22900   529  0.022579 -1.121135   \n",
      "\n",
      "     bin_iv  total_iv breaks  is_special_values  \n",
      "0  0.070832  0.241999   44.0              False  \n",
      "1  0.003843  0.241999   58.0              False  \n",
      "2  0.043078  0.241999   68.0              False  \n",
      "3  0.124247  0.241999    inf              False  }\n",
      "3 NumberOfTime30-59DaysPastDueNotWorse\n",
      "[INFO] creating woe binning ...\n",
      "{'NumberOfTime30-59DaysPastDueNotWorse':                                variable         bin   count  count_distr  \\\n",
      "0  NumberOfTime30-59DaysPastDueNotWorse  [-inf,1.0)  125453     0.841035   \n",
      "1  NumberOfTime30-59DaysPastDueNotWorse   [1.0,2.0)   16032     0.107478   \n",
      "2  NumberOfTime30-59DaysPastDueNotWorse   [2.0,inf)    7680     0.051487   \n",
      "\n",
      "     good   bad   badprob       woe    bin_iv  total_iv breaks  \\\n",
      "0  120418  5035  0.040135 -0.527787  0.187113  0.711555    1.0   \n",
      "1   13623  2409  0.150262  0.914221  0.133656  0.711555    2.0   \n",
      "2    5251  2429  0.316276  1.875830  0.390785  0.711555    inf   \n",
      "\n",
      "   is_special_values  \n",
      "0              False  \n",
      "1              False  \n",
      "2              False  }\n",
      "4 DebtRatio\n",
      "[INFO] creating woe binning ...\n",
      "{'DebtRatio':     variable                        bin  count  count_distr   good   bad  \\\n",
      "0  DebtRatio                 [-inf,0.4)  79772     0.534790  75161  4611   \n",
      "1  DebtRatio                 [0.4,0.55)  17868     0.119787  16556  1312   \n",
      "2  DebtRatio  [0.55,0.7000000000000001)   9082     0.060886   8219   863   \n",
      "3  DebtRatio   [0.7000000000000001,3.0)  12032     0.080662  10609  1423   \n",
      "4  DebtRatio                  [3.0,inf)  30411     0.203875  28747  1664   \n",
      "\n",
      "    badprob       woe    bin_iv  total_iv              breaks  \\\n",
      "0  0.057802 -0.144419  0.010479  0.074222                 0.4   \n",
      "1  0.073427  0.111573  0.001565  0.074222                0.55   \n",
      "2  0.095023  0.392980  0.011162  0.074222  0.7000000000000001   \n",
      "3  0.118268  0.637833  0.043351  0.074222                 3.0   \n",
      "4  0.054717 -0.202540  0.007664  0.074222                 inf   \n",
      "\n",
      "   is_special_values  \n",
      "0              False  \n",
      "1              False  \n",
      "2              False  \n",
      "3              False  \n",
      "4              False  }\n",
      "5 MonthlyIncome\n",
      "[INFO] creating woe binning ...\n",
      "{'MonthlyIncome':         variable               bin  count  count_distr   good   bad   badprob  \\\n",
      "0  MonthlyIncome     [-inf,1000.0)  31870     0.213656  30234  1636  0.051334   \n",
      "1  MonthlyIncome   [1000.0,4000.0)  34709     0.232689  31457  3252  0.093693   \n",
      "2  MonthlyIncome   [4000.0,6500.0)  35701     0.239339  33058  2643  0.074032   \n",
      "3  MonthlyIncome  [6500.0,10000.0)  27057     0.181390  25577  1480  0.054699   \n",
      "4  MonthlyIncome     [10000.0,inf)  19828     0.132927  18966   862  0.043474   \n",
      "\n",
      "        woe    bin_iv  total_iv   breaks  is_special_values  \n",
      "0 -0.269944  0.013862  0.085149   1000.0              False  \n",
      "1  0.377417  0.039081  0.085149   4000.0              False  \n",
      "2  0.120420  0.003657  0.085149   6500.0              False  \n",
      "3 -0.202883  0.006841  0.085149  10000.0              False  \n",
      "4 -0.444379  0.021708  0.085149      inf              False  }\n",
      "6 NumberOfOpenCreditLinesAndLoans\n",
      "[INFO] creating woe binning ...\n",
      "{'NumberOfOpenCreditLinesAndLoans':                           variable         bin   count  count_distr    good  \\\n",
      "0  NumberOfOpenCreditLinesAndLoans  [-inf,3.0)   12296     0.082432   10771   \n",
      "1  NumberOfOpenCreditLinesAndLoans  [3.0,14.0)  114852     0.769966  108041   \n",
      "2  NumberOfOpenCreditLinesAndLoans  [14.0,inf)   22017     0.147602   20480   \n",
      "\n",
      "    bad   badprob       woe    bin_iv  total_iv breaks  is_special_values  \n",
      "0  1525  0.124024  0.691906  0.053370  0.063918    3.0              False  \n",
      "1  6811  0.059302 -0.117203  0.010054  0.063918   14.0              False  \n",
      "2  1537  0.069810  0.057152  0.000494  0.063918    inf              False  }\n",
      "7 NumberOfTimes90DaysLate\n",
      "[INFO] creating woe binning ...\n",
      "{'NumberOfTimes90DaysLate':                   variable         bin   count  count_distr    good   bad  \\\n",
      "0  NumberOfTimes90DaysLate  [-inf,1.0)  141107     0.945979  134558  6549   \n",
      "1  NumberOfTimes90DaysLate   [1.0,inf)    8058     0.054021    4734  3324   \n",
      "\n",
      "    badprob       woe    bin_iv  total_iv breaks  is_special_values  \n",
      "0  0.046412 -0.375914  0.113785  0.807903    1.0              False  \n",
      "1  0.412509  2.293167  0.694118  0.807903    inf              False  }\n",
      "8 NumberRealEstateLoansOrLines\n",
      "[INFO] creating woe binning ...\n",
      "{'NumberRealEstateLoansOrLines':                        variable         bin  count  count_distr   good   bad  \\\n",
      "0  NumberRealEstateLoansOrLines  [-inf,1.0)  55354     0.371092  50835  4519   \n",
      "1  NumberRealEstateLoansOrLines   [1.0,2.0)  52338     0.350873  49590  2748   \n",
      "2  NumberRealEstateLoansOrLines   [2.0,3.0)  31521     0.211316  29756  1765   \n",
      "3  NumberRealEstateLoansOrLines   [3.0,inf)   9952     0.066718   9111   841   \n",
      "\n",
      "    badprob       woe    bin_iv  total_iv breaks  is_special_values  \n",
      "0  0.081638  0.226474  0.021008  0.051559    1.0              False  \n",
      "1  0.052505 -0.246147  0.019121  0.051559    2.0              False  \n",
      "2  0.055994 -0.178111  0.006208  0.051559    3.0              False  \n",
      "3  0.084506  0.264123  0.005222  0.051559    inf              False  }\n",
      "9 NumberOfTime60-89DaysPastDueNotWorse\n",
      "[INFO] creating woe binning ...\n",
      "{'NumberOfTime60-89DaysPastDueNotWorse':                                variable         bin   count  count_distr  \\\n",
      "0  NumberOfTime60-89DaysPastDueNotWorse  [-inf,inf)  149165          1.0   \n",
      "\n",
      "     good   bad   badprob  woe  bin_iv  total_iv breaks  is_special_values  \n",
      "0  139292  9873  0.066188  0.0     0.0       0.0    inf              False  }\n",
      "10 NumberOfDependents\n",
      "[INFO] creating woe binning ...\n",
      "{'NumberOfDependents':              variable         bin  count  count_distr   good   bad   badprob  \\\n",
      "0  NumberOfDependents  [-inf,1.0)  90045     0.603660  84892  5153  0.057227   \n",
      "1  NumberOfDependents   [1.0,2.0)  26291     0.176254  24370  1921  0.073067   \n",
      "2  NumberOfDependents   [2.0,3.0)  19500     0.130728  17929  1571  0.080564   \n",
      "3  NumberOfDependents   [3.0,inf)  13329     0.089357  12101  1228  0.092130   \n",
      "\n",
      "        woe    bin_iv  total_iv breaks  is_special_values  \n",
      "0 -0.155032  0.013569  0.035561    1.0              False  \n",
      "1  0.106262  0.002084  0.035561    2.0              False  \n",
      "2  0.212062  0.006448  0.035561    3.0              False  \n",
      "3  0.358867  0.013459  0.035561    inf              False  }\n"
     ]
    }
   ],
   "source": [
    "iv,sc_iv = get_sc_iv(data,varnum[1:])"
   ],
   "metadata": {
    "collapsed": false
   }
  },
  {
   "cell_type": "code",
   "execution_count": 48,
   "outputs": [],
   "source": [
    "sc_iv = pd.DataFrame(sc_iv.groupby('cols')['total_iv'].mean())"
   ],
   "metadata": {
    "collapsed": false
   }
  },
  {
   "cell_type": "code",
   "execution_count": 61,
   "outputs": [
    {
     "data": {
      "text/plain": "0.24199927869207197"
     },
     "execution_count": 61,
     "metadata": {},
     "output_type": "execute_result"
    }
   ],
   "source": [
    "sc_iv.loc['age'][0]"
   ],
   "metadata": {
    "collapsed": false
   }
  },
  {
   "cell_type": "code",
   "execution_count": 50,
   "outputs": [],
   "source": [
    "#相关性剔除\n",
    "def forward_delete_corr(df,sc_iv,col_list,threshold = None):\n",
    "    \"\"\"\n",
    "    df:训练数据集\n",
    "    col_list:变量list集合\n",
    "    threshold:相关性设定的阈值\n",
    "    return：相关性剔除后的变量\n",
    "    \"\"\"\n",
    "    list_corr = col_list[:]\n",
    "    for col in list_corr:\n",
    "        corr = df.loc[:,list_corr].corr()[col]\n",
    "        corr_index = [x for x in corr.index if x!=col]\n",
    "        corr_values = [x for x in corr.values if x!=1]\n",
    "        for i,j in zip(corr_index,corr_values):\n",
    "            if abs(j)>=threshold:\n",
    "                if sc_iv.loc[col][0] < sc_iv.loc[i][0]:\n",
    "                    list_corr.remove(col)\n",
    "                    break\n",
    "                else:\n",
    "                    list_corr.remove(i)\n",
    "    return list_corr"
   ],
   "metadata": {
    "collapsed": false
   }
  },
  {
   "cell_type": "code",
   "execution_count": 51,
   "outputs": [],
   "source": [
    "def corr_mapping(df,col_list,threshold=None):\n",
    "    \"\"\"\n",
    "    df:数据集\n",
    "    col_list:变量list集合\n",
    "    threshold:相关性设定的阈值\n",
    "    return:强相关性变量之间的映射关系表\n",
    "    \"\"\"\n",
    "    corr_df = df.loc[:,col_list].corr()\n",
    "    col_a = []\n",
    "    col_b = []\n",
    "    corr_value = []\n",
    "    for col,i in zip(col_list[1:],range(1,len(col_list),1)):\n",
    "        high_corr_col = []\n",
    "        high_corr_value = []\n",
    "        corr_series = corr_df[col][1:]\n",
    "        for i,j in zip(corr_series.index,corr_series.values):\n",
    "            if abs(j)>threshold:\n",
    "                high_corr_col.append(i)\n",
    "                high_corr_value.append(j)\n",
    "        col_a.extend([col]*len(high_corr_col))\n",
    "        col_b.extend(high_corr_col)\n",
    "        corr_value.extend(high_corr_value)\n",
    "    corr_map_df = pd.DataFrame({'col_A':col_a,\n",
    "                                'col_B':col_b,\n",
    "                                'corr':corr_value,\n",
    "                               })\n",
    "    return corr_map_df"
   ],
   "metadata": {
    "collapsed": false
   }
  },
  {
   "cell_type": "code",
   "execution_count": 52,
   "outputs": [],
   "source": [
    "var_num = forward_delete_corr(data,sc_iv,data.columns.tolist(),threshold=0.6)"
   ],
   "metadata": {
    "collapsed": false
   }
  },
  {
   "cell_type": "markdown",
   "source": [
    "## 3.3iv筛选"
   ],
   "metadata": {
    "collapsed": false
   }
  },
  {
   "cell_type": "code",
   "execution_count": 53,
   "outputs": [],
   "source": [
    "var_num = [x for x in var_num[1:] if sc_iv.loc[x][0] > 0.02 and sc_iv.loc[x][0] <1.2 ]"
   ],
   "metadata": {
    "collapsed": false
   }
  },
  {
   "cell_type": "code",
   "execution_count": 54,
   "outputs": [
    {
     "data": {
      "text/plain": "['RevolvingUtilizationOfUnsecuredLines',\n 'age',\n 'NumberOfTime30-59DaysPastDueNotWorse',\n 'DebtRatio',\n 'MonthlyIncome',\n 'NumberOfOpenCreditLinesAndLoans',\n 'NumberOfTimes90DaysLate',\n 'NumberRealEstateLoansOrLines',\n 'NumberOfDependents']"
     },
     "execution_count": 54,
     "metadata": {},
     "output_type": "execute_result"
    }
   ],
   "source": [
    "var_num"
   ],
   "metadata": {
    "collapsed": false
   }
  },
  {
   "cell_type": "code",
   "execution_count": 104,
   "outputs": [],
   "source": [
    "data = data[var_num+['SeriousDlqin2yrs']]"
   ],
   "metadata": {
    "collapsed": false
   }
  },
  {
   "cell_type": "markdown",
   "source": [
    "# 4 区分训练集和测试集"
   ],
   "metadata": {
    "collapsed": false
   }
  },
  {
   "cell_type": "code",
   "execution_count": 105,
   "outputs": [],
   "source": [
    "from sklearn.model_selection import train_test_split\n",
    "x = data[var_num]\n",
    "y = data['SeriousDlqin2yrs']\n",
    "x_train,x_test,y_train,y_test = train_test_split(x,y,test_size=0.3,random_state=10)"
   ],
   "metadata": {
    "collapsed": false
   }
  },
  {
   "cell_type": "code",
   "execution_count": 115,
   "outputs": [],
   "source": [
    "#训练数据\n",
    "model_data = pd.concat([y_train,x_train],axis=1)\n",
    "#model_data.reset_index(drop = True,inplace=True)\n",
    "model_data.index = range(model_data.shape[0])\n"
   ],
   "metadata": {
    "collapsed": false
   }
  },
  {
   "cell_type": "code",
   "execution_count": 116,
   "outputs": [],
   "source": [
    "# 测试数据\n",
    "vali_data = pd.concat([y_test,x_test],axis=1)\n",
    "vali_data.index = range(vali_data.shape[0])\n"
   ],
   "metadata": {
    "collapsed": false
   }
  },
  {
   "cell_type": "code",
   "execution_count": 117,
   "outputs": [],
   "source": [
    "#保存数据\n",
    "model_data.to_csv('./data/model_data.csv')\n",
    "vali_data.to_csv('./data/vali_data.csv')"
   ],
   "metadata": {
    "collapsed": false
   }
  },
  {
   "cell_type": "markdown",
   "source": [
    "# 5分箱"
   ],
   "metadata": {
    "collapsed": false
   }
  },
  {
   "cell_type": "markdown",
   "source": [
    "## 5.1等频分箱"
   ],
   "metadata": {
    "collapsed": false
   }
  },
  {
   "cell_type": "code",
   "execution_count": null,
   "outputs": [],
   "source": [
    "# 分箱个数（通过iv值的曲线）：分箱效果：组间差异大，组内差异小\n",
    "# 按照等频对需要分箱的列进行分箱\n",
    "model_data['qcut'],updown = pd.qcut(model_data['age'],retbins=True,q=20)\n",
    "\"\"\"\n",
    "pd.qcut,基于分位数的分箱函数，本质是将连续型变量离散化\n",
    "只能够处理一维的数据，\n",
    "q：分箱的个数\n",
    "返回：箱子的上限和下限\n",
    "\"\"\"\n",
    "#所有箱子的下限\n",
    "model_data"
   ],
   "metadata": {
    "collapsed": false
   }
  },
  {
   "cell_type": "code",
   "execution_count": 268,
   "outputs": [
    {
     "data": {
      "text/plain": "[(21.0, 29.0, 5214, 702),\n (29.0, 33.0, 5091, 617),\n (33.0, 36.0, 4162, 469),\n (36.0, 39.0, 5174, 515),\n (39.0, 41.0, 3947, 381),\n (41.0, 44.0, 6135, 556),\n (44.0, 46.0, 4646, 410),\n (46.0, 48.0, 4884, 403),\n (48.0, 50.0, 4935, 422),\n (50.0, 52.0, 4623, 377),\n (52.0, 54.0, 4666, 344),\n (54.0, 56.0, 4647, 293),\n (56.0, 58.0, 4540, 240),\n (58.0, 61.0, 6672, 351),\n (61.0, 63.0, 4886, 193),\n (63.0, 65.0, 3834, 129),\n (65.0, 68.0, 4913, 144),\n (68.0, 72.0, 4769, 131),\n (72.0, 78.0, 5194, 119),\n (78.0, 109.0, 4595, 92)]"
     },
     "execution_count": 268,
     "metadata": {},
     "output_type": "execute_result"
    }
   ],
   "source": [
    "#统计每个分箱中0和1的数量\n",
    "count_y0 = model_data[model_data['SeriousDlqin2yrs'] == 0].groupby('qcut').count()['SeriousDlqin2yrs']\n",
    "count_y1 = model_data[model_data['SeriousDlqin2yrs'] == 1].groupby('qcut').count()['SeriousDlqin2yrs']\n",
    "#num_bins值为每个区间的上界、下界、0出现的次数、1出现的次数\n",
    "#*zip代表解压\n",
    "numbins = [*zip(updown,updown[1:],count_y0,count_y1)]\n",
    "numbins"
   ],
   "metadata": {
    "collapsed": false
   }
  },
  {
   "cell_type": "markdown",
   "source": [
    "# 5.2确保每个箱中都有0和1"
   ],
   "metadata": {
    "collapsed": false
   }
  },
  {
   "cell_type": "code",
   "execution_count": 278,
   "outputs": [],
   "source": [
    "#确保每个箱中都有0和1\n",
    "for i in range(len(numbins)):\n",
    "    if 0 in numbins[i][2:]:\n",
    "        numbins[i:i+2] = [(numbins[i][0],numbins[i+1][i+1],\\\n",
    "                       numbins[i][2]+numbins[i+1][2],\\\n",
    "                       numbins[i][3]+numbins[i+1][3])]\n",
    "\n",
    "        break\n",
    "    else:\n",
    "        continue"
   ],
   "metadata": {
    "collapsed": false
   }
  },
  {
   "cell_type": "markdown",
   "source": [
    "# 5.3 定义woe和iv函数"
   ],
   "metadata": {
    "collapsed": false
   }
  },
  {
   "cell_type": "code",
   "execution_count": 282,
   "outputs": [],
   "source": [
    "# 计算woe 和 bad rate\n",
    "# bad rate 与bad%不是一个东西\n",
    "# bad rate = bad(i)/total\n",
    "# bad%= bad(i)/bad(total)\n",
    "def get_woe(num_bins):\n",
    "    #通过num_bins 数据计算woe\n",
    "    columns = ['bin_min','bin_max','count_0','count_1']\n",
    "    df = pd.DataFrame(num_bins,columns = columns)\n",
    "    df['total'] = df.c"
   ],
   "metadata": {
    "collapsed": false
   }
  },
  {
   "cell_type": "code",
   "execution_count": null,
   "outputs": [],
   "source": [],
   "metadata": {
    "collapsed": false
   }
  },
  {
   "cell_type": "code",
   "execution_count": null,
   "outputs": [],
   "source": [],
   "metadata": {
    "collapsed": false
   }
  }
 ],
 "metadata": {
  "kernelspec": {
   "display_name": "Python 3",
   "language": "python",
   "name": "python3"
  },
  "language_info": {
   "codemirror_mode": {
    "name": "ipython",
    "version": 2
   },
   "file_extension": ".py",
   "mimetype": "text/x-python",
   "name": "python",
   "nbconvert_exporter": "python",
   "pygments_lexer": "ipython2",
   "version": "2.7.6"
  }
 },
 "nbformat": 4,
 "nbformat_minor": 0
}
