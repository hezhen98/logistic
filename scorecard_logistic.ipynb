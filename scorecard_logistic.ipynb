{
 "cells": [
  {
   "cell_type": "markdown",
   "source": [
    "# 1.导库，获取数据"
   ],
   "metadata": {
    "collapsed": false
   }
  },
  {
   "cell_type": "code",
   "execution_count": 97,
   "outputs": [],
   "source": [
    "import scorecardpy as sc\n",
    "%matplotlib inline\n",
    "import numpy as np\n",
    "import pandas as pd\n",
    "from sklearn.linear_model import LogisticRegression as LR\n",
    "import matplotlib.pyplot as plt\n",
    "import scipy\n",
    "import scikitplot as skplt"
   ],
   "metadata": {
    "collapsed": false
   }
  },
  {
   "cell_type": "code",
   "execution_count": 2,
   "outputs": [],
   "source": [
    "data = pd.read_csv('./data/rankingcard.csv',index_col = 0)"
   ],
   "metadata": {
    "collapsed": false
   }
  },
  {
   "cell_type": "code",
   "execution_count": 3,
   "outputs": [
    {
     "data": {
      "text/plain": "(150000, 11)"
     },
     "execution_count": 3,
     "metadata": {},
     "output_type": "execute_result"
    }
   ],
   "source": [
    "data.shape"
   ],
   "metadata": {
    "collapsed": false
   }
  },
  {
   "cell_type": "code",
   "execution_count": 4,
   "outputs": [
    {
     "data": {
      "text/plain": "   SeriousDlqin2yrs  RevolvingUtilizationOfUnsecuredLines  age  \\\n1                 1                              0.766127   45   \n2                 0                              0.957151   40   \n3                 0                              0.658180   38   \n4                 0                              0.233810   30   \n5                 0                              0.907239   49   \n\n   NumberOfTime30-59DaysPastDueNotWorse  DebtRatio  MonthlyIncome  \\\n1                                     2   0.802982         9120.0   \n2                                     0   0.121876         2600.0   \n3                                     1   0.085113         3042.0   \n4                                     0   0.036050         3300.0   \n5                                     1   0.024926        63588.0   \n\n   NumberOfOpenCreditLinesAndLoans  NumberOfTimes90DaysLate  \\\n1                               13                        0   \n2                                4                        0   \n3                                2                        1   \n4                                5                        0   \n5                                7                        0   \n\n   NumberRealEstateLoansOrLines  NumberOfTime60-89DaysPastDueNotWorse  \\\n1                             6                                     0   \n2                             0                                     0   \n3                             0                                     0   \n4                             0                                     0   \n5                             1                                     0   \n\n   NumberOfDependents  \n1                 2.0  \n2                 1.0  \n3                 0.0  \n4                 0.0  \n5                 0.0  ",
      "text/html": "<div>\n<style scoped>\n    .dataframe tbody tr th:only-of-type {\n        vertical-align: middle;\n    }\n\n    .dataframe tbody tr th {\n        vertical-align: top;\n    }\n\n    .dataframe thead th {\n        text-align: right;\n    }\n</style>\n<table border=\"1\" class=\"dataframe\">\n  <thead>\n    <tr style=\"text-align: right;\">\n      <th></th>\n      <th>SeriousDlqin2yrs</th>\n      <th>RevolvingUtilizationOfUnsecuredLines</th>\n      <th>age</th>\n      <th>NumberOfTime30-59DaysPastDueNotWorse</th>\n      <th>DebtRatio</th>\n      <th>MonthlyIncome</th>\n      <th>NumberOfOpenCreditLinesAndLoans</th>\n      <th>NumberOfTimes90DaysLate</th>\n      <th>NumberRealEstateLoansOrLines</th>\n      <th>NumberOfTime60-89DaysPastDueNotWorse</th>\n      <th>NumberOfDependents</th>\n    </tr>\n  </thead>\n  <tbody>\n    <tr>\n      <th>1</th>\n      <td>1</td>\n      <td>0.766127</td>\n      <td>45</td>\n      <td>2</td>\n      <td>0.802982</td>\n      <td>9120.0</td>\n      <td>13</td>\n      <td>0</td>\n      <td>6</td>\n      <td>0</td>\n      <td>2.0</td>\n    </tr>\n    <tr>\n      <th>2</th>\n      <td>0</td>\n      <td>0.957151</td>\n      <td>40</td>\n      <td>0</td>\n      <td>0.121876</td>\n      <td>2600.0</td>\n      <td>4</td>\n      <td>0</td>\n      <td>0</td>\n      <td>0</td>\n      <td>1.0</td>\n    </tr>\n    <tr>\n      <th>3</th>\n      <td>0</td>\n      <td>0.658180</td>\n      <td>38</td>\n      <td>1</td>\n      <td>0.085113</td>\n      <td>3042.0</td>\n      <td>2</td>\n      <td>1</td>\n      <td>0</td>\n      <td>0</td>\n      <td>0.0</td>\n    </tr>\n    <tr>\n      <th>4</th>\n      <td>0</td>\n      <td>0.233810</td>\n      <td>30</td>\n      <td>0</td>\n      <td>0.036050</td>\n      <td>3300.0</td>\n      <td>5</td>\n      <td>0</td>\n      <td>0</td>\n      <td>0</td>\n      <td>0.0</td>\n    </tr>\n    <tr>\n      <th>5</th>\n      <td>0</td>\n      <td>0.907239</td>\n      <td>49</td>\n      <td>1</td>\n      <td>0.024926</td>\n      <td>63588.0</td>\n      <td>7</td>\n      <td>0</td>\n      <td>1</td>\n      <td>0</td>\n      <td>0.0</td>\n    </tr>\n  </tbody>\n</table>\n</div>"
     },
     "execution_count": 4,
     "metadata": {},
     "output_type": "execute_result"
    }
   ],
   "source": [
    "data.head()"
   ],
   "metadata": {
    "collapsed": false
   }
  },
  {
   "cell_type": "markdown",
   "source": [
    "# 2.探索数据与数据预处理"
   ],
   "metadata": {
    "collapsed": false
   }
  },
  {
   "cell_type": "markdown",
   "source": [
    "\n",
    "## 2.1去除重复值"
   ],
   "metadata": {
    "collapsed": false
   }
  },
  {
   "cell_type": "code",
   "execution_count": 5,
   "outputs": [
    {
     "name": "stdout",
     "output_type": "stream",
     "text": [
      "<class 'pandas.core.frame.DataFrame'>\n",
      "Index: 149391 entries, 1 to 150000\n",
      "Data columns (total 11 columns):\n",
      " #   Column                                Non-Null Count   Dtype  \n",
      "---  ------                                --------------   -----  \n",
      " 0   SeriousDlqin2yrs                      149391 non-null  int64  \n",
      " 1   RevolvingUtilizationOfUnsecuredLines  149391 non-null  float64\n",
      " 2   age                                   149391 non-null  int64  \n",
      " 3   NumberOfTime30-59DaysPastDueNotWorse  149391 non-null  int64  \n",
      " 4   DebtRatio                             149391 non-null  float64\n",
      " 5   MonthlyIncome                         120170 non-null  float64\n",
      " 6   NumberOfOpenCreditLinesAndLoans       149391 non-null  int64  \n",
      " 7   NumberOfTimes90DaysLate               149391 non-null  int64  \n",
      " 8   NumberRealEstateLoansOrLines          149391 non-null  int64  \n",
      " 9   NumberOfTime60-89DaysPastDueNotWorse  149391 non-null  int64  \n",
      " 10  NumberOfDependents                    145563 non-null  float64\n",
      "dtypes: float64(4), int64(7)\n",
      "memory usage: 13.7 MB\n"
     ]
    }
   ],
   "source": [
    "#去除重复值\n",
    "data.drop_duplicates(inplace=True)\n",
    "data.info()"
   ],
   "metadata": {
    "collapsed": false
   }
  },
  {
   "cell_type": "code",
   "execution_count": 6,
   "outputs": [
    {
     "name": "stdout",
     "output_type": "stream",
     "text": [
      "<class 'pandas.core.frame.DataFrame'>\n",
      "RangeIndex: 149391 entries, 0 to 149390\n",
      "Data columns (total 11 columns):\n",
      " #   Column                                Non-Null Count   Dtype  \n",
      "---  ------                                --------------   -----  \n",
      " 0   SeriousDlqin2yrs                      149391 non-null  int64  \n",
      " 1   RevolvingUtilizationOfUnsecuredLines  149391 non-null  float64\n",
      " 2   age                                   149391 non-null  int64  \n",
      " 3   NumberOfTime30-59DaysPastDueNotWorse  149391 non-null  int64  \n",
      " 4   DebtRatio                             149391 non-null  float64\n",
      " 5   MonthlyIncome                         120170 non-null  float64\n",
      " 6   NumberOfOpenCreditLinesAndLoans       149391 non-null  int64  \n",
      " 7   NumberOfTimes90DaysLate               149391 non-null  int64  \n",
      " 8   NumberRealEstateLoansOrLines          149391 non-null  int64  \n",
      " 9   NumberOfTime60-89DaysPastDueNotWorse  149391 non-null  int64  \n",
      " 10  NumberOfDependents                    145563 non-null  float64\n",
      "dtypes: float64(4), int64(7)\n",
      "memory usage: 12.5 MB\n"
     ]
    }
   ],
   "source": [
    "#删除之后一定是要恢复索引\n",
    "data.reset_index(drop=True,inplace=True)\n",
    "#data.index = range(data.shape[0])\n",
    "data.info()"
   ],
   "metadata": {
    "collapsed": false
   }
  },
  {
   "cell_type": "code",
   "execution_count": 7,
   "outputs": [
    {
     "data": {
      "text/plain": "   SeriousDlqin2yrs  RevolvingUtilizationOfUnsecuredLines  age  \\\n0                 1                              0.766127   45   \n1                 0                              0.957151   40   \n2                 0                              0.658180   38   \n3                 0                              0.233810   30   \n4                 0                              0.907239   49   \n\n   NumberOfTime30-59DaysPastDueNotWorse  DebtRatio  MonthlyIncome  \\\n0                                     2   0.802982         9120.0   \n1                                     0   0.121876         2600.0   \n2                                     1   0.085113         3042.0   \n3                                     0   0.036050         3300.0   \n4                                     1   0.024926        63588.0   \n\n   NumberOfOpenCreditLinesAndLoans  NumberOfTimes90DaysLate  \\\n0                               13                        0   \n1                                4                        0   \n2                                2                        1   \n3                                5                        0   \n4                                7                        0   \n\n   NumberRealEstateLoansOrLines  NumberOfTime60-89DaysPastDueNotWorse  \\\n0                             6                                     0   \n1                             0                                     0   \n2                             0                                     0   \n3                             0                                     0   \n4                             1                                     0   \n\n   NumberOfDependents  \n0                 2.0  \n1                 1.0  \n2                 0.0  \n3                 0.0  \n4                 0.0  ",
      "text/html": "<div>\n<style scoped>\n    .dataframe tbody tr th:only-of-type {\n        vertical-align: middle;\n    }\n\n    .dataframe tbody tr th {\n        vertical-align: top;\n    }\n\n    .dataframe thead th {\n        text-align: right;\n    }\n</style>\n<table border=\"1\" class=\"dataframe\">\n  <thead>\n    <tr style=\"text-align: right;\">\n      <th></th>\n      <th>SeriousDlqin2yrs</th>\n      <th>RevolvingUtilizationOfUnsecuredLines</th>\n      <th>age</th>\n      <th>NumberOfTime30-59DaysPastDueNotWorse</th>\n      <th>DebtRatio</th>\n      <th>MonthlyIncome</th>\n      <th>NumberOfOpenCreditLinesAndLoans</th>\n      <th>NumberOfTimes90DaysLate</th>\n      <th>NumberRealEstateLoansOrLines</th>\n      <th>NumberOfTime60-89DaysPastDueNotWorse</th>\n      <th>NumberOfDependents</th>\n    </tr>\n  </thead>\n  <tbody>\n    <tr>\n      <th>0</th>\n      <td>1</td>\n      <td>0.766127</td>\n      <td>45</td>\n      <td>2</td>\n      <td>0.802982</td>\n      <td>9120.0</td>\n      <td>13</td>\n      <td>0</td>\n      <td>6</td>\n      <td>0</td>\n      <td>2.0</td>\n    </tr>\n    <tr>\n      <th>1</th>\n      <td>0</td>\n      <td>0.957151</td>\n      <td>40</td>\n      <td>0</td>\n      <td>0.121876</td>\n      <td>2600.0</td>\n      <td>4</td>\n      <td>0</td>\n      <td>0</td>\n      <td>0</td>\n      <td>1.0</td>\n    </tr>\n    <tr>\n      <th>2</th>\n      <td>0</td>\n      <td>0.658180</td>\n      <td>38</td>\n      <td>1</td>\n      <td>0.085113</td>\n      <td>3042.0</td>\n      <td>2</td>\n      <td>1</td>\n      <td>0</td>\n      <td>0</td>\n      <td>0.0</td>\n    </tr>\n    <tr>\n      <th>3</th>\n      <td>0</td>\n      <td>0.233810</td>\n      <td>30</td>\n      <td>0</td>\n      <td>0.036050</td>\n      <td>3300.0</td>\n      <td>5</td>\n      <td>0</td>\n      <td>0</td>\n      <td>0</td>\n      <td>0.0</td>\n    </tr>\n    <tr>\n      <th>4</th>\n      <td>0</td>\n      <td>0.907239</td>\n      <td>49</td>\n      <td>1</td>\n      <td>0.024926</td>\n      <td>63588.0</td>\n      <td>7</td>\n      <td>0</td>\n      <td>1</td>\n      <td>0</td>\n      <td>0.0</td>\n    </tr>\n  </tbody>\n</table>\n</div>"
     },
     "execution_count": 7,
     "metadata": {},
     "output_type": "execute_result"
    }
   ],
   "source": [
    "data.head()"
   ],
   "metadata": {
    "collapsed": false
   }
  },
  {
   "cell_type": "markdown",
   "source": [
    "## 2.2 填补缺失值"
   ],
   "metadata": {
    "collapsed": false
   }
  },
  {
   "cell_type": "code",
   "execution_count": 8,
   "outputs": [
    {
     "data": {
      "text/plain": "SeriousDlqin2yrs                        0.000000\nRevolvingUtilizationOfUnsecuredLines    0.000000\nage                                     0.000000\nNumberOfTime30-59DaysPastDueNotWorse    0.000000\nDebtRatio                               0.000000\nMonthlyIncome                           0.195601\nNumberOfOpenCreditLinesAndLoans         0.000000\nNumberOfTimes90DaysLate                 0.000000\nNumberRealEstateLoansOrLines            0.000000\nNumberOfTime60-89DaysPastDueNotWorse    0.000000\nNumberOfDependents                      0.025624\ndtype: float64"
     },
     "execution_count": 8,
     "metadata": {},
     "output_type": "execute_result"
    }
   ],
   "source": [
    "#均值填补\n",
    "#data.isna().sum()/data.shape[0]\n",
    "data.isna().mean()"
   ],
   "metadata": {
    "collapsed": false
   }
  },
  {
   "cell_type": "code",
   "execution_count": 9,
   "outputs": [],
   "source": [
    "data['NumberOfDependents'].fillna(int(data['NumberOfDependents'].mean()),inplace=True)"
   ],
   "metadata": {
    "collapsed": false
   }
  },
  {
   "cell_type": "code",
   "execution_count": 10,
   "outputs": [
    {
     "data": {
      "text/plain": "SeriousDlqin2yrs                        0.000000\nRevolvingUtilizationOfUnsecuredLines    0.000000\nage                                     0.000000\nNumberOfTime30-59DaysPastDueNotWorse    0.000000\nDebtRatio                               0.000000\nMonthlyIncome                           0.195601\nNumberOfOpenCreditLinesAndLoans         0.000000\nNumberOfTimes90DaysLate                 0.000000\nNumberRealEstateLoansOrLines            0.000000\nNumberOfTime60-89DaysPastDueNotWorse    0.000000\nNumberOfDependents                      0.000000\ndtype: float64"
     },
     "execution_count": 10,
     "metadata": {},
     "output_type": "execute_result"
    }
   ],
   "source": [
    "data.isna().mean()"
   ],
   "metadata": {
    "collapsed": false
   }
  },
  {
   "cell_type": "code",
   "execution_count": 11,
   "outputs": [],
   "source": [
    "#随机森林\n",
    "#填补函数\n",
    "def fill_missing_rf(x,y,to_fill):\n",
    "    \"\"\"\n",
    "    使用随机森林填补一个特征的缺失值的函数\n",
    "    :param x: 要填补的特征矩阵\n",
    "    :param y: 完整的，没有缺失值的标签（原有标签）\n",
    "    :param to_fill: 要填补的特征\n",
    "    :return: 缺失填补后的特征\n",
    "    \"\"\"\n",
    "    #构建新特征矩阵和标签\n",
    "    df = x.copy()\n",
    "    fill = df.loc[:,to_fill]\n",
    "    df = pd.concat([df.loc[:,df.columns!=to_fill],pd.DataFrame(y)],axis=1)\n",
    "\n",
    "    #找出训练集和测试集\n",
    "    y_train = fill[fill.notnull()]\n",
    "    y_test  = fill[fill.isnull()]\n",
    "    x_train = df.iloc[y_train.index,:]\n",
    "    x_test = df.iloc[y_test.index,:]\n",
    "\n",
    "    #使用随机森林填补缺失值\n",
    "    from sklearn.ensemble import RandomForestRegressor as rfr\n",
    "    rfr = rfr(n_estimators=100)\n",
    "    rfr.fit(x_train,y_train)\n",
    "    yprdict = rfr.predict(x_test)\n",
    "\n",
    "    return yprdict"
   ],
   "metadata": {
    "collapsed": false
   }
  },
  {
   "cell_type": "code",
   "execution_count": 12,
   "outputs": [],
   "source": [
    "x = data.iloc[:,1:]\n",
    "y = data['SeriousDlqin2yrs']\n",
    "ypredict = fill_missing_rf(x,y,'MonthlyIncome')"
   ],
   "metadata": {
    "collapsed": false
   }
  },
  {
   "cell_type": "code",
   "execution_count": 13,
   "outputs": [],
   "source": [
    "#确认结果合理，就将数据覆盖\n",
    "data.loc[data.loc[:,\"MonthlyIncome\"].isnull(),\"MonthlyIncome\"] = ypredict"
   ],
   "metadata": {
    "collapsed": false
   }
  },
  {
   "cell_type": "code",
   "execution_count": 14,
   "outputs": [
    {
     "data": {
      "text/plain": "SeriousDlqin2yrs                        0.0\nRevolvingUtilizationOfUnsecuredLines    0.0\nage                                     0.0\nNumberOfTime30-59DaysPastDueNotWorse    0.0\nDebtRatio                               0.0\nMonthlyIncome                           0.0\nNumberOfOpenCreditLinesAndLoans         0.0\nNumberOfTimes90DaysLate                 0.0\nNumberRealEstateLoansOrLines            0.0\nNumberOfTime60-89DaysPastDueNotWorse    0.0\nNumberOfDependents                      0.0\ndtype: float64"
     },
     "execution_count": 14,
     "metadata": {},
     "output_type": "execute_result"
    }
   ],
   "source": [
    "data.isnull().mean()"
   ],
   "metadata": {
    "collapsed": false
   }
  },
  {
   "cell_type": "markdown",
   "source": [
    "## 2.3描述性统计处理异常值"
   ],
   "metadata": {
    "collapsed": false
   }
  },
  {
   "cell_type": "code",
   "execution_count": 15,
   "outputs": [],
   "source": [
    "df_describe = data.describe([0.01,0.1,0.25,.5,.75,.9]).T"
   ],
   "metadata": {
    "collapsed": false
   }
  },
  {
   "cell_type": "code",
   "execution_count": 16,
   "outputs": [],
   "source": [
    "(data['age']==0).sum()\n",
    "data = data[data['age']!=0]\n",
    "data = data[data.loc[:,\"NumberOfTimes90DaysLate\"]<90]"
   ],
   "metadata": {
    "collapsed": false
   }
  },
  {
   "cell_type": "code",
   "execution_count": 17,
   "outputs": [
    {
     "name": "stdout",
     "output_type": "stream",
     "text": [
      "<class 'pandas.core.frame.DataFrame'>\n",
      "RangeIndex: 149165 entries, 0 to 149164\n",
      "Data columns (total 11 columns):\n",
      " #   Column                                Non-Null Count   Dtype  \n",
      "---  ------                                --------------   -----  \n",
      " 0   SeriousDlqin2yrs                      149165 non-null  int64  \n",
      " 1   RevolvingUtilizationOfUnsecuredLines  149165 non-null  float64\n",
      " 2   age                                   149165 non-null  int64  \n",
      " 3   NumberOfTime30-59DaysPastDueNotWorse  149165 non-null  int64  \n",
      " 4   DebtRatio                             149165 non-null  float64\n",
      " 5   MonthlyIncome                         149165 non-null  float64\n",
      " 6   NumberOfOpenCreditLinesAndLoans       149165 non-null  int64  \n",
      " 7   NumberOfTimes90DaysLate               149165 non-null  int64  \n",
      " 8   NumberRealEstateLoansOrLines          149165 non-null  int64  \n",
      " 9   NumberOfTime60-89DaysPastDueNotWorse  149165 non-null  int64  \n",
      " 10  NumberOfDependents                    149165 non-null  float64\n",
      "dtypes: float64(4), int64(7)\n",
      "memory usage: 12.5 MB\n"
     ]
    }
   ],
   "source": [
    "data.index = range(data.shape[0])\n",
    "data.info()"
   ],
   "metadata": {
    "collapsed": false
   }
  },
  {
   "cell_type": "markdown",
   "source": [
    "## 2.5样本不均衡问题"
   ],
   "metadata": {
    "collapsed": false
   }
  },
  {
   "cell_type": "code",
   "execution_count": 18,
   "outputs": [
    {
     "name": "stdout",
     "output_type": "stream",
     "text": [
      "样本个数:149165;\n",
      "1占6.62%;\n",
      "0占93.38%\n"
     ]
    }
   ],
   "source": [
    "#标签分布\n",
    "x = data.iloc[:,1:]\n",
    "y = data.iloc[:,0]\n",
    "y.value_counts()\n",
    "n_sample = x.shape[0]\n",
    "n1_sample = y.value_counts()[1]\n",
    "n0_sample = y.value_counts()[0]\n",
    "print(f'样本个数:%d;\\n1占%.2f%%;\\n0占%.2f%%'%(n_sample,n1_sample*100/n_sample,n0_sample*100/n_sample))\n",
    "#print('样本个数:{:d};\\n1占{:.2%};\\n0占{:.2%}'.format(n_sample,n1_sample/n_sample,n0_sample/n_sample))"
   ],
   "metadata": {
    "collapsed": false
   }
  },
  {
   "cell_type": "code",
   "execution_count": 19,
   "outputs": [
    {
     "name": "stdout",
     "output_type": "stream",
     "text": [
      "样本总数为278584;\n",
      "1占50.00%;\n",
      "2占50.00%\n",
      "\n"
     ]
    }
   ],
   "source": [
    "#上采样 方法平衡样本【不断向上采样平衡样本】\n",
    "#重复采样样本量少的部分，以数据量多的一方的样本数量为标准，把样本数量较少的类的样本数量生成和样本数量多的一方相同\n",
    "\n",
    "from imblearn.over_sampling import SMOTE\n",
    "\n",
    "sm = SMOTE(random_state=42)#实例化\n",
    "x,y = sm.fit_resample(x,y) #返回已经上采样完毕后的特征矩阵和标签\n",
    "n_sample = x.shape[0]\n",
    "pd.Series(y).value_counts()\n",
    "n1_sample = pd.Series(y).value_counts()[1]\n",
    "n0_sample = pd.Series(y).value_counts()[0]\n",
    "print('样本总数为{:d};\\n1占{:.2%};\\n2占{:.2%}\\n'.format(n_sample,n1_sample/n_sample,n0_sample/n_sample))"
   ],
   "metadata": {
    "collapsed": false
   }
  },
  {
   "cell_type": "markdown",
   "source": [
    "# 3 特征筛选"
   ],
   "metadata": {
    "collapsed": false
   }
  },
  {
   "cell_type": "markdown",
   "source": [
    "## 3.1 方差为0的特征删除"
   ],
   "metadata": {
    "collapsed": false
   }
  },
  {
   "cell_type": "code",
   "execution_count": 20,
   "outputs": [
    {
     "data": {
      "text/plain": "                                         count         mean           std  \\\nSeriousDlqin2yrs                      149391.0     0.066999      0.250021   \nRevolvingUtilizationOfUnsecuredLines  149391.0     6.071087    250.263672   \nage                                   149391.0    52.306237     14.725962   \nNumberOfTime30-59DaysPastDueNotWorse  149391.0     0.393886      3.852953   \nDebtRatio                             149391.0   354.436740   2041.843455   \nMonthlyIncome                         149391.0  5426.346349  13265.838252   \nNumberOfOpenCreditLinesAndLoans       149391.0     8.480892      5.136515   \nNumberOfTimes90DaysLate               149391.0     0.238120      3.826165   \nNumberRealEstateLoansOrLines          149391.0     1.022391      1.130196   \nNumberOfTime60-89DaysPastDueNotWorse  149391.0     0.212503      3.810523   \nNumberOfDependents                    149391.0     0.740393      1.108272   \n\n                                      min    1%        10%          25%  \\\nSeriousDlqin2yrs                      0.0   0.0   0.000000     0.000000   \nRevolvingUtilizationOfUnsecuredLines  0.0   0.0   0.003199     0.030132   \nage                                   0.0  24.0  33.000000    41.000000   \nNumberOfTime30-59DaysPastDueNotWorse  0.0   0.0   0.000000     0.000000   \nDebtRatio                             0.0   0.0   0.034991     0.177441   \nMonthlyIncome                         0.0   0.0   0.180000  1800.000000   \nNumberOfOpenCreditLinesAndLoans       0.0   0.0   3.000000     5.000000   \nNumberOfTimes90DaysLate               0.0   0.0   0.000000     0.000000   \nNumberRealEstateLoansOrLines          0.0   0.0   0.000000     0.000000   \nNumberOfTime60-89DaysPastDueNotWorse  0.0   0.0   0.000000     0.000000   \nNumberOfDependents                    0.0   0.0   0.000000     0.000000   \n\n                                              50%          75%           90%  \\\nSeriousDlqin2yrs                         0.000000     0.000000      0.000000   \nRevolvingUtilizationOfUnsecuredLines     0.154235     0.556494      0.978007   \nage                                     52.000000    63.000000     72.000000   \nNumberOfTime30-59DaysPastDueNotWorse     0.000000     0.000000      1.000000   \nDebtRatio                                0.368234     0.875279   1275.000000   \nMonthlyIncome                         4417.000000  7416.000000  10800.000000   \nNumberOfOpenCreditLinesAndLoans          8.000000    11.000000     15.000000   \nNumberOfTimes90DaysLate                  0.000000     0.000000      0.000000   \nNumberRealEstateLoansOrLines             1.000000     2.000000      2.000000   \nNumberOfTime60-89DaysPastDueNotWorse     0.000000     0.000000      0.000000   \nNumberOfDependents                       0.000000     1.000000      2.000000   \n\n                                            max  \nSeriousDlqin2yrs                            1.0  \nRevolvingUtilizationOfUnsecuredLines    50708.0  \nage                                       109.0  \nNumberOfTime30-59DaysPastDueNotWorse       98.0  \nDebtRatio                              329664.0  \nMonthlyIncome                         3008750.0  \nNumberOfOpenCreditLinesAndLoans            58.0  \nNumberOfTimes90DaysLate                    98.0  \nNumberRealEstateLoansOrLines               54.0  \nNumberOfTime60-89DaysPastDueNotWorse       98.0  \nNumberOfDependents                         20.0  ",
      "text/html": "<div>\n<style scoped>\n    .dataframe tbody tr th:only-of-type {\n        vertical-align: middle;\n    }\n\n    .dataframe tbody tr th {\n        vertical-align: top;\n    }\n\n    .dataframe thead th {\n        text-align: right;\n    }\n</style>\n<table border=\"1\" class=\"dataframe\">\n  <thead>\n    <tr style=\"text-align: right;\">\n      <th></th>\n      <th>count</th>\n      <th>mean</th>\n      <th>std</th>\n      <th>min</th>\n      <th>1%</th>\n      <th>10%</th>\n      <th>25%</th>\n      <th>50%</th>\n      <th>75%</th>\n      <th>90%</th>\n      <th>max</th>\n    </tr>\n  </thead>\n  <tbody>\n    <tr>\n      <th>SeriousDlqin2yrs</th>\n      <td>149391.0</td>\n      <td>0.066999</td>\n      <td>0.250021</td>\n      <td>0.0</td>\n      <td>0.0</td>\n      <td>0.000000</td>\n      <td>0.000000</td>\n      <td>0.000000</td>\n      <td>0.000000</td>\n      <td>0.000000</td>\n      <td>1.0</td>\n    </tr>\n    <tr>\n      <th>RevolvingUtilizationOfUnsecuredLines</th>\n      <td>149391.0</td>\n      <td>6.071087</td>\n      <td>250.263672</td>\n      <td>0.0</td>\n      <td>0.0</td>\n      <td>0.003199</td>\n      <td>0.030132</td>\n      <td>0.154235</td>\n      <td>0.556494</td>\n      <td>0.978007</td>\n      <td>50708.0</td>\n    </tr>\n    <tr>\n      <th>age</th>\n      <td>149391.0</td>\n      <td>52.306237</td>\n      <td>14.725962</td>\n      <td>0.0</td>\n      <td>24.0</td>\n      <td>33.000000</td>\n      <td>41.000000</td>\n      <td>52.000000</td>\n      <td>63.000000</td>\n      <td>72.000000</td>\n      <td>109.0</td>\n    </tr>\n    <tr>\n      <th>NumberOfTime30-59DaysPastDueNotWorse</th>\n      <td>149391.0</td>\n      <td>0.393886</td>\n      <td>3.852953</td>\n      <td>0.0</td>\n      <td>0.0</td>\n      <td>0.000000</td>\n      <td>0.000000</td>\n      <td>0.000000</td>\n      <td>0.000000</td>\n      <td>1.000000</td>\n      <td>98.0</td>\n    </tr>\n    <tr>\n      <th>DebtRatio</th>\n      <td>149391.0</td>\n      <td>354.436740</td>\n      <td>2041.843455</td>\n      <td>0.0</td>\n      <td>0.0</td>\n      <td>0.034991</td>\n      <td>0.177441</td>\n      <td>0.368234</td>\n      <td>0.875279</td>\n      <td>1275.000000</td>\n      <td>329664.0</td>\n    </tr>\n    <tr>\n      <th>MonthlyIncome</th>\n      <td>149391.0</td>\n      <td>5426.346349</td>\n      <td>13265.838252</td>\n      <td>0.0</td>\n      <td>0.0</td>\n      <td>0.180000</td>\n      <td>1800.000000</td>\n      <td>4417.000000</td>\n      <td>7416.000000</td>\n      <td>10800.000000</td>\n      <td>3008750.0</td>\n    </tr>\n    <tr>\n      <th>NumberOfOpenCreditLinesAndLoans</th>\n      <td>149391.0</td>\n      <td>8.480892</td>\n      <td>5.136515</td>\n      <td>0.0</td>\n      <td>0.0</td>\n      <td>3.000000</td>\n      <td>5.000000</td>\n      <td>8.000000</td>\n      <td>11.000000</td>\n      <td>15.000000</td>\n      <td>58.0</td>\n    </tr>\n    <tr>\n      <th>NumberOfTimes90DaysLate</th>\n      <td>149391.0</td>\n      <td>0.238120</td>\n      <td>3.826165</td>\n      <td>0.0</td>\n      <td>0.0</td>\n      <td>0.000000</td>\n      <td>0.000000</td>\n      <td>0.000000</td>\n      <td>0.000000</td>\n      <td>0.000000</td>\n      <td>98.0</td>\n    </tr>\n    <tr>\n      <th>NumberRealEstateLoansOrLines</th>\n      <td>149391.0</td>\n      <td>1.022391</td>\n      <td>1.130196</td>\n      <td>0.0</td>\n      <td>0.0</td>\n      <td>0.000000</td>\n      <td>0.000000</td>\n      <td>1.000000</td>\n      <td>2.000000</td>\n      <td>2.000000</td>\n      <td>54.0</td>\n    </tr>\n    <tr>\n      <th>NumberOfTime60-89DaysPastDueNotWorse</th>\n      <td>149391.0</td>\n      <td>0.212503</td>\n      <td>3.810523</td>\n      <td>0.0</td>\n      <td>0.0</td>\n      <td>0.000000</td>\n      <td>0.000000</td>\n      <td>0.000000</td>\n      <td>0.000000</td>\n      <td>0.000000</td>\n      <td>98.0</td>\n    </tr>\n    <tr>\n      <th>NumberOfDependents</th>\n      <td>149391.0</td>\n      <td>0.740393</td>\n      <td>1.108272</td>\n      <td>0.0</td>\n      <td>0.0</td>\n      <td>0.000000</td>\n      <td>0.000000</td>\n      <td>0.000000</td>\n      <td>1.000000</td>\n      <td>2.000000</td>\n      <td>20.0</td>\n    </tr>\n  </tbody>\n</table>\n</div>"
     },
     "execution_count": 20,
     "metadata": {},
     "output_type": "execute_result"
    }
   ],
   "source": [
    "df_describe"
   ],
   "metadata": {
    "collapsed": false
   }
  },
  {
   "cell_type": "code",
   "execution_count": 21,
   "outputs": [],
   "source": [
    "varnum = [x for x in df_describe[df_describe[\"std\"] !=0].index]"
   ],
   "metadata": {
    "collapsed": false
   }
  },
  {
   "cell_type": "code",
   "execution_count": 22,
   "outputs": [
    {
     "data": {
      "text/plain": "Index(['SeriousDlqin2yrs', 'RevolvingUtilizationOfUnsecuredLines', 'age',\n       'NumberOfTime30-59DaysPastDueNotWorse', 'DebtRatio', 'MonthlyIncome',\n       'NumberOfOpenCreditLinesAndLoans', 'NumberOfTimes90DaysLate',\n       'NumberRealEstateLoansOrLines', 'NumberOfTime60-89DaysPastDueNotWorse',\n       'NumberOfDependents'],\n      dtype='object')"
     },
     "execution_count": 22,
     "metadata": {},
     "output_type": "execute_result"
    }
   ],
   "source": [
    "data.columns"
   ],
   "metadata": {
    "collapsed": false
   }
  },
  {
   "cell_type": "markdown",
   "source": [
    "## 3.2 相关性剔除；剔除规则iv较小"
   ],
   "metadata": {
    "collapsed": false
   }
  },
  {
   "cell_type": "code",
   "execution_count": 23,
   "outputs": [
    {
     "data": {
      "text/plain": "<Axes: >"
     },
     "execution_count": 23,
     "metadata": {},
     "output_type": "execute_result"
    },
    {
     "data": {
      "text/plain": "<Figure size 640x480 with 2 Axes>",
      "image/png": "[encoded data removed]"
     },
     "metadata": {},
     "output_type": "display_data"
    }
   ],
   "source": [
    "import seaborn as sns\n",
    "import scorecardpy as sc\n",
    "sns.heatmap(data.corr())"
   ],
   "metadata": {
    "collapsed": false
   }
  },
  {
   "cell_type": "code",
   "execution_count": 24,
   "outputs": [],
   "source": [
    "#剔除两两相关变量中iv较低者\n",
    "def get_sc_iv(df_num,features,label='SeriousDlqin2yrs',bin_num_limit =10):\n",
    "    \"\"\"\n",
    "    输入：\n",
    "    df_num:特征矩阵\n",
    "    features:特征名称\n",
    "    label：标签名称\n",
    "    bin_num_limit :分箱箱数限制\n",
    "    method:方法\n",
    "    输出：\n",
    "    return woe_bins\n",
    "    \"\"\"\n",
    "    exclude_cols = ['SeriousDlqin2yrs']\n",
    "    iv_dict = {}\n",
    "    i = 0\n",
    "    for col in features:\n",
    "        try:\n",
    "            i += 1\n",
    "            print(i,col)\n",
    "            bins = sc.woebin(df_num[[col,label]],y = label,bin_num_limit=bin_num_limit)\n",
    "            iv_dict[col] = bins\n",
    "        except:\n",
    "            print(col)\n",
    "    #print(iv_dict)\n",
    "    woe_bins = pd.DataFrame()\n",
    "    for key in iv_dict:\n",
    "         woe_bins = pd.concat([woe_bins, iv_dict[key][key]])\n",
    "        #woe_bins = woe_bins.append(iv_dict[key][key],ignore_index=True)\n",
    "    woe_bins = woe_bins[~woe_bins['variable'].isin(exclude_cols)].rename(columns = {'variable':'cols'})\n",
    "    return iv_dict,woe_bins"
   ],
   "metadata": {
    "collapsed": false
   }
  },
  {
   "cell_type": "code",
   "execution_count": 25,
   "outputs": [
    {
     "name": "stdout",
     "output_type": "stream",
     "text": [
      "1 RevolvingUtilizationOfUnsecuredLines\n",
      "[INFO] creating woe binning ...\n",
      "2 age\n",
      "[INFO] creating woe binning ...\n",
      "3 NumberOfTime30-59DaysPastDueNotWorse\n",
      "[INFO] creating woe binning ...\n",
      "4 DebtRatio\n",
      "[INFO] creating woe binning ...\n",
      "5 MonthlyIncome\n",
      "[INFO] creating woe binning ...\n",
      "6 NumberOfOpenCreditLinesAndLoans\n",
      "[INFO] creating woe binning ...\n",
      "7 NumberOfTimes90DaysLate\n",
      "[INFO] creating woe binning ...\n",
      "8 NumberRealEstateLoansOrLines\n",
      "[INFO] creating woe binning ...\n",
      "9 NumberOfTime60-89DaysPastDueNotWorse\n",
      "[INFO] creating woe binning ...\n",
      "10 NumberOfDependents\n",
      "[INFO] creating woe binning ...\n"
     ]
    }
   ],
   "source": [
    "iv,sc_iv = get_sc_iv(data,varnum[1:])"
   ],
   "metadata": {
    "collapsed": false
   }
  },
  {
   "cell_type": "code",
   "execution_count": 26,
   "outputs": [],
   "source": [
    "sc_iv = pd.DataFrame(sc_iv.groupby('cols')['total_iv'].mean())"
   ],
   "metadata": {
    "collapsed": false
   }
  },
  {
   "cell_type": "code",
   "execution_count": 27,
   "outputs": [
    {
     "data": {
      "text/plain": "0.24199927869207197"
     },
     "execution_count": 27,
     "metadata": {},
     "output_type": "execute_result"
    }
   ],
   "source": [
    "sc_iv.loc['age'][0]"
   ],
   "metadata": {
    "collapsed": false
   }
  },
  {
   "cell_type": "code",
   "execution_count": 28,
   "outputs": [],
   "source": [
    "#相关性剔除\n",
    "def forward_delete_corr(df,sc_iv,col_list,threshold = None):\n",
    "    \"\"\"\n",
    "    df:训练数据集\n",
    "    col_list:变量list集合\n",
    "    threshold:相关性设定的阈值\n",
    "    return：相关性剔除后的变量\n",
    "    \"\"\"\n",
    "    list_corr = col_list[:]\n",
    "    for col in list_corr:\n",
    "        corr = df.loc[:,list_corr].corr()[col]\n",
    "        corr_index = [x for x in corr.index if x!=col]\n",
    "        corr_values = [x for x in corr.values if x!=1]\n",
    "        for i,j in zip(corr_index,corr_values):\n",
    "            if abs(j)>=threshold:\n",
    "                if sc_iv.loc[col][0] < sc_iv.loc[i][0]:\n",
    "                    list_corr.remove(col)\n",
    "                    break\n",
    "                else:\n",
    "                    list_corr.remove(i)\n",
    "    return list_corr"
   ],
   "metadata": {
    "collapsed": false
   }
  },
  {
   "cell_type": "code",
   "execution_count": 29,
   "outputs": [],
   "source": [
    "def corr_mapping(df,col_list,threshold=None):\n",
    "    \"\"\"\n",
    "    df:数据集\n",
    "    col_list:变量list集合\n",
    "    threshold:相关性设定的阈值\n",
    "    return:强相关性变量之间的映射关系表\n",
    "    \"\"\"\n",
    "    corr_df = df.loc[:,col_list].corr()\n",
    "    col_a = []\n",
    "    col_b = []\n",
    "    corr_value = []\n",
    "    for col,i in zip(col_list[1:],range(1,len(col_list),1)):\n",
    "        high_corr_col = []\n",
    "        high_corr_value = []\n",
    "        corr_series = corr_df[col][1:]\n",
    "        for i,j in zip(corr_series.index,corr_series.values):\n",
    "            if abs(j)>threshold:\n",
    "                high_corr_col.append(i)\n",
    "                high_corr_value.append(j)\n",
    "        col_a.extend([col]*len(high_corr_col))\n",
    "        col_b.extend(high_corr_col)\n",
    "        corr_value.extend(high_corr_value)\n",
    "    corr_map_df = pd.DataFrame({'col_A':col_a,\n",
    "                                'col_B':col_b,\n",
    "                                'corr':corr_value,\n",
    "                               })\n",
    "    return corr_map_df"
   ],
   "metadata": {
    "collapsed": false
   }
  },
  {
   "cell_type": "code",
   "execution_count": 30,
   "outputs": [],
   "source": [
    "var_num = forward_delete_corr(data,sc_iv,data.columns.tolist(),threshold=0.6)"
   ],
   "metadata": {
    "collapsed": false
   }
  },
  {
   "cell_type": "markdown",
   "source": [
    "## 3.3iv筛选"
   ],
   "metadata": {
    "collapsed": false
   }
  },
  {
   "cell_type": "code",
   "execution_count": 31,
   "outputs": [],
   "source": [
    "var_num = [x for x in var_num[1:] if sc_iv.loc[x][0] > 0.02 and sc_iv.loc[x][0] <1.2 ]"
   ],
   "metadata": {
    "collapsed": false
   }
  },
  {
   "cell_type": "code",
   "execution_count": 63,
   "outputs": [
    {
     "data": {
      "text/plain": "['RevolvingUtilizationOfUnsecuredLines',\n 'age',\n 'NumberOfTime30-59DaysPastDueNotWorse',\n 'DebtRatio',\n 'MonthlyIncome',\n 'NumberOfOpenCreditLinesAndLoans',\n 'NumberOfTimes90DaysLate',\n 'NumberRealEstateLoansOrLines',\n 'NumberOfDependents']"
     },
     "execution_count": 63,
     "metadata": {},
     "output_type": "execute_result"
    }
   ],
   "source": [
    "var_num"
   ],
   "metadata": {
    "collapsed": false
   }
  },
  {
   "cell_type": "code",
   "execution_count": 64,
   "outputs": [],
   "source": [
    "data = data[var_num+['SeriousDlqin2yrs']]"
   ],
   "metadata": {
    "collapsed": false
   }
  },
  {
   "cell_type": "markdown",
   "source": [
    "# 4 区分训练集和测试集"
   ],
   "metadata": {
    "collapsed": false
   }
  },
  {
   "cell_type": "code",
   "execution_count": 65,
   "outputs": [],
   "source": [
    "from sklearn.model_selection import train_test_split\n",
    "x = data[var_num]\n",
    "y = data['SeriousDlqin2yrs']\n",
    "x_train,x_test,y_train,y_test = train_test_split(x,y,test_size=0.3,random_state=10)"
   ],
   "metadata": {
    "collapsed": false
   }
  },
  {
   "cell_type": "code",
   "execution_count": 66,
   "outputs": [],
   "source": [
    "#训练数据\n",
    "model_data = pd.concat([y_train,x_train],axis=1)\n",
    "#model_data.reset_index(drop = True,inplace=True)\n",
    "model_data.index = range(model_data.shape[0])\n"
   ],
   "metadata": {
    "collapsed": false
   }
  },
  {
   "cell_type": "code",
   "execution_count": 67,
   "outputs": [],
   "source": [
    "# 测试数据\n",
    "vali_data = pd.concat([y_test,x_test],axis=1)\n",
    "vali_data.index = range(vali_data.shape[0])\n"
   ],
   "metadata": {
    "collapsed": false
   }
  },
  {
   "cell_type": "code",
   "execution_count": 37,
   "outputs": [],
   "source": [
    "#保存数据\n",
    "model_data.to_csv('./data/model_data.csv')\n",
    "vali_data.to_csv('./data/vali_data.csv')"
   ],
   "metadata": {
    "collapsed": false
   }
  },
  {
   "cell_type": "code",
   "execution_count": 68,
   "outputs": [
    {
     "data": {
      "text/plain": "Index(['SeriousDlqin2yrs', 'RevolvingUtilizationOfUnsecuredLines', 'age',\n       'NumberOfTime30-59DaysPastDueNotWorse', 'DebtRatio', 'MonthlyIncome',\n       'NumberOfOpenCreditLinesAndLoans', 'NumberOfTimes90DaysLate',\n       'NumberRealEstateLoansOrLines', 'NumberOfDependents'],\n      dtype='object')"
     },
     "execution_count": 68,
     "metadata": {},
     "output_type": "execute_result"
    }
   ],
   "source": [
    "model_data.columns"
   ],
   "metadata": {
    "collapsed": false
   }
  },
  {
   "cell_type": "markdown",
   "source": [
    "# 5分箱"
   ],
   "metadata": {
    "collapsed": false
   }
  },
  {
   "cell_type": "markdown",
   "source": [
    "## 5.1等频分箱"
   ],
   "metadata": {
    "collapsed": false
   }
  },
  {
   "cell_type": "code",
   "execution_count": 86,
   "outputs": [
    {
     "data": {
      "text/plain": "        SeriousDlqin2yrs  RevolvingUtilizationOfUnsecuredLines  age  \\\n0                      0                              0.234997   49   \n1                      0                              0.002432   39   \n2                      0                              0.455464   61   \n3                      0                              0.485318   48   \n4                      0                              0.267373   63   \n...                  ...                                   ...  ...   \n104410                 0                              0.616969   48   \n104411                 0                              0.022150   34   \n104412                 0                              0.553631   22   \n104413                 0                              0.915415   57   \n104414                 0                              0.144716   47   \n\n        NumberOfTime30-59DaysPastDueNotWorse   DebtRatio  MonthlyIncome  \\\n0                                          0    1.339107        1500.00   \n1                                          0    0.072861       11322.00   \n2                                          2    0.254500       11500.00   \n3                                          0    0.634126       10601.00   \n4                                          0  498.000000           0.09   \n...                                      ...         ...            ...   \n104410                                     0    0.460000        3099.00   \n104411                                     0    0.013240        1283.00   \n104412                                     0    0.025806         929.00   \n104413                                     0    0.359603       14896.00   \n104414                                     0    0.032929        7500.00   \n\n        NumberOfOpenCreditLinesAndLoans  NumberOfTimes90DaysLate  \\\n0                                    14                        0   \n1                                    12                        0   \n2                                    15                        0   \n3                                     9                        0   \n4                                     7                        1   \n...                                 ...                      ...   \n104410                                6                        0   \n104411                                6                        0   \n104412                                2                        0   \n104413                                9                        0   \n104414                                5                        0   \n\n        NumberRealEstateLoansOrLines  NumberOfDependents            qcut  \n0                                  2                 0.0    (48.0, 50.0]  \n1                                  0                 3.0    (36.0, 39.0]  \n2                                  0                 0.0    (58.0, 61.0]  \n3                                  2                 1.0    (46.0, 48.0]  \n4                                  0                 0.0    (61.0, 63.0]  \n...                              ...                 ...             ...  \n104410                             1                 0.0    (46.0, 48.0]  \n104411                             0                 0.0    (33.0, 36.0]  \n104412                             0                 0.0  (20.999, 29.0]  \n104413                             2                 1.0    (56.0, 58.0]  \n104414                             0                 1.0    (46.0, 48.0]  \n\n[104415 rows x 11 columns]",
      "text/html": "<div>\n<style scoped>\n    .dataframe tbody tr th:only-of-type {\n        vertical-align: middle;\n    }\n\n    .dataframe tbody tr th {\n        vertical-align: top;\n    }\n\n    .dataframe thead th {\n        text-align: right;\n    }\n</style>\n<table border=\"1\" class=\"dataframe\">\n  <thead>\n    <tr style=\"text-align: right;\">\n      <th></th>\n      <th>SeriousDlqin2yrs</th>\n      <th>RevolvingUtilizationOfUnsecuredLines</th>\n      <th>age</th>\n      <th>NumberOfTime30-59DaysPastDueNotWorse</th>\n      <th>DebtRatio</th>\n      <th>MonthlyIncome</th>\n      <th>NumberOfOpenCreditLinesAndLoans</th>\n      <th>NumberOfTimes90DaysLate</th>\n      <th>NumberRealEstateLoansOrLines</th>\n      <th>NumberOfDependents</th>\n      <th>qcut</th>\n    </tr>\n  </thead>\n  <tbody>\n    <tr>\n      <th>0</th>\n      <td>0</td>\n      <td>0.234997</td>\n      <td>49</td>\n      <td>0</td>\n      <td>1.339107</td>\n      <td>1500.00</td>\n      <td>14</td>\n      <td>0</td>\n      <td>2</td>\n      <td>0.0</td>\n      <td>(48.0, 50.0]</td>\n    </tr>\n    <tr>\n      <th>1</th>\n      <td>0</td>\n      <td>0.002432</td>\n      <td>39</td>\n      <td>0</td>\n      <td>0.072861</td>\n      <td>11322.00</td>\n      <td>12</td>\n      <td>0</td>\n      <td>0</td>\n      <td>3.0</td>\n      <td>(36.0, 39.0]</td>\n    </tr>\n    <tr>\n      <th>2</th>\n      <td>0</td>\n      <td>0.455464</td>\n      <td>61</td>\n      <td>2</td>\n      <td>0.254500</td>\n      <td>11500.00</td>\n      <td>15</td>\n      <td>0</td>\n      <td>0</td>\n      <td>0.0</td>\n      <td>(58.0, 61.0]</td>\n    </tr>\n    <tr>\n      <th>3</th>\n      <td>0</td>\n      <td>0.485318</td>\n      <td>48</td>\n      <td>0</td>\n      <td>0.634126</td>\n      <td>10601.00</td>\n      <td>9</td>\n      <td>0</td>\n      <td>2</td>\n      <td>1.0</td>\n      <td>(46.0, 48.0]</td>\n    </tr>\n    <tr>\n      <th>4</th>\n      <td>0</td>\n      <td>0.267373</td>\n      <td>63</td>\n      <td>0</td>\n      <td>498.000000</td>\n      <td>0.09</td>\n      <td>7</td>\n      <td>1</td>\n      <td>0</td>\n      <td>0.0</td>\n      <td>(61.0, 63.0]</td>\n    </tr>\n    <tr>\n      <th>...</th>\n      <td>...</td>\n      <td>...</td>\n      <td>...</td>\n      <td>...</td>\n      <td>...</td>\n      <td>...</td>\n      <td>...</td>\n      <td>...</td>\n      <td>...</td>\n      <td>...</td>\n      <td>...</td>\n    </tr>\n    <tr>\n      <th>104410</th>\n      <td>0</td>\n      <td>0.616969</td>\n      <td>48</td>\n      <td>0</td>\n      <td>0.460000</td>\n      <td>3099.00</td>\n      <td>6</td>\n      <td>0</td>\n      <td>1</td>\n      <td>0.0</td>\n      <td>(46.0, 48.0]</td>\n    </tr>\n    <tr>\n      <th>104411</th>\n      <td>0</td>\n      <td>0.022150</td>\n      <td>34</td>\n      <td>0</td>\n      <td>0.013240</td>\n      <td>1283.00</td>\n      <td>6</td>\n      <td>0</td>\n      <td>0</td>\n      <td>0.0</td>\n      <td>(33.0, 36.0]</td>\n    </tr>\n    <tr>\n      <th>104412</th>\n      <td>0</td>\n      <td>0.553631</td>\n      <td>22</td>\n      <td>0</td>\n      <td>0.025806</td>\n      <td>929.00</td>\n      <td>2</td>\n      <td>0</td>\n      <td>0</td>\n      <td>0.0</td>\n      <td>(20.999, 29.0]</td>\n    </tr>\n    <tr>\n      <th>104413</th>\n      <td>0</td>\n      <td>0.915415</td>\n      <td>57</td>\n      <td>0</td>\n      <td>0.359603</td>\n      <td>14896.00</td>\n      <td>9</td>\n      <td>0</td>\n      <td>2</td>\n      <td>1.0</td>\n      <td>(56.0, 58.0]</td>\n    </tr>\n    <tr>\n      <th>104414</th>\n      <td>0</td>\n      <td>0.144716</td>\n      <td>47</td>\n      <td>0</td>\n      <td>0.032929</td>\n      <td>7500.00</td>\n      <td>5</td>\n      <td>0</td>\n      <td>0</td>\n      <td>1.0</td>\n      <td>(46.0, 48.0]</td>\n    </tr>\n  </tbody>\n</table>\n<p>104415 rows × 11 columns</p>\n</div>"
     },
     "execution_count": 86,
     "metadata": {},
     "output_type": "execute_result"
    }
   ],
   "source": [
    "# 分箱个数（通过iv值的曲线）：分箱效果：组间差异大，组内差异小\n",
    "# 按照等频对需要分箱的列进行分箱\n",
    "model_data['qcut'],updown = pd.qcut(model_data['age'],retbins=True,q=20)\n",
    "\"\"\"\n",
    "pd.qcut,基于分位数的分箱函数，本质是将连续型变量离散化\n",
    "只能够处理一维的数据，\n",
    "q：分箱的个数\n",
    "返回：箱子的上限和下限\n",
    "\"\"\"\n",
    "#所有箱子的下限\n",
    "model_data"
   ],
   "metadata": {
    "collapsed": false
   }
  },
  {
   "cell_type": "code",
   "execution_count": 87,
   "outputs": [
    {
     "data": {
      "text/plain": "[(21.0, 29.0, 5214, 702),\n (29.0, 33.0, 5091, 617),\n (33.0, 36.0, 4162, 469),\n (36.0, 39.0, 5174, 515),\n (39.0, 41.0, 3947, 381),\n (41.0, 44.0, 6135, 556),\n (44.0, 46.0, 4646, 410),\n (46.0, 48.0, 4884, 403),\n (48.0, 50.0, 4935, 422),\n (50.0, 52.0, 4623, 377),\n (52.0, 54.0, 4666, 344),\n (54.0, 56.0, 4647, 293),\n (56.0, 58.0, 4540, 240),\n (58.0, 61.0, 6672, 351),\n (61.0, 63.0, 4886, 193),\n (63.0, 65.0, 3834, 129),\n (65.0, 68.0, 4913, 144),\n (68.0, 72.0, 4769, 131),\n (72.0, 78.0, 5194, 119),\n (78.0, 109.0, 4595, 92)]"
     },
     "execution_count": 87,
     "metadata": {},
     "output_type": "execute_result"
    }
   ],
   "source": [
    "#统计每个分箱中0和1的数量\n",
    "count_y0 = model_data[model_data['SeriousDlqin2yrs'] == 0].groupby('qcut').count()['SeriousDlqin2yrs']\n",
    "count_y1 = model_data[model_data['SeriousDlqin2yrs'] == 1].groupby('qcut').count()['SeriousDlqin2yrs']\n",
    "#num_bins值为每个区间的上界、下界、0出现的次数、1出现的次数\n",
    "#*zip代表解压\n",
    "numbins = [*zip(updown,updown[1:],count_y0,count_y1)]\n",
    "numbins"
   ],
   "metadata": {
    "collapsed": false
   }
  },
  {
   "cell_type": "markdown",
   "source": [
    "# 5.2确保每个箱中都有0和1"
   ],
   "metadata": {
    "collapsed": false
   }
  },
  {
   "cell_type": "code",
   "execution_count": 88,
   "outputs": [],
   "source": [
    "#确保每个箱中都有0和1\n",
    "for i in range(len(numbins)):\n",
    "    if 0 in numbins[i][2:]:\n",
    "        numbins[i:i+2] = [(numbins[i][0],numbins[i+1][i+1],\\\n",
    "                       numbins[i][2]+numbins[i+1][2],\\\n",
    "                       numbins[i][3]+numbins[i+1][3])]\n",
    "\n",
    "        break\n",
    "    else:\n",
    "        continue"
   ],
   "metadata": {
    "collapsed": false
   }
  },
  {
   "cell_type": "markdown",
   "source": [
    "# 5.3 定义woe和iv函数"
   ],
   "metadata": {
    "collapsed": false
   }
  },
  {
   "cell_type": "code",
   "execution_count": 152,
   "outputs": [],
   "source": [
    "# 计算woe 和 bad rate\n",
    "# bad rate 与bad%不是一个东西\n",
    "# bad rate = bad(i)/total\n",
    "# bad%= bad(i)/bad(total)\n",
    "def get_woe(num_bins):\n",
    "    #通过num_bins 数据计算woe\n",
    "    columns = ['bin_min','bin_max','count_0','count_1']\n",
    "    df = pd.DataFrame(num_bins,columns = columns)\n",
    "    df['total'] = df.count_0 +df.count_1\n",
    "    df['percentage'] = df.total / df.total.sum()\n",
    "    df['bad_rate'] = df.count_1 / df.total\n",
    "    df['good%'] = df.count_0 / df.count_0.sum()\n",
    "    df['bad%'] = df.count_1 /df.count_1.sum()\n",
    "    df['woe'] = np.log(df['good%'] / df['bad%'])\n",
    "    return df\n",
    "# 计算iv\n",
    "def get_iv(df):\n",
    "    rate = df['good%'] - df['bad%']\n",
    "    iv = np.sum(rate * df.woe)\n",
    "    return iv\n"
   ],
   "metadata": {
    "collapsed": false
   }
  },
  {
   "cell_type": "code",
   "execution_count": 153,
   "outputs": [],
   "source": [
    "df = get_woe(numbins)\n"
   ],
   "metadata": {
    "collapsed": false
   }
  },
  {
   "cell_type": "markdown",
   "source": [],
   "metadata": {
    "collapsed": false
   }
  },
  {
   "cell_type": "markdown",
   "source": [
    "# 5.4 卡方检验，合并箱体，画出iv曲线"
   ],
   "metadata": {
    "collapsed": false
   }
  },
  {
   "cell_type": "code",
   "execution_count": 91,
   "outputs": [
    {
     "data": {
      "text/plain": "<Figure size 640x480 with 1 Axes>",
      "image/png": "[encoded data removed]"
     },
     "metadata": {},
     "output_type": "display_data"
    }
   ],
   "source": [
    "num_bins_ = numbins.copy()\n",
    "import matplotlib.pyplot as plt\n",
    "import scipy\n",
    "\n",
    "iv = []\n",
    "axisx = []\n",
    "while len(num_bins_)>2:\n",
    "    pvs = []\n",
    "    # 获取num_bins_两两之间的卡方检验的置信度\n",
    "    for i in range(len(num_bins_)-1):\n",
    "        x1 = num_bins_[i][2:]\n",
    "        x2 = num_bins_[i+1][2:]\n",
    "        # 0 返回chi2值，1返回p值\n",
    "        pv = scipy.stats.chi2_contingency([x1,x2])[1]\n",
    "        pvs.append(pv)\n",
    "    # 通过p值进行处理，合并p值最大的两组\n",
    "    i = pvs.index(max(pvs))\n",
    "    num_bins_[i:i+2] = [(\n",
    "        num_bins_[i][0],\n",
    "        num_bins_[i+1][1],\n",
    "        num_bins_[i][2]+num_bins_[i+1][2],\n",
    "        num_bins_[i][3]+num_bins_[i+1][3]\n",
    "    )]\n",
    "\n",
    "    bins_df = get_woe(num_bins_)\n",
    "    axisx.append(len(num_bins_))\n",
    "    iv.append(get_iv(bins_df))\n",
    "\n",
    "plt.figure()\n",
    "plt.plot(axisx,iv)\n",
    "plt.xticks(axisx)\n",
    "plt.xlabel(\"number of box\")\n",
    "plt.ylabel(\"iv\")\n",
    "plt.show()\n",
    "\n",
    "\n",
    "\n",
    "\n"
   ],
   "metadata": {
    "collapsed": false
   }
  },
  {
   "cell_type": "markdown",
   "source": [
    "# 5.5最佳分箱个数分箱，并验证分箱结果"
   ],
   "metadata": {
    "collapsed": false
   }
  },
  {
   "cell_type": "code",
   "execution_count": 101,
   "outputs": [],
   "source": [
    "def get_bin(num_bins_,n):\n",
    "    while len(num_bins_) >n:\n",
    "        pvs = []\n",
    "        # 获取num_bins_两两之间的卡方检验的置信度\n",
    "        for i in range(len(num_bins_)-1):\n",
    "            x1 = num_bins_[i][2:]\n",
    "            x2 = num_bins_[i+1][2:]\n",
    "            # 0 返回chi2值，1返回p值\n",
    "            pv = scipy.stats.chi2_contingency([x1,x2])[1]\n",
    "            pvs.append(pv)\n",
    "        # 通过p值进行处理，合并p值最大的两组\n",
    "        i = pvs.index(max(pvs))\n",
    "        num_bins_[i:i+2] = [(\n",
    "            num_bins_[i][0],\n",
    "            num_bins_[i+1][1],\n",
    "            num_bins_[i][2]+num_bins_[i+1][2],\n",
    "            num_bins_[i][3]+num_bins_[i+1][3]\n",
    "        )]\n",
    "    return num_bins_\n",
    "\n"
   ],
   "metadata": {
    "collapsed": false
   }
  },
  {
   "cell_type": "code",
   "execution_count": 102,
   "outputs": [],
   "source": [
    "num_bins_ = numbins.copy()\n",
    "afterbins = get_bin(num_bins_,4)"
   ],
   "metadata": {
    "collapsed": false
   }
  },
  {
   "cell_type": "code",
   "execution_count": 103,
   "outputs": [],
   "source": [
    "bins_df = get_woe(afterbins)"
   ],
   "metadata": {
    "collapsed": false
   }
  },
  {
   "cell_type": "code",
   "execution_count": 104,
   "outputs": [
    {
     "data": {
      "text/plain": "   bin_min  bin_max  count_0  count_1  total  percentage  bad_rate     good%  \\\n0     21.0     36.0    14467     1788  16255    0.155677  0.109997  0.148338   \n1     36.0     52.0    34344     3064  37408    0.358263  0.081908  0.352149   \n2     52.0     61.0    20525     1228  21753    0.208332  0.056452  0.210455   \n3     61.0    109.0    28191      808  28999    0.277728  0.027863  0.289058   \n\n       bad%       woe  \n0  0.259582 -0.559576  \n1  0.444832 -0.233642  \n2  0.178281  0.165908  \n3  0.117305  0.901848  ",
      "text/html": "<div>\n<style scoped>\n    .dataframe tbody tr th:only-of-type {\n        vertical-align: middle;\n    }\n\n    .dataframe tbody tr th {\n        vertical-align: top;\n    }\n\n    .dataframe thead th {\n        text-align: right;\n    }\n</style>\n<table border=\"1\" class=\"dataframe\">\n  <thead>\n    <tr style=\"text-align: right;\">\n      <th></th>\n      <th>bin_min</th>\n      <th>bin_max</th>\n      <th>count_0</th>\n      <th>count_1</th>\n      <th>total</th>\n      <th>percentage</th>\n      <th>bad_rate</th>\n      <th>good%</th>\n      <th>bad%</th>\n      <th>woe</th>\n    </tr>\n  </thead>\n  <tbody>\n    <tr>\n      <th>0</th>\n      <td>21.0</td>\n      <td>36.0</td>\n      <td>14467</td>\n      <td>1788</td>\n      <td>16255</td>\n      <td>0.155677</td>\n      <td>0.109997</td>\n      <td>0.148338</td>\n      <td>0.259582</td>\n      <td>-0.559576</td>\n    </tr>\n    <tr>\n      <th>1</th>\n      <td>36.0</td>\n      <td>52.0</td>\n      <td>34344</td>\n      <td>3064</td>\n      <td>37408</td>\n      <td>0.358263</td>\n      <td>0.081908</td>\n      <td>0.352149</td>\n      <td>0.444832</td>\n      <td>-0.233642</td>\n    </tr>\n    <tr>\n      <th>2</th>\n      <td>52.0</td>\n      <td>61.0</td>\n      <td>20525</td>\n      <td>1228</td>\n      <td>21753</td>\n      <td>0.208332</td>\n      <td>0.056452</td>\n      <td>0.210455</td>\n      <td>0.178281</td>\n      <td>0.165908</td>\n    </tr>\n    <tr>\n      <th>3</th>\n      <td>61.0</td>\n      <td>109.0</td>\n      <td>28191</td>\n      <td>808</td>\n      <td>28999</td>\n      <td>0.277728</td>\n      <td>0.027863</td>\n      <td>0.289058</td>\n      <td>0.117305</td>\n      <td>0.901848</td>\n    </tr>\n  </tbody>\n</table>\n</div>"
     },
     "execution_count": 104,
     "metadata": {},
     "output_type": "execute_result"
    }
   ],
   "source": [
    "bins_df"
   ],
   "metadata": {
    "collapsed": false
   }
  },
  {
   "cell_type": "code",
   "execution_count": 105,
   "outputs": [
    {
     "data": {
      "text/plain": "[(21.0, 36.0, 14467, 1788),\n (36.0, 52.0, 34344, 3064),\n (52.0, 61.0, 20525, 1228),\n (61.0, 109.0, 28191, 808)]"
     },
     "execution_count": 105,
     "metadata": {},
     "output_type": "execute_result"
    }
   ],
   "source": [
    "num_bins_"
   ],
   "metadata": {
    "collapsed": false
   }
  },
  {
   "cell_type": "markdown",
   "source": [
    "# 5.6将最佳分箱个数的过程包装为函数"
   ],
   "metadata": {
    "collapsed": false
   }
  },
  {
   "cell_type": "code",
   "execution_count": 69,
   "outputs": [],
   "source": [
    "def graphforbestbin(df,x,y,n,q=20,graph = True):\n",
    "    \"\"\"\n",
    "\n",
    "\n",
    "    :param df: 需要输入的数据\n",
    "    :param x: 需要分箱的列名\n",
    "    :param y: 分箱数据对应的标签\n",
    "    :param n: 保留分箱的个数\n",
    "    :param q: 初始化分箱的个数\n",
    "    :param graph: 是否要画出iv图像\n",
    "    :return:\n",
    "    \"\"\"\n",
    "    global bins_df\n",
    "    df = df[[x,y]].copy()\n",
    "    df['qcut'],bins = pd.qcut(df[x], retbins=True, q=q, duplicates=\"drop\")\n",
    "    count_y0 = df.loc[df[y]==0].groupby(by='qcut').count()[y]\n",
    "    count_y1 = df.loc[df[y]==1].groupby(by='qcut').count()[y]\n",
    "    num_bins = [*zip(bins,bins[1:],count_y0,count_y1)]\n",
    "\n",
    "    for i in range(len(num_bins)):\n",
    "        if 0 in num_bins[i][2:]:\n",
    "            num_bins[i:i+2]=[(\n",
    "                num_bins[i][0],\n",
    "                num_bins[i][1],\n",
    "                num_bins[i][2]+num_bins[i+1][2],\n",
    "                num_bins[i][3]+num_bins[i+1][3]\n",
    "            )]\n",
    "            break\n",
    "        else:\n",
    "            continue\n",
    "\n",
    "    def get_woe(num_bins):\n",
    "        #通过num_bins 数据计算woe\n",
    "        columns = ['bin_min','bin_max','count_0','count_1']\n",
    "        df = pd.DataFrame(num_bins,columns = columns)\n",
    "        df['total'] = df.count_0 +df.count_1\n",
    "        df['percentage'] = df.total / df.total.sum()\n",
    "        df['bad_rate'] = df.count_1 / df.total\n",
    "        df['good%'] = df.count_0 / df.count_0.sum()\n",
    "        df['bad%'] = df.count_1 /df.count_1.sum()\n",
    "        df['woe'] = np.log(df['good%'] / df['bad%'])\n",
    "        return df\n",
    "    # 计算iv\n",
    "    def get_iv(df):\n",
    "        rate = df['good%'] - df['bad%']\n",
    "        iv = np.sum(rate * df.woe)\n",
    "        return iv\n",
    "\n",
    "    iv = []\n",
    "    axisx = []\n",
    "    while len(num_bins)>n:\n",
    "        pvs = []\n",
    "        # 获取num_bins_两两之间的卡方检验的置信度\n",
    "        for i in range(len(num_bins)-1):\n",
    "            x1 = num_bins[i][2:]\n",
    "            x2 = num_bins[i+1][2:]\n",
    "            # 0 返回chi2值，1返回p值\n",
    "            pv = scipy.stats.chi2_contingency([x1,x2])[1]\n",
    "            pvs.append(pv)\n",
    "        # 通过p值进行处理，合并p值最大的两组\n",
    "        i = pvs.index(max(pvs))\n",
    "        num_bins[i:i+2] = [(\n",
    "            num_bins[i][0],\n",
    "            num_bins[i+1][1],\n",
    "            num_bins[i][2]+num_bins[i+1][2],\n",
    "            num_bins[i][3]+num_bins[i+1][3]\n",
    "        )]\n",
    "        bins_df = pd.DataFrame(get_woe(num_bins))\n",
    "        axisx.append(len(num_bins))\n",
    "        iv.append(get_iv(bins_df))\n",
    "    if graph:\n",
    "        plt.figure()\n",
    "        plt.plot(axisx,iv)\n",
    "        plt.xticks(axisx)\n",
    "        plt.show()\n",
    "    return bins_df\n",
    "\n",
    "\n",
    "\n",
    "\n"
   ],
   "metadata": {
    "collapsed": false
   }
  },
  {
   "cell_type": "markdown",
   "source": [
    "# 5.7对所有特征进行分箱选择"
   ],
   "metadata": {
    "collapsed": false
   }
  },
  {
   "cell_type": "code",
   "execution_count": 57,
   "outputs": [
    {
     "data": {
      "text/plain": "        SeriousDlqin2yrs  RevolvingUtilizationOfUnsecuredLines  age  \\\n0                      0                              0.234997   49   \n1                      0                              0.002432   39   \n2                      0                              0.455464   61   \n3                      0                              0.485318   48   \n4                      0                              0.267373   63   \n...                  ...                                   ...  ...   \n104410                 0                              0.616969   48   \n104411                 0                              0.022150   34   \n104412                 0                              0.553631   22   \n104413                 0                              0.915415   57   \n104414                 0                              0.144716   47   \n\n        NumberOfTime30-59DaysPastDueNotWorse   DebtRatio  MonthlyIncome  \\\n0                                          0    1.339107        1500.00   \n1                                          0    0.072861       11322.00   \n2                                          2    0.254500       11500.00   \n3                                          0    0.634126       10601.00   \n4                                          0  498.000000           0.13   \n...                                      ...         ...            ...   \n104410                                     0    0.460000        3099.00   \n104411                                     0    0.013240        1283.00   \n104412                                     0    0.025806         929.00   \n104413                                     0    0.359603       14896.00   \n104414                                     0    0.032929        7500.00   \n\n        NumberOfOpenCreditLinesAndLoans  NumberOfTimes90DaysLate  \\\n0                                    14                        0   \n1                                    12                        0   \n2                                    15                        0   \n3                                     9                        0   \n4                                     7                        1   \n...                                 ...                      ...   \n104410                                6                        0   \n104411                                6                        0   \n104412                                2                        0   \n104413                                9                        0   \n104414                                5                        0   \n\n        NumberRealEstateLoansOrLines  NumberOfDependents  \n0                                  2                 0.0  \n1                                  0                 3.0  \n2                                  0                 0.0  \n3                                  2                 1.0  \n4                                  0                 0.0  \n...                              ...                 ...  \n104410                             1                 0.0  \n104411                             0                 0.0  \n104412                             0                 0.0  \n104413                             2                 1.0  \n104414                             0                 1.0  \n\n[104415 rows x 10 columns]",
      "text/html": "<div>\n<style scoped>\n    .dataframe tbody tr th:only-of-type {\n        vertical-align: middle;\n    }\n\n    .dataframe tbody tr th {\n        vertical-align: top;\n    }\n\n    .dataframe thead th {\n        text-align: right;\n    }\n</style>\n<table border=\"1\" class=\"dataframe\">\n  <thead>\n    <tr style=\"text-align: right;\">\n      <th></th>\n      <th>SeriousDlqin2yrs</th>\n      <th>RevolvingUtilizationOfUnsecuredLines</th>\n      <th>age</th>\n      <th>NumberOfTime30-59DaysPastDueNotWorse</th>\n      <th>DebtRatio</th>\n      <th>MonthlyIncome</th>\n      <th>NumberOfOpenCreditLinesAndLoans</th>\n      <th>NumberOfTimes90DaysLate</th>\n      <th>NumberRealEstateLoansOrLines</th>\n      <th>NumberOfDependents</th>\n    </tr>\n  </thead>\n  <tbody>\n    <tr>\n      <th>0</th>\n      <td>0</td>\n      <td>0.234997</td>\n      <td>49</td>\n      <td>0</td>\n      <td>1.339107</td>\n      <td>1500.00</td>\n      <td>14</td>\n      <td>0</td>\n      <td>2</td>\n      <td>0.0</td>\n    </tr>\n    <tr>\n      <th>1</th>\n      <td>0</td>\n      <td>0.002432</td>\n      <td>39</td>\n      <td>0</td>\n      <td>0.072861</td>\n      <td>11322.00</td>\n      <td>12</td>\n      <td>0</td>\n      <td>0</td>\n      <td>3.0</td>\n    </tr>\n    <tr>\n      <th>2</th>\n      <td>0</td>\n      <td>0.455464</td>\n      <td>61</td>\n      <td>2</td>\n      <td>0.254500</td>\n      <td>11500.00</td>\n      <td>15</td>\n      <td>0</td>\n      <td>0</td>\n      <td>0.0</td>\n    </tr>\n    <tr>\n      <th>3</th>\n      <td>0</td>\n      <td>0.485318</td>\n      <td>48</td>\n      <td>0</td>\n      <td>0.634126</td>\n      <td>10601.00</td>\n      <td>9</td>\n      <td>0</td>\n      <td>2</td>\n      <td>1.0</td>\n    </tr>\n    <tr>\n      <th>4</th>\n      <td>0</td>\n      <td>0.267373</td>\n      <td>63</td>\n      <td>0</td>\n      <td>498.000000</td>\n      <td>0.13</td>\n      <td>7</td>\n      <td>1</td>\n      <td>0</td>\n      <td>0.0</td>\n    </tr>\n    <tr>\n      <th>...</th>\n      <td>...</td>\n      <td>...</td>\n      <td>...</td>\n      <td>...</td>\n      <td>...</td>\n      <td>...</td>\n      <td>...</td>\n      <td>...</td>\n      <td>...</td>\n      <td>...</td>\n    </tr>\n    <tr>\n      <th>104410</th>\n      <td>0</td>\n      <td>0.616969</td>\n      <td>48</td>\n      <td>0</td>\n      <td>0.460000</td>\n      <td>3099.00</td>\n      <td>6</td>\n      <td>0</td>\n      <td>1</td>\n      <td>0.0</td>\n    </tr>\n    <tr>\n      <th>104411</th>\n      <td>0</td>\n      <td>0.022150</td>\n      <td>34</td>\n      <td>0</td>\n      <td>0.013240</td>\n      <td>1283.00</td>\n      <td>6</td>\n      <td>0</td>\n      <td>0</td>\n      <td>0.0</td>\n    </tr>\n    <tr>\n      <th>104412</th>\n      <td>0</td>\n      <td>0.553631</td>\n      <td>22</td>\n      <td>0</td>\n      <td>0.025806</td>\n      <td>929.00</td>\n      <td>2</td>\n      <td>0</td>\n      <td>0</td>\n      <td>0.0</td>\n    </tr>\n    <tr>\n      <th>104413</th>\n      <td>0</td>\n      <td>0.915415</td>\n      <td>57</td>\n      <td>0</td>\n      <td>0.359603</td>\n      <td>14896.00</td>\n      <td>9</td>\n      <td>0</td>\n      <td>2</td>\n      <td>1.0</td>\n    </tr>\n    <tr>\n      <th>104414</th>\n      <td>0</td>\n      <td>0.144716</td>\n      <td>47</td>\n      <td>0</td>\n      <td>0.032929</td>\n      <td>7500.00</td>\n      <td>5</td>\n      <td>0</td>\n      <td>0</td>\n      <td>1.0</td>\n    </tr>\n  </tbody>\n</table>\n<p>104415 rows × 10 columns</p>\n</div>"
     },
     "execution_count": 57,
     "metadata": {},
     "output_type": "execute_result"
    }
   ],
   "source": [
    "model_data"
   ],
   "metadata": {
    "collapsed": false
   }
  },
  {
   "cell_type": "code",
   "execution_count": 70,
   "outputs": [],
   "source": [
    "for i in model_data.columns[1:-1]:\n",
    "    graphforbestbin(model_data,i,\"SeriousDlqin2yrs\",n=5,q=20,graph = False)"
   ],
   "metadata": {
    "collapsed": false
   }
  },
  {
   "cell_type": "code",
   "execution_count": 71,
   "outputs": [],
   "source": [
    "# 调整分箱\n",
    "auto_col_bins = {\"RevolvingUtilizationOfUnsecuredLines\":6,\n",
    "                 \"age\":5,\n",
    "                 \"DebtRatio\":4,\n",
    "                 \"MonthlyIncome\":3,\n",
    "                 \"NumberOfOpenCreditLinesAndLoans\":5}\n",
    "#不能使用自动分箱的变量\n",
    "hand_bins = {\"NumberOfTimes90DaysLate\":[0,1,2,17]\n",
    "             ,\"NumberRealEstateLoansOrLines\":[0,1,2,4,54]\n",
    "             ,\"NumberOfDependents\":[0,1,2,3]}\n",
    "#保证区间覆盖使用 np.inf替换最大值，用-np.inf替换最小值\n",
    "hand_bins = {k:[-np.inf,*v[:-1],np.inf] for k,v in hand_bins.items()}"
   ],
   "metadata": {
    "collapsed": false
   }
  },
  {
   "cell_type": "code",
   "execution_count": 72,
   "outputs": [],
   "source": [
    "bins_of_col = {}\n",
    "for col in auto_col_bins:\n",
    "    bins_df = graphforbestbin(model_data,col,\"SeriousDlqin2yrs\",n=auto_col_bins[col],q=20,graph = False)\n",
    "    bins_list = sorted(set(bins_df['bin_min']).union(bins_df['bin_max']))\n",
    "    bins_list[0],bins_list[-1] = -np.inf,np.inf\n",
    "    bins_of_col[col] = bins_list\n",
    "    bins_of_col.update(hand_bins)\n"
   ],
   "metadata": {
    "collapsed": false
   }
  },
  {
   "cell_type": "code",
   "execution_count": 73,
   "outputs": [
    {
     "name": "stdout",
     "output_type": "stream",
     "text": [
      "RevolvingUtilizationOfUnsecuredLines\n",
      "NumberOfTimes90DaysLate\n",
      "NumberRealEstateLoansOrLines\n",
      "NumberOfDependents\n",
      "age\n",
      "DebtRatio\n",
      "MonthlyIncome\n",
      "NumberOfOpenCreditLinesAndLoans\n"
     ]
    }
   ],
   "source": [
    "for col in bins_of_col:\n",
    "    print(col)"
   ],
   "metadata": {
    "collapsed": false
   }
  },
  {
   "cell_type": "markdown",
   "source": [
    "# 6 计算各箱的woe并映射到数据中"
   ],
   "metadata": {
    "collapsed": false
   }
  },
  {
   "cell_type": "code",
   "execution_count": 79,
   "outputs": [],
   "source": [
    "def get_woe(df,col,y,bins):\n",
    "    df = df[[col,y]].copy()\n",
    "    df['cut'] = pd.cut(df[col],bins)\n",
    "    #使用unstack()来将树状结构变成表状结构\n",
    "    bins_df = df.groupby('cut')[y].value_counts().unstack()\n",
    "    woe = bins_df['woe'] = np.log((bins_df[0]/bins_df[0].sum())/(bins_df[1]/bins_df[1].sum()))\n",
    "    return woe\n"
   ],
   "metadata": {
    "collapsed": false
   }
  },
  {
   "cell_type": "code",
   "execution_count": 80,
   "outputs": [],
   "source": [
    "woeall = {}\n",
    "for col in bins_of_col:\n",
    "    woeall[col]= get_woe(model_data,col,'SeriousDlqin2yrs',bins_of_col[col])\n"
   ],
   "metadata": {
    "collapsed": false
   }
  },
  {
   "cell_type": "code",
   "execution_count": 76,
   "outputs": [
    {
     "data": {
      "text/plain": "{'RevolvingUtilizationOfUnsecuredLines': cut\n (-inf, 0.204]     1.206149\n (0.204, 0.346]    0.502268\n (0.346, 0.551]    0.029548\n (0.551, 0.844]   -0.610902\n (0.844, 1.0]     -1.203058\n (1.0, inf]       -2.109615\n dtype: float64,\n 'NumberOfTimes90DaysLate': cut\n (-inf, 0.0]    0.376559\n (0.0, 1.0]    -1.961731\n (1.0, 2.0]    -2.682640\n (2.0, inf]    -3.184327\n dtype: float64,\n 'NumberRealEstateLoansOrLines': cut\n (-inf, 0.0]   -0.241111\n (0.0, 1.0]     0.261163\n (1.0, 2.0]     0.188673\n (2.0, 4.0]    -0.096552\n (4.0, inf]    -0.967540\n dtype: float64,\n 'NumberOfDependents': cut\n (-inf, 0.0]    0.158561\n (0.0, 1.0]    -0.125593\n (1.0, 2.0]    -0.208361\n (2.0, inf]    -0.353558\n dtype: float64,\n 'age': cut\n (-inf, 36.0]   -0.559576\n (36.0, 52.0]   -0.233642\n (52.0, 61.0]    0.165908\n (61.0, 65.0]    0.648474\n (65.0, inf]     1.040124\n dtype: float64,\n 'DebtRatio': cut\n (-inf, 0.415]     0.145474\n (0.415, 0.658]   -0.231231\n (0.658, 5.0]     -0.573788\n (5.0, inf]        0.206274\n dtype: float64,\n 'MonthlyIncome': cut\n (-inf, 0.17]      0.757966\n (0.17, 6649.0]   -0.215936\n (6649.0, inf]     0.334576\n dtype: float64,\n 'NumberOfOpenCreditLinesAndLoans': cut\n (-inf, 2.0]   -0.703108\n (2.0, 3.0]    -0.151218\n (3.0, 5.0]     0.035166\n (5.0, 13.0]    0.180543\n (13.0, inf]   -0.054983\n dtype: float64}"
     },
     "execution_count": 76,
     "metadata": {},
     "output_type": "execute_result"
    }
   ],
   "source": [
    "woeall"
   ],
   "metadata": {
    "collapsed": false
   }
  },
  {
   "cell_type": "code",
   "execution_count": 81,
   "outputs": [
    {
     "data": {
      "text/plain": "  RevolvingUtilizationOfUnsecuredLines NumberOfTimes90DaysLate  \\\n0                             0.502268                0.376559   \n1                             1.206149                0.376559   \n2                             0.029548                0.376559   \n3                             0.029548                0.376559   \n4                             0.502268               -1.961731   \n\n  NumberRealEstateLoansOrLines NumberOfDependents       age DebtRatio  \\\n0                     0.188673           0.158561 -0.233642 -0.573788   \n1                    -0.241111          -0.353558 -0.233642  0.145474   \n2                    -0.241111           0.158561  0.165908  0.145474   \n3                     0.188673          -0.125593 -0.233642 -0.231231   \n4                    -0.241111           0.158561  0.648474  0.206274   \n\n  MonthlyIncome NumberOfOpenCreditLinesAndLoans  SeriousDlqin2yrs  \n0     -0.215936                       -0.054983                 0  \n1      0.334576                        0.180543                 0  \n2      0.334576                       -0.054983                 0  \n3      0.334576                        0.180543                 0  \n4      0.757966                        0.180543                 0  ",
      "text/html": "<div>\n<style scoped>\n    .dataframe tbody tr th:only-of-type {\n        vertical-align: middle;\n    }\n\n    .dataframe tbody tr th {\n        vertical-align: top;\n    }\n\n    .dataframe thead th {\n        text-align: right;\n    }\n</style>\n<table border=\"1\" class=\"dataframe\">\n  <thead>\n    <tr style=\"text-align: right;\">\n      <th></th>\n      <th>RevolvingUtilizationOfUnsecuredLines</th>\n      <th>NumberOfTimes90DaysLate</th>\n      <th>NumberRealEstateLoansOrLines</th>\n      <th>NumberOfDependents</th>\n      <th>age</th>\n      <th>DebtRatio</th>\n      <th>MonthlyIncome</th>\n      <th>NumberOfOpenCreditLinesAndLoans</th>\n      <th>SeriousDlqin2yrs</th>\n    </tr>\n  </thead>\n  <tbody>\n    <tr>\n      <th>0</th>\n      <td>0.502268</td>\n      <td>0.376559</td>\n      <td>0.188673</td>\n      <td>0.158561</td>\n      <td>-0.233642</td>\n      <td>-0.573788</td>\n      <td>-0.215936</td>\n      <td>-0.054983</td>\n      <td>0</td>\n    </tr>\n    <tr>\n      <th>1</th>\n      <td>1.206149</td>\n      <td>0.376559</td>\n      <td>-0.241111</td>\n      <td>-0.353558</td>\n      <td>-0.233642</td>\n      <td>0.145474</td>\n      <td>0.334576</td>\n      <td>0.180543</td>\n      <td>0</td>\n    </tr>\n    <tr>\n      <th>2</th>\n      <td>0.029548</td>\n      <td>0.376559</td>\n      <td>-0.241111</td>\n      <td>0.158561</td>\n      <td>0.165908</td>\n      <td>0.145474</td>\n      <td>0.334576</td>\n      <td>-0.054983</td>\n      <td>0</td>\n    </tr>\n    <tr>\n      <th>3</th>\n      <td>0.029548</td>\n      <td>0.376559</td>\n      <td>0.188673</td>\n      <td>-0.125593</td>\n      <td>-0.233642</td>\n      <td>-0.231231</td>\n      <td>0.334576</td>\n      <td>0.180543</td>\n      <td>0</td>\n    </tr>\n    <tr>\n      <th>4</th>\n      <td>0.502268</td>\n      <td>-1.961731</td>\n      <td>-0.241111</td>\n      <td>0.158561</td>\n      <td>0.648474</td>\n      <td>0.206274</td>\n      <td>0.757966</td>\n      <td>0.180543</td>\n      <td>0</td>\n    </tr>\n  </tbody>\n</table>\n</div>"
     },
     "execution_count": 81,
     "metadata": {},
     "output_type": "execute_result"
    }
   ],
   "source": [
    "#将woe映射到原始数据中\n",
    "#不希望覆盖掉原本的数据，创建一个新的DataFrame,索引和原始数据model_data\n",
    "model_woe = pd.DataFrame(index = model_data.index)\n",
    "# 将原始数据分箱后，按箱的结果将woe结构用map函数映射到数据中\n",
    "for col in bins_of_col:\n",
    "    model_woe[col] = pd.cut(model_data[col],bins_of_col[col]).map(woeall[col])\n",
    "model_woe['SeriousDlqin2yrs'] = model_data['SeriousDlqin2yrs']\n",
    "model_woe.head()"
   ],
   "metadata": {
    "collapsed": false
   }
  },
  {
   "cell_type": "markdown",
   "source": [
    "# 7建模与模型验证"
   ],
   "metadata": {
    "collapsed": false
   }
  },
  {
   "cell_type": "code",
   "execution_count": 83,
   "outputs": [],
   "source": [
    "#处理测试集\n",
    "vali_woe = pd.DataFrame(index = vali_data.index)"
   ],
   "metadata": {
    "collapsed": false
   }
  },
  {
   "cell_type": "code",
   "execution_count": 86,
   "outputs": [
    {
     "data": {
      "text/plain": "  RevolvingUtilizationOfUnsecuredLines NumberOfTimes90DaysLate  \\\n0                             1.206149                0.376559   \n1                             1.206149                0.376559   \n2                             1.206149                0.376559   \n3                            -1.203058               -1.961731   \n4                             1.206149                0.376559   \n\n  NumberRealEstateLoansOrLines NumberOfDependents       age DebtRatio  \\\n0                     0.261163           0.158561  1.040124  0.145474   \n1                     0.261163          -0.353558 -0.233642  0.145474   \n2                    -0.241111           0.158561  0.165908  0.145474   \n3                    -0.241111          -0.125593 -0.559576  0.145474   \n4                    -0.241111           0.158561  1.040124  0.145474   \n\n  MonthlyIncome NumberOfOpenCreditLinesAndLoans  SeriousDlqin2yrs  \n0     -0.215936                        0.180543                 0  \n1     -0.215936                        0.180543                 0  \n2      0.334576                        0.180543                 0  \n3     -0.215936                       -0.151218                 0  \n4     -0.215936                        0.035166                 0  ",
      "text/html": "<div>\n<style scoped>\n    .dataframe tbody tr th:only-of-type {\n        vertical-align: middle;\n    }\n\n    .dataframe tbody tr th {\n        vertical-align: top;\n    }\n\n    .dataframe thead th {\n        text-align: right;\n    }\n</style>\n<table border=\"1\" class=\"dataframe\">\n  <thead>\n    <tr style=\"text-align: right;\">\n      <th></th>\n      <th>RevolvingUtilizationOfUnsecuredLines</th>\n      <th>NumberOfTimes90DaysLate</th>\n      <th>NumberRealEstateLoansOrLines</th>\n      <th>NumberOfDependents</th>\n      <th>age</th>\n      <th>DebtRatio</th>\n      <th>MonthlyIncome</th>\n      <th>NumberOfOpenCreditLinesAndLoans</th>\n      <th>SeriousDlqin2yrs</th>\n    </tr>\n  </thead>\n  <tbody>\n    <tr>\n      <th>0</th>\n      <td>1.206149</td>\n      <td>0.376559</td>\n      <td>0.261163</td>\n      <td>0.158561</td>\n      <td>1.040124</td>\n      <td>0.145474</td>\n      <td>-0.215936</td>\n      <td>0.180543</td>\n      <td>0</td>\n    </tr>\n    <tr>\n      <th>1</th>\n      <td>1.206149</td>\n      <td>0.376559</td>\n      <td>0.261163</td>\n      <td>-0.353558</td>\n      <td>-0.233642</td>\n      <td>0.145474</td>\n      <td>-0.215936</td>\n      <td>0.180543</td>\n      <td>0</td>\n    </tr>\n    <tr>\n      <th>2</th>\n      <td>1.206149</td>\n      <td>0.376559</td>\n      <td>-0.241111</td>\n      <td>0.158561</td>\n      <td>0.165908</td>\n      <td>0.145474</td>\n      <td>0.334576</td>\n      <td>0.180543</td>\n      <td>0</td>\n    </tr>\n    <tr>\n      <th>3</th>\n      <td>-1.203058</td>\n      <td>-1.961731</td>\n      <td>-0.241111</td>\n      <td>-0.125593</td>\n      <td>-0.559576</td>\n      <td>0.145474</td>\n      <td>-0.215936</td>\n      <td>-0.151218</td>\n      <td>0</td>\n    </tr>\n    <tr>\n      <th>4</th>\n      <td>1.206149</td>\n      <td>0.376559</td>\n      <td>-0.241111</td>\n      <td>0.158561</td>\n      <td>1.040124</td>\n      <td>0.145474</td>\n      <td>-0.215936</td>\n      <td>0.035166</td>\n      <td>0</td>\n    </tr>\n  </tbody>\n</table>\n</div>"
     },
     "execution_count": 86,
     "metadata": {},
     "output_type": "execute_result"
    }
   ],
   "source": [
    "for col in bins_of_col:\n",
    "    vali_woe[col] = pd.cut(vali_data[col],bins_of_col[col]).map(woeall[col])\n",
    "vali_woe['SeriousDlqin2yrs'] = vali_data['SeriousDlqin2yrs']\n",
    "vali_woe.head()"
   ],
   "metadata": {
    "collapsed": false
   }
  },
  {
   "cell_type": "code",
   "execution_count": 94,
   "outputs": [],
   "source": [
    "# 建模\n",
    "x = model_woe.iloc[:,:-1]\n",
    "y = model_woe.iloc[:,-1]\n",
    "vali_x = vali_woe.iloc[:,:-1]\n",
    "vali_y = vali_woe.iloc[:,-1]"
   ],
   "metadata": {
    "collapsed": false
   }
  },
  {
   "cell_type": "code",
   "execution_count": 98,
   "outputs": [
    {
     "data": {
      "text/plain": "<Figure size 640x480 with 1 Axes>",
      "image/png": "[encoded data removed]"
     },
     "metadata": {},
     "output_type": "display_data"
    },
    {
     "data": {
      "text/plain": "<Axes: title={'center': 'ROC Curves'}, xlabel='False Positive Rate', ylabel='True Positive Rate'>"
     },
     "execution_count": 98,
     "metadata": {},
     "output_type": "execute_result"
    },
    {
     "data": {
      "text/plain": "<Figure size 600x600 with 1 Axes>",
      "image/png": "[encoded data removed]"
     },
     "metadata": {},
     "output_type": "display_data"
    }
   ],
   "source": [
    "c_1 = np.linspace(0.01,1,20)\n",
    "score = []\n",
    "for i in c_1:\n",
    "    lr = LR(solver='liblinear',C=i).fit(x,y)\n",
    "    score.append(lr.score(vali_x,vali_y))\n",
    "plt.figure()\n",
    "plt.plot(c_1,score)\n",
    "plt.show()\n",
    "#真正实现的迭代次数\n",
    "lr.n_iter_\n",
    "#roc曲线\n",
    "vali_proba_df = pd.DataFrame(lr.predict_proba(vali_x))\n",
    "skplt.metrics.plot_roc(vali_y,vali_proba_df,plot_micro=False,figsize=(6,6),plot_macro=False)\n",
    "\n",
    "\n"
   ],
   "metadata": {
    "collapsed": false
   }
  },
  {
   "cell_type": "code",
   "execution_count": 99,
   "outputs": [
    {
     "data": {
      "text/plain": "array([557.99325876])"
     },
     "execution_count": 99,
     "metadata": {},
     "output_type": "execute_result"
    }
   ],
   "source": [
    "# 制作评分卡\n",
    "b = 20/np.log(2)\n",
    "a = 600 + b*np.log(1/60)\n",
    "base_score = a - b*lr.intercept_\n",
    "base_score"
   ],
   "metadata": {
    "collapsed": false
   }
  },
  {
   "cell_type": "code",
   "execution_count": 105,
   "outputs": [],
   "source": [
    "score_age = woeall['age'] *(-b*lr.coef_[0][1])"
   ],
   "metadata": {
    "collapsed": false
   }
  },
  {
   "cell_type": "code",
   "execution_count": 106,
   "outputs": [
    {
     "data": {
      "text/plain": "cut\n(-inf, 36.0]   -11.753702\n(36.0, 52.0]    -4.907579\n(52.0, 61.0]     3.484848\n(61.0, 65.0]    13.620985\n(65.0, inf]     21.847457\ndtype: float64"
     },
     "execution_count": 106,
     "metadata": {},
     "output_type": "execute_result"
    }
   ],
   "source": [
    "score_age"
   ],
   "metadata": {
    "collapsed": false
   }
  },
  {
   "cell_type": "code",
   "execution_count": 102,
   "outputs": [
    {
     "data": {
      "text/plain": "array([[-0.73473812, -0.727966  , -0.65991465, -0.3479555 , -0.42785927,\n        -0.88144542, -0.36034165,  0.26415949]])"
     },
     "execution_count": 102,
     "metadata": {},
     "output_type": "execute_result"
    }
   ],
   "source": [
    "lr.coef_"
   ],
   "metadata": {
    "collapsed": false
   }
  },
  {
   "cell_type": "code",
   "execution_count": 104,
   "outputs": [
    {
     "data": {
      "text/plain": "        SeriousDlqin2yrs  RevolvingUtilizationOfUnsecuredLines  age  \\\n0                      0                              0.234997   49   \n1                      0                              0.002432   39   \n2                      0                              0.455464   61   \n3                      0                              0.485318   48   \n4                      0                              0.267373   63   \n...                  ...                                   ...  ...   \n104410                 0                              0.616969   48   \n104411                 0                              0.022150   34   \n104412                 0                              0.553631   22   \n104413                 0                              0.915415   57   \n104414                 0                              0.144716   47   \n\n        NumberOfTime30-59DaysPastDueNotWorse   DebtRatio  MonthlyIncome  \\\n0                                          0    1.339107        1500.00   \n1                                          0    0.072861       11322.00   \n2                                          2    0.254500       11500.00   \n3                                          0    0.634126       10601.00   \n4                                          0  498.000000           0.13   \n...                                      ...         ...            ...   \n104410                                     0    0.460000        3099.00   \n104411                                     0    0.013240        1283.00   \n104412                                     0    0.025806         929.00   \n104413                                     0    0.359603       14896.00   \n104414                                     0    0.032929        7500.00   \n\n        NumberOfOpenCreditLinesAndLoans  NumberOfTimes90DaysLate  \\\n0                                    14                        0   \n1                                    12                        0   \n2                                    15                        0   \n3                                     9                        0   \n4                                     7                        1   \n...                                 ...                      ...   \n104410                                6                        0   \n104411                                6                        0   \n104412                                2                        0   \n104413                                9                        0   \n104414                                5                        0   \n\n        NumberRealEstateLoansOrLines  NumberOfDependents  \n0                                  2                 0.0  \n1                                  0                 3.0  \n2                                  0                 0.0  \n3                                  2                 1.0  \n4                                  0                 0.0  \n...                              ...                 ...  \n104410                             1                 0.0  \n104411                             0                 0.0  \n104412                             0                 0.0  \n104413                             2                 1.0  \n104414                             0                 1.0  \n\n[104415 rows x 10 columns]",
      "text/html": "<div>\n<style scoped>\n    .dataframe tbody tr th:only-of-type {\n        vertical-align: middle;\n    }\n\n    .dataframe tbody tr th {\n        vertical-align: top;\n    }\n\n    .dataframe thead th {\n        text-align: right;\n    }\n</style>\n<table border=\"1\" class=\"dataframe\">\n  <thead>\n    <tr style=\"text-align: right;\">\n      <th></th>\n      <th>SeriousDlqin2yrs</th>\n      <th>RevolvingUtilizationOfUnsecuredLines</th>\n      <th>age</th>\n      <th>NumberOfTime30-59DaysPastDueNotWorse</th>\n      <th>DebtRatio</th>\n      <th>MonthlyIncome</th>\n      <th>NumberOfOpenCreditLinesAndLoans</th>\n      <th>NumberOfTimes90DaysLate</th>\n      <th>NumberRealEstateLoansOrLines</th>\n      <th>NumberOfDependents</th>\n    </tr>\n  </thead>\n  <tbody>\n    <tr>\n      <th>0</th>\n      <td>0</td>\n      <td>0.234997</td>\n      <td>49</td>\n      <td>0</td>\n      <td>1.339107</td>\n      <td>1500.00</td>\n      <td>14</td>\n      <td>0</td>\n      <td>2</td>\n      <td>0.0</td>\n    </tr>\n    <tr>\n      <th>1</th>\n      <td>0</td>\n      <td>0.002432</td>\n      <td>39</td>\n      <td>0</td>\n      <td>0.072861</td>\n      <td>11322.00</td>\n      <td>12</td>\n      <td>0</td>\n      <td>0</td>\n      <td>3.0</td>\n    </tr>\n    <tr>\n      <th>2</th>\n      <td>0</td>\n      <td>0.455464</td>\n      <td>61</td>\n      <td>2</td>\n      <td>0.254500</td>\n      <td>11500.00</td>\n      <td>15</td>\n      <td>0</td>\n      <td>0</td>\n      <td>0.0</td>\n    </tr>\n    <tr>\n      <th>3</th>\n      <td>0</td>\n      <td>0.485318</td>\n      <td>48</td>\n      <td>0</td>\n      <td>0.634126</td>\n      <td>10601.00</td>\n      <td>9</td>\n      <td>0</td>\n      <td>2</td>\n      <td>1.0</td>\n    </tr>\n    <tr>\n      <th>4</th>\n      <td>0</td>\n      <td>0.267373</td>\n      <td>63</td>\n      <td>0</td>\n      <td>498.000000</td>\n      <td>0.13</td>\n      <td>7</td>\n      <td>1</td>\n      <td>0</td>\n      <td>0.0</td>\n    </tr>\n    <tr>\n      <th>...</th>\n      <td>...</td>\n      <td>...</td>\n      <td>...</td>\n      <td>...</td>\n      <td>...</td>\n      <td>...</td>\n      <td>...</td>\n      <td>...</td>\n      <td>...</td>\n      <td>...</td>\n    </tr>\n    <tr>\n      <th>104410</th>\n      <td>0</td>\n      <td>0.616969</td>\n      <td>48</td>\n      <td>0</td>\n      <td>0.460000</td>\n      <td>3099.00</td>\n      <td>6</td>\n      <td>0</td>\n      <td>1</td>\n      <td>0.0</td>\n    </tr>\n    <tr>\n      <th>104411</th>\n      <td>0</td>\n      <td>0.022150</td>\n      <td>34</td>\n      <td>0</td>\n      <td>0.013240</td>\n      <td>1283.00</td>\n      <td>6</td>\n      <td>0</td>\n      <td>0</td>\n      <td>0.0</td>\n    </tr>\n    <tr>\n      <th>104412</th>\n      <td>0</td>\n      <td>0.553631</td>\n      <td>22</td>\n      <td>0</td>\n      <td>0.025806</td>\n      <td>929.00</td>\n      <td>2</td>\n      <td>0</td>\n      <td>0</td>\n      <td>0.0</td>\n    </tr>\n    <tr>\n      <th>104413</th>\n      <td>0</td>\n      <td>0.915415</td>\n      <td>57</td>\n      <td>0</td>\n      <td>0.359603</td>\n      <td>14896.00</td>\n      <td>9</td>\n      <td>0</td>\n      <td>2</td>\n      <td>1.0</td>\n    </tr>\n    <tr>\n      <th>104414</th>\n      <td>0</td>\n      <td>0.144716</td>\n      <td>47</td>\n      <td>0</td>\n      <td>0.032929</td>\n      <td>7500.00</td>\n      <td>5</td>\n      <td>0</td>\n      <td>0</td>\n      <td>1.0</td>\n    </tr>\n  </tbody>\n</table>\n<p>104415 rows × 10 columns</p>\n</div>"
     },
     "execution_count": 104,
     "metadata": {},
     "output_type": "execute_result"
    }
   ],
   "source": [
    "model_data"
   ],
   "metadata": {
    "collapsed": false
   }
  },
  {
   "cell_type": "code",
   "execution_count": 107,
   "outputs": [],
   "source": [
    "file = './data/scoredata.csv'\n",
    "with open(file,'w') as fdata:\n",
    "    fdata.write(\"base_score,{}\\n\".format(base_score))\n",
    "for i,col in enumerate(x.columns):\n",
    "    score = woeall[col] * (-b*lr.coef_[0][i])\n",
    "    score.name  = \"score\"\n",
    "    score.index.name = col\n",
    "    score.to_csv(file,header= True,mode='a')"
   ],
   "metadata": {
    "collapsed": false
   }
  },
  {
   "cell_type": "code",
   "execution_count": null,
   "outputs": [],
   "source": [],
   "metadata": {
    "collapsed": false
   }
  }
 ],
 "metadata": {
  "kernelspec": {
   "display_name": "Python 3",
   "language": "python",
   "name": "python3"
  },
  "language_info": {
   "codemirror_mode": {
    "name": "ipython",
    "version": 2
   },
   "file_extension": ".py",
   "mimetype": "text/x-python",
   "name": "python",
   "nbconvert_exporter": "python",
   "pygments_lexer": "ipython2",
   "version": "2.7.6"
  }
 },
 "nbformat": 4,
 "nbformat_minor": 0
}
