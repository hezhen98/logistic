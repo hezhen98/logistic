{
 "cells": [
  {
   "cell_type": "markdown",
   "source": [
    "# 1.导库，获取数据"
   ],
   "metadata": {
    "collapsed": false
   }
  },
  {
   "cell_type": "code",
   "execution_count": 40,
   "outputs": [],
   "source": [
    "import scorecardpy\n",
    "%matplotlib inline\n",
    "import numpy as np\n",
    "import pandas as pd\n",
    "from sklearn.linear_model import LogisticRegression"
   ],
   "metadata": {
    "collapsed": false
   }
  },
  {
   "cell_type": "code",
   "execution_count": 41,
   "outputs": [],
   "source": [
    "data = pd.read_csv('./data/rankingcard.csv',index_col = 0)"
   ],
   "metadata": {
    "collapsed": false
   }
  },
  {
   "cell_type": "code",
   "execution_count": 42,
   "outputs": [
    {
     "data": {
      "text/plain": "(150000, 11)"
     },
     "execution_count": 42,
     "metadata": {},
     "output_type": "execute_result"
    }
   ],
   "source": [
    "data.shape"
   ],
   "metadata": {
    "collapsed": false
   }
  },
  {
   "cell_type": "code",
   "execution_count": 43,
   "outputs": [
    {
     "data": {
      "text/plain": "   SeriousDlqin2yrs  RevolvingUtilizationOfUnsecuredLines  age  \\\n1                 1                              0.766127   45   \n2                 0                              0.957151   40   \n3                 0                              0.658180   38   \n4                 0                              0.233810   30   \n5                 0                              0.907239   49   \n\n   NumberOfTime30-59DaysPastDueNotWorse  DebtRatio  MonthlyIncome  \\\n1                                     2   0.802982         9120.0   \n2                                     0   0.121876         2600.0   \n3                                     1   0.085113         3042.0   \n4                                     0   0.036050         3300.0   \n5                                     1   0.024926        63588.0   \n\n   NumberOfOpenCreditLinesAndLoans  NumberOfTimes90DaysLate  \\\n1                               13                        0   \n2                                4                        0   \n3                                2                        1   \n4                                5                        0   \n5                                7                        0   \n\n   NumberRealEstateLoansOrLines  NumberOfTime60-89DaysPastDueNotWorse  \\\n1                             6                                     0   \n2                             0                                     0   \n3                             0                                     0   \n4                             0                                     0   \n5                             1                                     0   \n\n   NumberOfDependents  \n1                 2.0  \n2                 1.0  \n3                 0.0  \n4                 0.0  \n5                 0.0  ",
      "text/html": "<div>\n<style scoped>\n    .dataframe tbody tr th:only-of-type {\n        vertical-align: middle;\n    }\n\n    .dataframe tbody tr th {\n        vertical-align: top;\n    }\n\n    .dataframe thead th {\n        text-align: right;\n    }\n</style>\n<table border=\"1\" class=\"dataframe\">\n  <thead>\n    <tr style=\"text-align: right;\">\n      <th></th>\n      <th>SeriousDlqin2yrs</th>\n      <th>RevolvingUtilizationOfUnsecuredLines</th>\n      <th>age</th>\n      <th>NumberOfTime30-59DaysPastDueNotWorse</th>\n      <th>DebtRatio</th>\n      <th>MonthlyIncome</th>\n      <th>NumberOfOpenCreditLinesAndLoans</th>\n      <th>NumberOfTimes90DaysLate</th>\n      <th>NumberRealEstateLoansOrLines</th>\n      <th>NumberOfTime60-89DaysPastDueNotWorse</th>\n      <th>NumberOfDependents</th>\n    </tr>\n  </thead>\n  <tbody>\n    <tr>\n      <th>1</th>\n      <td>1</td>\n      <td>0.766127</td>\n      <td>45</td>\n      <td>2</td>\n      <td>0.802982</td>\n      <td>9120.0</td>\n      <td>13</td>\n      <td>0</td>\n      <td>6</td>\n      <td>0</td>\n      <td>2.0</td>\n    </tr>\n    <tr>\n      <th>2</th>\n      <td>0</td>\n      <td>0.957151</td>\n      <td>40</td>\n      <td>0</td>\n      <td>0.121876</td>\n      <td>2600.0</td>\n      <td>4</td>\n      <td>0</td>\n      <td>0</td>\n      <td>0</td>\n      <td>1.0</td>\n    </tr>\n    <tr>\n      <th>3</th>\n      <td>0</td>\n      <td>0.658180</td>\n      <td>38</td>\n      <td>1</td>\n      <td>0.085113</td>\n      <td>3042.0</td>\n      <td>2</td>\n      <td>1</td>\n      <td>0</td>\n      <td>0</td>\n      <td>0.0</td>\n    </tr>\n    <tr>\n      <th>4</th>\n      <td>0</td>\n      <td>0.233810</td>\n      <td>30</td>\n      <td>0</td>\n      <td>0.036050</td>\n      <td>3300.0</td>\n      <td>5</td>\n      <td>0</td>\n      <td>0</td>\n      <td>0</td>\n      <td>0.0</td>\n    </tr>\n    <tr>\n      <th>5</th>\n      <td>0</td>\n      <td>0.907239</td>\n      <td>49</td>\n      <td>1</td>\n      <td>0.024926</td>\n      <td>63588.0</td>\n      <td>7</td>\n      <td>0</td>\n      <td>1</td>\n      <td>0</td>\n      <td>0.0</td>\n    </tr>\n  </tbody>\n</table>\n</div>"
     },
     "execution_count": 43,
     "metadata": {},
     "output_type": "execute_result"
    }
   ],
   "source": [
    "data.head()"
   ],
   "metadata": {
    "collapsed": false
   }
  },
  {
   "cell_type": "markdown",
   "source": [
    "# 2.探索数据与数据预处理"
   ],
   "metadata": {
    "collapsed": false
   }
  },
  {
   "cell_type": "markdown",
   "source": [
    "## 2.1去除重复值"
   ],
   "metadata": {
    "collapsed": false
   }
  },
  {
   "cell_type": "code",
   "execution_count": 44,
   "outputs": [
    {
     "name": "stdout",
     "output_type": "stream",
     "text": [
      "<class 'pandas.core.frame.DataFrame'>\n",
      "Int64Index: 149391 entries, 1 to 150000\n",
      "Data columns (total 11 columns):\n",
      " #   Column                                Non-Null Count   Dtype  \n",
      "---  ------                                --------------   -----  \n",
      " 0   SeriousDlqin2yrs                      149391 non-null  int64  \n",
      " 1   RevolvingUtilizationOfUnsecuredLines  149391 non-null  float64\n",
      " 2   age                                   149391 non-null  int64  \n",
      " 3   NumberOfTime30-59DaysPastDueNotWorse  149391 non-null  int64  \n",
      " 4   DebtRatio                             149391 non-null  float64\n",
      " 5   MonthlyIncome                         120170 non-null  float64\n",
      " 6   NumberOfOpenCreditLinesAndLoans       149391 non-null  int64  \n",
      " 7   NumberOfTimes90DaysLate               149391 non-null  int64  \n",
      " 8   NumberRealEstateLoansOrLines          149391 non-null  int64  \n",
      " 9   NumberOfTime60-89DaysPastDueNotWorse  149391 non-null  int64  \n",
      " 10  NumberOfDependents                    145563 non-null  float64\n",
      "dtypes: float64(4), int64(7)\n",
      "memory usage: 13.7 MB\n"
     ]
    }
   ],
   "source": [
    "#去除重复值\n",
    "data.drop_duplicates(inplace=True)\n",
    "data.info()"
   ],
   "metadata": {
    "collapsed": false
   }
  },
  {
   "cell_type": "code",
   "execution_count": 45,
   "outputs": [
    {
     "name": "stdout",
     "output_type": "stream",
     "text": [
      "<class 'pandas.core.frame.DataFrame'>\n",
      "RangeIndex: 149391 entries, 0 to 149390\n",
      "Data columns (total 11 columns):\n",
      " #   Column                                Non-Null Count   Dtype  \n",
      "---  ------                                --------------   -----  \n",
      " 0   SeriousDlqin2yrs                      149391 non-null  int64  \n",
      " 1   RevolvingUtilizationOfUnsecuredLines  149391 non-null  float64\n",
      " 2   age                                   149391 non-null  int64  \n",
      " 3   NumberOfTime30-59DaysPastDueNotWorse  149391 non-null  int64  \n",
      " 4   DebtRatio                             149391 non-null  float64\n",
      " 5   MonthlyIncome                         120170 non-null  float64\n",
      " 6   NumberOfOpenCreditLinesAndLoans       149391 non-null  int64  \n",
      " 7   NumberOfTimes90DaysLate               149391 non-null  int64  \n",
      " 8   NumberRealEstateLoansOrLines          149391 non-null  int64  \n",
      " 9   NumberOfTime60-89DaysPastDueNotWorse  149391 non-null  int64  \n",
      " 10  NumberOfDependents                    145563 non-null  float64\n",
      "dtypes: float64(4), int64(7)\n",
      "memory usage: 12.5 MB\n"
     ]
    }
   ],
   "source": [
    "#删除之后一定是要恢复索引\n",
    "data.reset_index(drop=True,inplace=True)\n",
    "#data.index = range(data.shape[0])\n",
    "data.info()"
   ],
   "metadata": {
    "collapsed": false
   }
  },
  {
   "cell_type": "code",
   "execution_count": 46,
   "outputs": [
    {
     "data": {
      "text/plain": "   SeriousDlqin2yrs  RevolvingUtilizationOfUnsecuredLines  age  \\\n0                 1                              0.766127   45   \n1                 0                              0.957151   40   \n2                 0                              0.658180   38   \n3                 0                              0.233810   30   \n4                 0                              0.907239   49   \n\n   NumberOfTime30-59DaysPastDueNotWorse  DebtRatio  MonthlyIncome  \\\n0                                     2   0.802982         9120.0   \n1                                     0   0.121876         2600.0   \n2                                     1   0.085113         3042.0   \n3                                     0   0.036050         3300.0   \n4                                     1   0.024926        63588.0   \n\n   NumberOfOpenCreditLinesAndLoans  NumberOfTimes90DaysLate  \\\n0                               13                        0   \n1                                4                        0   \n2                                2                        1   \n3                                5                        0   \n4                                7                        0   \n\n   NumberRealEstateLoansOrLines  NumberOfTime60-89DaysPastDueNotWorse  \\\n0                             6                                     0   \n1                             0                                     0   \n2                             0                                     0   \n3                             0                                     0   \n4                             1                                     0   \n\n   NumberOfDependents  \n0                 2.0  \n1                 1.0  \n2                 0.0  \n3                 0.0  \n4                 0.0  ",
      "text/html": "<div>\n<style scoped>\n    .dataframe tbody tr th:only-of-type {\n        vertical-align: middle;\n    }\n\n    .dataframe tbody tr th {\n        vertical-align: top;\n    }\n\n    .dataframe thead th {\n        text-align: right;\n    }\n</style>\n<table border=\"1\" class=\"dataframe\">\n  <thead>\n    <tr style=\"text-align: right;\">\n      <th></th>\n      <th>SeriousDlqin2yrs</th>\n      <th>RevolvingUtilizationOfUnsecuredLines</th>\n      <th>age</th>\n      <th>NumberOfTime30-59DaysPastDueNotWorse</th>\n      <th>DebtRatio</th>\n      <th>MonthlyIncome</th>\n      <th>NumberOfOpenCreditLinesAndLoans</th>\n      <th>NumberOfTimes90DaysLate</th>\n      <th>NumberRealEstateLoansOrLines</th>\n      <th>NumberOfTime60-89DaysPastDueNotWorse</th>\n      <th>NumberOfDependents</th>\n    </tr>\n  </thead>\n  <tbody>\n    <tr>\n      <th>0</th>\n      <td>1</td>\n      <td>0.766127</td>\n      <td>45</td>\n      <td>2</td>\n      <td>0.802982</td>\n      <td>9120.0</td>\n      <td>13</td>\n      <td>0</td>\n      <td>6</td>\n      <td>0</td>\n      <td>2.0</td>\n    </tr>\n    <tr>\n      <th>1</th>\n      <td>0</td>\n      <td>0.957151</td>\n      <td>40</td>\n      <td>0</td>\n      <td>0.121876</td>\n      <td>2600.0</td>\n      <td>4</td>\n      <td>0</td>\n      <td>0</td>\n      <td>0</td>\n      <td>1.0</td>\n    </tr>\n    <tr>\n      <th>2</th>\n      <td>0</td>\n      <td>0.658180</td>\n      <td>38</td>\n      <td>1</td>\n      <td>0.085113</td>\n      <td>3042.0</td>\n      <td>2</td>\n      <td>1</td>\n      <td>0</td>\n      <td>0</td>\n      <td>0.0</td>\n    </tr>\n    <tr>\n      <th>3</th>\n      <td>0</td>\n      <td>0.233810</td>\n      <td>30</td>\n      <td>0</td>\n      <td>0.036050</td>\n      <td>3300.0</td>\n      <td>5</td>\n      <td>0</td>\n      <td>0</td>\n      <td>0</td>\n      <td>0.0</td>\n    </tr>\n    <tr>\n      <th>4</th>\n      <td>0</td>\n      <td>0.907239</td>\n      <td>49</td>\n      <td>1</td>\n      <td>0.024926</td>\n      <td>63588.0</td>\n      <td>7</td>\n      <td>0</td>\n      <td>1</td>\n      <td>0</td>\n      <td>0.0</td>\n    </tr>\n  </tbody>\n</table>\n</div>"
     },
     "execution_count": 46,
     "metadata": {},
     "output_type": "execute_result"
    }
   ],
   "source": [
    "data.head()"
   ],
   "metadata": {
    "collapsed": false
   }
  },
  {
   "cell_type": "markdown",
   "source": [
    "## 2.2 填补缺失值"
   ],
   "metadata": {
    "collapsed": false
   }
  },
  {
   "cell_type": "code",
   "execution_count": 47,
   "outputs": [
    {
     "data": {
      "text/plain": "SeriousDlqin2yrs                        0.000000\nRevolvingUtilizationOfUnsecuredLines    0.000000\nage                                     0.000000\nNumberOfTime30-59DaysPastDueNotWorse    0.000000\nDebtRatio                               0.000000\nMonthlyIncome                           0.195601\nNumberOfOpenCreditLinesAndLoans         0.000000\nNumberOfTimes90DaysLate                 0.000000\nNumberRealEstateLoansOrLines            0.000000\nNumberOfTime60-89DaysPastDueNotWorse    0.000000\nNumberOfDependents                      0.025624\ndtype: float64"
     },
     "execution_count": 47,
     "metadata": {},
     "output_type": "execute_result"
    }
   ],
   "source": [
    "#均值填补\n",
    "#data.isna().sum()/data.shape[0]\n",
    "data.isna().mean()"
   ],
   "metadata": {
    "collapsed": false
   }
  },
  {
   "cell_type": "code",
   "execution_count": 48,
   "outputs": [],
   "source": [
    "data['NumberOfDependents'].fillna(int(data['NumberOfDependents'].mean()),inplace=True)"
   ],
   "metadata": {
    "collapsed": false
   }
  },
  {
   "cell_type": "code",
   "execution_count": 49,
   "outputs": [
    {
     "data": {
      "text/plain": "SeriousDlqin2yrs                        0.000000\nRevolvingUtilizationOfUnsecuredLines    0.000000\nage                                     0.000000\nNumberOfTime30-59DaysPastDueNotWorse    0.000000\nDebtRatio                               0.000000\nMonthlyIncome                           0.195601\nNumberOfOpenCreditLinesAndLoans         0.000000\nNumberOfTimes90DaysLate                 0.000000\nNumberRealEstateLoansOrLines            0.000000\nNumberOfTime60-89DaysPastDueNotWorse    0.000000\nNumberOfDependents                      0.000000\ndtype: float64"
     },
     "execution_count": 49,
     "metadata": {},
     "output_type": "execute_result"
    }
   ],
   "source": [
    "data.isna().mean()"
   ],
   "metadata": {
    "collapsed": false
   }
  },
  {
   "cell_type": "code",
   "execution_count": 50,
   "outputs": [],
   "source": [
    "#随机森林\n",
    "#填补函数\n",
    "def fill_missing_rf(x,y,to_fill):\n",
    "    \"\"\"\n",
    "    使用随机森林填补一个特征的缺失值的函数\n",
    "    :param x: 要填补的特征矩阵\n",
    "    :param y: 完整的，没有缺失值的标签（原有标签）\n",
    "    :param to_fill: 要填补的特征\n",
    "    :return: 缺失填补后的特征\n",
    "    \"\"\"\n",
    "    #构建新特征矩阵和标签\n",
    "    df = x.copy()\n",
    "    fill = df.loc[:,to_fill]\n",
    "    df = pd.concat([df.loc[:,df.columns!=to_fill],pd.DataFrame(y)],axis=1)\n",
    "\n",
    "    #找出训练集和测试集\n",
    "    y_train = fill[fill.notnull()]\n",
    "    y_test  = fill[fill.isnull()]\n",
    "    x_train = df.iloc[y_train.index,:]\n",
    "    x_test = df.iloc[y_test.index,:]\n",
    "\n",
    "    #使用随机森林填补缺失值\n",
    "    from sklearn.ensemble import RandomForestRegressor as rfr\n",
    "    rfr = rfr(n_estimators=100)\n",
    "    rfr.fit(x_train,y_train)\n",
    "    yprdict = rfr.predict(x_test)\n",
    "\n",
    "    return yprdict"
   ],
   "metadata": {
    "collapsed": false
   }
  },
  {
   "cell_type": "code",
   "execution_count": 51,
   "outputs": [],
   "source": [
    "x = data.iloc[:,1:]\n",
    "y = data['SeriousDlqin2yrs']\n",
    "ypredict = fill_missing_rf(x,y,'MonthlyIncome')"
   ],
   "metadata": {
    "collapsed": false
   }
  },
  {
   "cell_type": "code",
   "execution_count": 52,
   "outputs": [],
   "source": [
    "#确认结果合理，就将数据覆盖\n",
    "data.loc[data.loc[:,\"MonthlyIncome\"].isnull(),\"MonthlyIncome\"] = ypredict"
   ],
   "metadata": {
    "collapsed": false
   }
  },
  {
   "cell_type": "code",
   "execution_count": 53,
   "outputs": [
    {
     "data": {
      "text/plain": "SeriousDlqin2yrs                        0.0\nRevolvingUtilizationOfUnsecuredLines    0.0\nage                                     0.0\nNumberOfTime30-59DaysPastDueNotWorse    0.0\nDebtRatio                               0.0\nMonthlyIncome                           0.0\nNumberOfOpenCreditLinesAndLoans         0.0\nNumberOfTimes90DaysLate                 0.0\nNumberRealEstateLoansOrLines            0.0\nNumberOfTime60-89DaysPastDueNotWorse    0.0\nNumberOfDependents                      0.0\ndtype: float64"
     },
     "execution_count": 53,
     "metadata": {},
     "output_type": "execute_result"
    }
   ],
   "source": [
    "data.isnull().mean()"
   ],
   "metadata": {
    "collapsed": false
   }
  },
  {
   "cell_type": "markdown",
   "source": [
    "## 2.3描述性统计处理异常值"
   ],
   "metadata": {
    "collapsed": false
   }
  },
  {
   "cell_type": "code",
   "execution_count": 54,
   "outputs": [],
   "source": [
    "df_describe = data.describe([0.01,0.1,0.25,.5,.75,.9]).T"
   ],
   "metadata": {
    "collapsed": false
   }
  },
  {
   "cell_type": "code",
   "execution_count": 55,
   "outputs": [],
   "source": [
    "(data['age']==0).sum()\n",
    "data = data[data['age']!=0]\n",
    "data = data[data.loc[:,\"NumberOfTimes90DaysLate\"]<90]"
   ],
   "metadata": {
    "collapsed": false
   }
  },
  {
   "cell_type": "code",
   "execution_count": 56,
   "outputs": [
    {
     "name": "stdout",
     "output_type": "stream",
     "text": [
      "<class 'pandas.core.frame.DataFrame'>\n",
      "RangeIndex: 149165 entries, 0 to 149164\n",
      "Data columns (total 11 columns):\n",
      " #   Column                                Non-Null Count   Dtype  \n",
      "---  ------                                --------------   -----  \n",
      " 0   SeriousDlqin2yrs                      149165 non-null  int64  \n",
      " 1   RevolvingUtilizationOfUnsecuredLines  149165 non-null  float64\n",
      " 2   age                                   149165 non-null  int64  \n",
      " 3   NumberOfTime30-59DaysPastDueNotWorse  149165 non-null  int64  \n",
      " 4   DebtRatio                             149165 non-null  float64\n",
      " 5   MonthlyIncome                         149165 non-null  float64\n",
      " 6   NumberOfOpenCreditLinesAndLoans       149165 non-null  int64  \n",
      " 7   NumberOfTimes90DaysLate               149165 non-null  int64  \n",
      " 8   NumberRealEstateLoansOrLines          149165 non-null  int64  \n",
      " 9   NumberOfTime60-89DaysPastDueNotWorse  149165 non-null  int64  \n",
      " 10  NumberOfDependents                    149165 non-null  float64\n",
      "dtypes: float64(4), int64(7)\n",
      "memory usage: 12.5 MB\n"
     ]
    }
   ],
   "source": [
    "data.index = range(data.shape[0])\n",
    "data.info()"
   ],
   "metadata": {
    "collapsed": false
   }
  },
  {
   "cell_type": "markdown",
   "source": [
    "## 2.5样本不均衡问题"
   ],
   "metadata": {
    "collapsed": false
   }
  },
  {
   "cell_type": "code",
   "execution_count": 57,
   "outputs": [
    {
     "name": "stdout",
     "output_type": "stream",
     "text": [
      "样本个数:149165;\n",
      "1占6.62%;\n",
      "0占93.38%\n"
     ]
    }
   ],
   "source": [
    "#标签分布\n",
    "x = data.iloc[:,1:]\n",
    "y = data.iloc[:,0]\n",
    "y.value_counts()\n",
    "n_sample = x.shape[0]\n",
    "n1_sample = y.value_counts()[1]\n",
    "n0_sample = y.value_counts()[0]\n",
    "print(f'样本个数:%d;\\n1占%.2f%%;\\n0占%.2f%%'%(n_sample,n1_sample*100/n_sample,n0_sample*100/n_sample))\n",
    "#print('样本个数:{:d};\\n1占{:.2%};\\n0占{:.2%}'.format(n_sample,n1_sample/n_sample,n0_sample/n_sample))"
   ],
   "metadata": {
    "collapsed": false
   }
  },
  {
   "cell_type": "code",
   "execution_count": 58,
   "outputs": [
    {
     "name": "stdout",
     "output_type": "stream",
     "text": [
      "样本总数为278584;\n",
      "1占50.00%;\n",
      "2占50.00%\n",
      "\n"
     ]
    }
   ],
   "source": [
    "#上采样 方法平衡样本【不断向上采样平衡样本】\n",
    "#重复采样样本量少的部分，以数据量多的一方的样本数量为标准，把样本数量较少的类的样本数量生成和样本数量多的一方相同\n",
    "\n",
    "from imblearn.over_sampling import SMOTE\n",
    "\n",
    "sm = SMOTE(random_state=42)#实例化\n",
    "x,y = sm.fit_resample(x,y) #返回已经上采样完毕后的特征矩阵和标签\n",
    "n_sample = x.shape[0]\n",
    "pd.Series(y).value_counts()\n",
    "n1_sample = pd.Series(y).value_counts()[1]\n",
    "n0_sample = pd.Series(y).value_counts()[0]\n",
    "print('样本总数为{:d};\\n1占{:.2%};\\n2占{:.2%}\\n'.format(n_sample,n1_sample/n_sample,n0_sample/n_sample))"
   ],
   "metadata": {
    "collapsed": false
   }
  },
  {
   "cell_type": "markdown",
   "source": [
    "# 3 特征筛选"
   ],
   "metadata": {
    "collapsed": false
   }
  },
  {
   "cell_type": "markdown",
   "source": [
    "## 3.1 方差为0的特征删除"
   ],
   "metadata": {
    "collapsed": false
   }
  },
  {
   "cell_type": "code",
   "execution_count": 59,
   "outputs": [
    {
     "data": {
      "text/plain": "                                         count         mean           std  \\\nSeriousDlqin2yrs                      149391.0     0.066999      0.250021   \nRevolvingUtilizationOfUnsecuredLines  149391.0     6.071087    250.263672   \nage                                   149391.0    52.306237     14.725962   \nNumberOfTime30-59DaysPastDueNotWorse  149391.0     0.393886      3.852953   \nDebtRatio                             149391.0   354.436740   2041.843455   \nMonthlyIncome                         149391.0  5424.394735  13230.188122   \nNumberOfOpenCreditLinesAndLoans       149391.0     8.480892      5.136515   \nNumberOfTimes90DaysLate               149391.0     0.238120      3.826165   \nNumberRealEstateLoansOrLines          149391.0     1.022391      1.130196   \nNumberOfTime60-89DaysPastDueNotWorse  149391.0     0.212503      3.810523   \nNumberOfDependents                    149391.0     0.740393      1.108272   \n\n                                      min    1%        10%          25%  \\\nSeriousDlqin2yrs                      0.0   0.0   0.000000     0.000000   \nRevolvingUtilizationOfUnsecuredLines  0.0   0.0   0.003199     0.030132   \nage                                   0.0  24.0  33.000000    41.000000   \nNumberOfTime30-59DaysPastDueNotWorse  0.0   0.0   0.000000     0.000000   \nDebtRatio                             0.0   0.0   0.034991     0.177441   \nMonthlyIncome                         0.0   0.0   0.180000  1800.000000   \nNumberOfOpenCreditLinesAndLoans       0.0   0.0   3.000000     5.000000   \nNumberOfTimes90DaysLate               0.0   0.0   0.000000     0.000000   \nNumberRealEstateLoansOrLines          0.0   0.0   0.000000     0.000000   \nNumberOfTime60-89DaysPastDueNotWorse  0.0   0.0   0.000000     0.000000   \nNumberOfDependents                    0.0   0.0   0.000000     0.000000   \n\n                                              50%          75%           90%  \\\nSeriousDlqin2yrs                         0.000000     0.000000      0.000000   \nRevolvingUtilizationOfUnsecuredLines     0.154235     0.556494      0.978007   \nage                                     52.000000    63.000000     72.000000   \nNumberOfTime30-59DaysPastDueNotWorse     0.000000     0.000000      1.000000   \nDebtRatio                                0.368234     0.875279   1275.000000   \nMonthlyIncome                         4418.000000  7416.000000  10800.000000   \nNumberOfOpenCreditLinesAndLoans          8.000000    11.000000     15.000000   \nNumberOfTimes90DaysLate                  0.000000     0.000000      0.000000   \nNumberRealEstateLoansOrLines             1.000000     2.000000      2.000000   \nNumberOfTime60-89DaysPastDueNotWorse     0.000000     0.000000      0.000000   \nNumberOfDependents                       0.000000     1.000000      2.000000   \n\n                                            max  \nSeriousDlqin2yrs                            1.0  \nRevolvingUtilizationOfUnsecuredLines    50708.0  \nage                                       109.0  \nNumberOfTime30-59DaysPastDueNotWorse       98.0  \nDebtRatio                              329664.0  \nMonthlyIncome                         3008750.0  \nNumberOfOpenCreditLinesAndLoans            58.0  \nNumberOfTimes90DaysLate                    98.0  \nNumberRealEstateLoansOrLines               54.0  \nNumberOfTime60-89DaysPastDueNotWorse       98.0  \nNumberOfDependents                         20.0  ",
      "text/html": "<div>\n<style scoped>\n    .dataframe tbody tr th:only-of-type {\n        vertical-align: middle;\n    }\n\n    .dataframe tbody tr th {\n        vertical-align: top;\n    }\n\n    .dataframe thead th {\n        text-align: right;\n    }\n</style>\n<table border=\"1\" class=\"dataframe\">\n  <thead>\n    <tr style=\"text-align: right;\">\n      <th></th>\n      <th>count</th>\n      <th>mean</th>\n      <th>std</th>\n      <th>min</th>\n      <th>1%</th>\n      <th>10%</th>\n      <th>25%</th>\n      <th>50%</th>\n      <th>75%</th>\n      <th>90%</th>\n      <th>max</th>\n    </tr>\n  </thead>\n  <tbody>\n    <tr>\n      <th>SeriousDlqin2yrs</th>\n      <td>149391.0</td>\n      <td>0.066999</td>\n      <td>0.250021</td>\n      <td>0.0</td>\n      <td>0.0</td>\n      <td>0.000000</td>\n      <td>0.000000</td>\n      <td>0.000000</td>\n      <td>0.000000</td>\n      <td>0.000000</td>\n      <td>1.0</td>\n    </tr>\n    <tr>\n      <th>RevolvingUtilizationOfUnsecuredLines</th>\n      <td>149391.0</td>\n      <td>6.071087</td>\n      <td>250.263672</td>\n      <td>0.0</td>\n      <td>0.0</td>\n      <td>0.003199</td>\n      <td>0.030132</td>\n      <td>0.154235</td>\n      <td>0.556494</td>\n      <td>0.978007</td>\n      <td>50708.0</td>\n    </tr>\n    <tr>\n      <th>age</th>\n      <td>149391.0</td>\n      <td>52.306237</td>\n      <td>14.725962</td>\n      <td>0.0</td>\n      <td>24.0</td>\n      <td>33.000000</td>\n      <td>41.000000</td>\n      <td>52.000000</td>\n      <td>63.000000</td>\n      <td>72.000000</td>\n      <td>109.0</td>\n    </tr>\n    <tr>\n      <th>NumberOfTime30-59DaysPastDueNotWorse</th>\n      <td>149391.0</td>\n      <td>0.393886</td>\n      <td>3.852953</td>\n      <td>0.0</td>\n      <td>0.0</td>\n      <td>0.000000</td>\n      <td>0.000000</td>\n      <td>0.000000</td>\n      <td>0.000000</td>\n      <td>1.000000</td>\n      <td>98.0</td>\n    </tr>\n    <tr>\n      <th>DebtRatio</th>\n      <td>149391.0</td>\n      <td>354.436740</td>\n      <td>2041.843455</td>\n      <td>0.0</td>\n      <td>0.0</td>\n      <td>0.034991</td>\n      <td>0.177441</td>\n      <td>0.368234</td>\n      <td>0.875279</td>\n      <td>1275.000000</td>\n      <td>329664.0</td>\n    </tr>\n    <tr>\n      <th>MonthlyIncome</th>\n      <td>149391.0</td>\n      <td>5424.394735</td>\n      <td>13230.188122</td>\n      <td>0.0</td>\n      <td>0.0</td>\n      <td>0.180000</td>\n      <td>1800.000000</td>\n      <td>4418.000000</td>\n      <td>7416.000000</td>\n      <td>10800.000000</td>\n      <td>3008750.0</td>\n    </tr>\n    <tr>\n      <th>NumberOfOpenCreditLinesAndLoans</th>\n      <td>149391.0</td>\n      <td>8.480892</td>\n      <td>5.136515</td>\n      <td>0.0</td>\n      <td>0.0</td>\n      <td>3.000000</td>\n      <td>5.000000</td>\n      <td>8.000000</td>\n      <td>11.000000</td>\n      <td>15.000000</td>\n      <td>58.0</td>\n    </tr>\n    <tr>\n      <th>NumberOfTimes90DaysLate</th>\n      <td>149391.0</td>\n      <td>0.238120</td>\n      <td>3.826165</td>\n      <td>0.0</td>\n      <td>0.0</td>\n      <td>0.000000</td>\n      <td>0.000000</td>\n      <td>0.000000</td>\n      <td>0.000000</td>\n      <td>0.000000</td>\n      <td>98.0</td>\n    </tr>\n    <tr>\n      <th>NumberRealEstateLoansOrLines</th>\n      <td>149391.0</td>\n      <td>1.022391</td>\n      <td>1.130196</td>\n      <td>0.0</td>\n      <td>0.0</td>\n      <td>0.000000</td>\n      <td>0.000000</td>\n      <td>1.000000</td>\n      <td>2.000000</td>\n      <td>2.000000</td>\n      <td>54.0</td>\n    </tr>\n    <tr>\n      <th>NumberOfTime60-89DaysPastDueNotWorse</th>\n      <td>149391.0</td>\n      <td>0.212503</td>\n      <td>3.810523</td>\n      <td>0.0</td>\n      <td>0.0</td>\n      <td>0.000000</td>\n      <td>0.000000</td>\n      <td>0.000000</td>\n      <td>0.000000</td>\n      <td>0.000000</td>\n      <td>98.0</td>\n    </tr>\n    <tr>\n      <th>NumberOfDependents</th>\n      <td>149391.0</td>\n      <td>0.740393</td>\n      <td>1.108272</td>\n      <td>0.0</td>\n      <td>0.0</td>\n      <td>0.000000</td>\n      <td>0.000000</td>\n      <td>0.000000</td>\n      <td>1.000000</td>\n      <td>2.000000</td>\n      <td>20.0</td>\n    </tr>\n  </tbody>\n</table>\n</div>"
     },
     "execution_count": 59,
     "metadata": {},
     "output_type": "execute_result"
    }
   ],
   "source": [
    "df_describe"
   ],
   "metadata": {
    "collapsed": false
   }
  },
  {
   "cell_type": "code",
   "execution_count": 60,
   "outputs": [],
   "source": [
    "varnum = [x for x in df_describe[df_describe[\"std\"] !=0].index]"
   ],
   "metadata": {
    "collapsed": false
   }
  },
  {
   "cell_type": "code",
   "execution_count": 61,
   "outputs": [
    {
     "data": {
      "text/plain": "Index(['SeriousDlqin2yrs', 'RevolvingUtilizationOfUnsecuredLines', 'age',\n       'NumberOfTime30-59DaysPastDueNotWorse', 'DebtRatio', 'MonthlyIncome',\n       'NumberOfOpenCreditLinesAndLoans', 'NumberOfTimes90DaysLate',\n       'NumberRealEstateLoansOrLines', 'NumberOfTime60-89DaysPastDueNotWorse',\n       'NumberOfDependents'],\n      dtype='object')"
     },
     "execution_count": 61,
     "metadata": {},
     "output_type": "execute_result"
    }
   ],
   "source": [
    "data.columns"
   ],
   "metadata": {
    "collapsed": false
   }
  },
  {
   "cell_type": "markdown",
   "source": [
    "## 3.2 相关性剔除；剔除规则iv较小"
   ],
   "metadata": {
    "collapsed": false
   }
  },
  {
   "cell_type": "code",
   "execution_count": 24,
   "outputs": [
    {
     "data": {
      "text/plain": "<AxesSubplot:>"
     },
     "execution_count": 24,
     "metadata": {},
     "output_type": "execute_result"
    },
    {
     "data": {
      "text/plain": "<Figure size 432x288 with 2 Axes>",
      "image/png": "[encoded data removed]"
     },
     "metadata": {
      "needs_background": "light"
     },
     "output_type": "display_data"
    }
   ],
   "source": [
    "import seaborn as sns\n",
    "import scorecardpy as sc\n",
    "sns.heatmap(data.corr())"
   ],
   "metadata": {
    "collapsed": false
   }
  },
  {
   "cell_type": "code",
   "execution_count": 87,
   "outputs": [],
   "source": [
    "#剔除两两相关变量中iv较低者\n",
    "def get_sc_iv(df_num,features,label='SeriousDlqin2yrs',bin_num_limit =10,method ='chimerge'):\n",
    "    \"\"\"\n",
    "    输入：\n",
    "    df_num:特征矩阵\n",
    "    features:特征名称\n",
    "    label：标签名称\n",
    "    bin_num_limit :分箱箱数限制\n",
    "    method:方法\n",
    "    输出：\n",
    "    return woe_bins\n",
    "    \"\"\"\n",
    "    exclude_cols = ['SeriousDlqin2yrs']\n",
    "    iv_dict = {}\n",
    "    i = 0\n",
    "    for col in features:\n",
    "        try:\n",
    "            i += 1\n",
    "            print(i,col)\n",
    "            bins = sc.woebin(df_num[[col,label]],y = label,bin_num_limit=bin_num_limit,method=method)\n",
    "            iv_dict[col] = bins\n",
    "        except:\n",
    "            print(col)\n",
    "    #print(iv_dict)\n",
    "    woe_bins = pd.DataFrame()\n",
    "    for key in iv_dict:\n",
    "        woe_bins = woe_bins.append(iv_dict[key][key],ignore_index=True)\n",
    "    woe_bins = woe_bins[~woe_bins['variable'].isin(exclude_cols)].rename(columns = {'variable':'cols'})\n",
    "    return iv_dict,woe_bins"
   ],
   "metadata": {
    "collapsed": false
   }
  },
  {
   "cell_type": "code",
   "execution_count": 89,
   "outputs": [
    {
     "name": "stdout",
     "output_type": "stream",
     "text": [
      "1 RevolvingUtilizationOfUnsecuredLines\n",
      "[INFO] creating woe binning ...\n",
      "2 age\n",
      "[INFO] creating woe binning ...\n",
      "3 NumberOfTime30-59DaysPastDueNotWorse\n",
      "[INFO] creating woe binning ...\n",
      "4 DebtRatio\n",
      "[INFO] creating woe binning ...\n",
      "5 MonthlyIncome\n",
      "[INFO] creating woe binning ...\n",
      "6 NumberOfOpenCreditLinesAndLoans\n",
      "[INFO] creating woe binning ...\n",
      "7 NumberOfTimes90DaysLate\n",
      "[INFO] creating woe binning ...\n",
      "8 NumberRealEstateLoansOrLines\n",
      "[INFO] creating woe binning ...\n",
      "9 NumberOfTime60-89DaysPastDueNotWorse\n",
      "[INFO] creating woe binning ...\n",
      "10 NumberOfDependents\n",
      "[INFO] creating woe binning ...\n"
     ]
    }
   ],
   "source": [
    "iv,sc_iv = get_sc_iv(data,varnum[1:])"
   ],
   "metadata": {
    "collapsed": false
   }
  },
  {
   "cell_type": "code",
   "execution_count": 96,
   "outputs": [],
   "source": [
    "sc_iv = pd.DataFrame(sc_iv.groupby('cols')['total_iv'].mean())"
   ],
   "metadata": {
    "collapsed": false
   }
  },
  {
   "cell_type": "code",
   "execution_count": 99,
   "outputs": [
    {
     "data": {
      "text/plain": "0.25537516185942016"
     },
     "execution_count": 99,
     "metadata": {},
     "output_type": "execute_result"
    }
   ],
   "source": [
    "sc_iv.loc['age'][0]"
   ],
   "metadata": {
    "collapsed": false
   }
  },
  {
   "cell_type": "code",
   "execution_count": 107,
   "outputs": [],
   "source": [
    "#相关性剔除\n",
    "def forward_delete_corr(df,sc_iv,col_list,threshold = None):\n",
    "    \"\"\"\n",
    "    df:训练数据集\n",
    "    col_list:变量list集合\n",
    "    threshold:相关性设定的阈值\n",
    "    return：相关性剔除后的变量\n",
    "\n",
    "    \"\"\"\n",
    "    list_corr = col_list[:]\n",
    "    for col in list_corr:\n",
    "        corr = df.loc[:,list_corr].corr()[col]\n",
    "        corr_index = [x for x in corr.index if x!=col]\n",
    "        corr_values = [x for x in corr.values if x!=1]\n",
    "        for i,j in zip(corr_index,corr_values):\n",
    "            if abs(j)>=threshold:\n",
    "                if sc_iv.loc[col][0] < sc_iv.loc[i][0]:\n",
    "                    list_corr.remove(col)\n",
    "                    break\n",
    "                else:\n",
    "                    list_corr.remove(i)\n",
    "    return list_corr"
   ],
   "metadata": {
    "collapsed": false
   }
  },
  {
   "cell_type": "code",
   "execution_count": null,
   "outputs": [],
   "source": [
    "def corr_mapping(df,col_list,threshold=None):\n",
    "    \"\"\"\n",
    "    df:数据集\n",
    "    col_list:变量list集合\n",
    "    threshold:相关性设定的阈值\n",
    "    return:强相关性变量之间的映射关系表\n",
    "    \"\"\"\n",
    "    corr_df = df.loc[:,col_list].corr()\n",
    "    col_a = []\n",
    "    col_b = []\n",
    "    corr_value = []\n",
    "    for col,i in zip(col_list[1:],range(1,len(col_list),1)):\n",
    "        high_corr_col = []\n",
    "        high_corr_value = []\n",
    "        corr_series = corr_df[col][1:]\n",
    "        for i,j in zip(corr_series.index,corr_series.values):\n",
    "            if abs(j)>threshold:\n",
    "                high_corr_col.append(i)\n",
    "                high_corr_value.append(j)\n",
    "        col_a.extend([col]*len(high_corr_col))\n",
    "        col_b.extend(high_corr_col)\n",
    "        corr_value.extend(high_corr_value)\n",
    "    corr_map_df = pd.DataFrame({'col_A':col_a,\n",
    "                                'col_B':col_b,\n",
    "                                'corr':corr_value,\n",
    "                               })\n",
    "    return corr_map_df"
   ],
   "metadata": {
    "collapsed": false
   }
  },
  {
   "cell_type": "code",
   "execution_count": 108,
   "outputs": [],
   "source": [
    "var_num = forward_delete_corr(data,sc_iv,data.columns.tolist(),threshold=0.6)"
   ],
   "metadata": {
    "collapsed": false
   }
  },
  {
   "cell_type": "markdown",
   "source": [
    "## 3.3iv筛选"
   ],
   "metadata": {
    "collapsed": false
   }
  },
  {
   "cell_type": "code",
   "execution_count": 115,
   "outputs": [],
   "source": [
    "var_num = [x for x in var_num[1:] if sc_iv.loc[x][0] > 0.02 and sc_iv.loc[x][0] <1.2 ]"
   ],
   "metadata": {
    "collapsed": false
   }
  },
  {
   "cell_type": "code",
   "execution_count": 116,
   "outputs": [
    {
     "data": {
      "text/plain": "['RevolvingUtilizationOfUnsecuredLines',\n 'age',\n 'NumberOfTime30-59DaysPastDueNotWorse',\n 'DebtRatio',\n 'MonthlyIncome',\n 'NumberOfOpenCreditLinesAndLoans',\n 'NumberOfTimes90DaysLate',\n 'NumberRealEstateLoansOrLines',\n 'NumberOfDependents']"
     },
     "execution_count": 116,
     "metadata": {},
     "output_type": "execute_result"
    }
   ],
   "source": [
    "var_num"
   ],
   "metadata": {
    "collapsed": false
   }
  },
  {
   "cell_type": "code",
   "execution_count": null,
   "outputs": [],
   "source": [],
   "metadata": {
    "collapsed": false
   }
  }
 ],
 "metadata": {
  "kernelspec": {
   "display_name": "Python 3",
   "language": "python",
   "name": "python3"
  },
  "language_info": {
   "codemirror_mode": {
    "name": "ipython",
    "version": 2
   },
   "file_extension": ".py",
   "mimetype": "text/x-python",
   "name": "python",
   "nbconvert_exporter": "python",
   "pygments_lexer": "ipython2",
   "version": "2.7.6"
  }
 },
 "nbformat": 4,
 "nbformat_minor": 0
}
